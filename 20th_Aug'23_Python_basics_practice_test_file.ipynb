{
  "nbformat": 4,
  "nbformat_minor": 0,
  "metadata": {
    "colab": {
      "provenance": []
    },
    "kernelspec": {
      "name": "python3",
      "display_name": "Python 3"
    },
    "language_info": {
      "name": "python"
    }
  },
  "cells": [
    {
      "cell_type": "markdown",
      "source": [
        "# **TOPIC: String Based Assignment Problem**"
      ],
      "metadata": {
        "id": "7KAHsefUXpfN"
      }
    },
    {
      "cell_type": "markdown",
      "source": [
        "## 1. Write a program to reverse a string"
      ],
      "metadata": {
        "id": "prqmPvByYnLR"
      }
    },
    {
      "cell_type": "code",
      "source": [
        "input_text = \"Hello India\"[::-1]\n",
        "print(input_text)"
      ],
      "metadata": {
        "colab": {
          "base_uri": "https://localhost:8080/"
        },
        "id": "j-UE59Zc7utn",
        "outputId": "3b63c696-16fe-4535-852e-6064ab4921f1"
      },
      "execution_count": null,
      "outputs": [
        {
          "output_type": "stream",
          "name": "stdout",
          "text": [
            "aidnI olleH\n"
          ]
        }
      ]
    },
    {
      "cell_type": "markdown",
      "source": [
        "## 2. Check if a string is a palindrome."
      ],
      "metadata": {
        "id": "Bmb-zykmYiFq"
      }
    },
    {
      "cell_type": "code",
      "source": [
        " # function which return reverse of a string\n",
        "\n",
        " def isPalindrome(s):\n",
        "  return s == s[::-1]\n",
        "\n",
        "\n",
        " # Driver code\n",
        " s = \"malayalam\"\n",
        " ans = isPalindrome(s)\n",
        "\n",
        "if ans:\n",
        "    print(\"Yes\")\n",
        " else:\n",
        "    print(\"No\")"
      ],
      "metadata": {
        "colab": {
          "base_uri": "https://localhost:8080/"
        },
        "id": "4imHqOTxB-oO",
        "outputId": "2131ef0e-5998-477f-e6c5-b1478417bd1e"
      },
      "execution_count": null,
      "outputs": [
        {
          "output_type": "stream",
          "name": "stdout",
          "text": [
            "Yes\n"
          ]
        }
      ]
    },
    {
      "cell_type": "markdown",
      "source": [
        "## 3. Convert a string to uppercase."
      ],
      "metadata": {
        "id": "E30BsNGZYVe4"
      }
    },
    {
      "cell_type": "code",
      "source": [
        "input_string = input(\"Enter the string\")\n",
        "uppercase_string = input_string.upper()\n",
        "print(\"Uppercase string:\", uppercase_string)"
      ],
      "metadata": {
        "colab": {
          "base_uri": "https://localhost:8080/"
        },
        "id": "ZhrCDgmKYbpk",
        "outputId": "014b94b8-dffc-449d-ca4c-9c26cf15994b"
      },
      "execution_count": null,
      "outputs": [
        {
          "output_type": "stream",
          "name": "stdout",
          "text": [
            "Enter the string abhishek\n",
            "Uppercase string:  ABHISHEK\n"
          ]
        }
      ]
    },
    {
      "cell_type": "markdown",
      "source": [
        "## 4. Convert a string to lowercase."
      ],
      "metadata": {
        "id": "DZFPOKiuYa10"
      }
    },
    {
      "cell_type": "code",
      "source": [
        "input_string = input(\"Enter the string\")\n",
        "lowercase_string = input_string.lower()\n",
        "print(\"lowercase string:\", lowercase_string)"
      ],
      "metadata": {
        "colab": {
          "base_uri": "https://localhost:8080/"
        },
        "id": "RU_cjnpFbBrO",
        "outputId": "f64bda50-37aa-4a00-ddf9-e0bae6bf79fb"
      },
      "execution_count": null,
      "outputs": [
        {
          "output_type": "stream",
          "name": "stdout",
          "text": [
            "Enter the string ABHISHEK1234\n",
            "lowercase string:  abhishek1234\n"
          ]
        }
      ]
    },
    {
      "cell_type": "markdown",
      "source": [
        "## 5. Count the number of vowels in a string."
      ],
      "metadata": {
        "id": "f8sWvlDHcFQh"
      }
    },
    {
      "cell_type": "code",
      "source": [
        "def count_vowel(string):\n",
        "  vowel_count = 0\n",
        "  string = string.lower()\n",
        "  vowels = set(\"aeiou\")\n",
        "  for char in string:\n",
        "    if char in string:\n",
        "      if char in vowels:\n",
        "          vowel_count += 1\n",
        "\n",
        "  return vowel_count\n",
        "\n",
        "input_string = \"newdelhi\"\n",
        "result = count_vowel(input_string)\n",
        "print(\"Number of vowels:\", result)"
      ],
      "metadata": {
        "colab": {
          "base_uri": "https://localhost:8080/"
        },
        "id": "DWB0FaffcLcE",
        "outputId": "cb99fc79-ca3a-415f-e585-46ece7083d77"
      },
      "execution_count": null,
      "outputs": [
        {
          "output_type": "stream",
          "name": "stdout",
          "text": [
            "Number of vowels: 3\n"
          ]
        }
      ]
    },
    {
      "cell_type": "markdown",
      "source": [
        "## 6. Count the number of consonants in a string."
      ],
      "metadata": {
        "id": "zcMbfQk3jPuw"
      }
    },
    {
      "cell_type": "code",
      "source": [
        "def count_consonants(string):\n",
        "  consonants_count = 0\n",
        "  consonants = \"bcdfghjklmnpqrstvwxyzBCDFGHJKLMNPQRSTVWXYZ\"\n",
        "  for char in string:\n",
        "    if char in consonants:\n",
        "      consonants_count += 1\n",
        "\n",
        "  return consonants_count\n",
        "\n",
        "\n",
        "input_string = input(\"Enter a string: \")\n",
        "\n",
        "result = count_consonants(input_string)\n",
        "print(\"Number of consonants:\", result)"
      ],
      "metadata": {
        "colab": {
          "base_uri": "https://localhost:8080/"
        },
        "id": "YPtM8PjSoj8w",
        "outputId": "c94382eb-e8ee-4520-c1f3-dae5adabc1e4"
      },
      "execution_count": null,
      "outputs": [
        {
          "output_type": "stream",
          "name": "stdout",
          "text": [
            "Enter a string: INDIAN\n",
            "Number of consonants: 3\n"
          ]
        }
      ]
    },
    {
      "cell_type": "markdown",
      "source": [
        "## 7. Remove all whitespaces from a string."
      ],
      "metadata": {
        "id": "b4Mq7xW27lE6"
      }
    },
    {
      "cell_type": "code",
      "source": [
        "def remove_whitespace(input_string):\n",
        "  result = \"\"\n",
        "  for char in input_string:\n",
        "    if char != \" \":\n",
        "      result += char\n",
        "\n",
        "  return result\n",
        "\n",
        "input_string = \" Hello Abhishek! how are you ?\"\n",
        "output_string = remove_whitespace(input_string)\n",
        "print(output_string)"
      ],
      "metadata": {
        "colab": {
          "base_uri": "https://localhost:8080/"
        },
        "id": "UKFVOjel7pR6",
        "outputId": "55f660b7-a18a-47e3-83b2-dbd145c408f7"
      },
      "execution_count": null,
      "outputs": [
        {
          "output_type": "stream",
          "name": "stdout",
          "text": [
            "HelloAbhishek!howareyou?\n"
          ]
        }
      ]
    },
    {
      "cell_type": "markdown",
      "source": [
        "## 8. Find the length of a string without using the `len()` function."
      ],
      "metadata": {
        "id": "-QSXTHtgN2fM"
      }
    },
    {
      "cell_type": "code",
      "source": [
        "count = 0\n",
        "\n",
        "for char in input_string:\n",
        "  count += 1\n",
        "\n",
        "print(\"The length of the string is: \", count)"
      ],
      "metadata": {
        "colab": {
          "base_uri": "https://localhost:8080/"
        },
        "id": "oRII1Q3BN6Fy",
        "outputId": "040a1a0f-597b-4edd-822d-6c7c57e6a0f6"
      },
      "execution_count": null,
      "outputs": [
        {
          "output_type": "stream",
          "name": "stdout",
          "text": [
            "The length of the string is:  30\n"
          ]
        }
      ]
    },
    {
      "cell_type": "markdown",
      "source": [
        "## 9. Check if a string contains a specific word."
      ],
      "metadata": {
        "id": "YZknXrCOnAxE"
      }
    },
    {
      "cell_type": "code",
      "source": [
        "input_string = input(\"Enter the string:\")\n",
        "specific_word = input(\"Enter the specific word to check for : \")\n",
        "\n",
        "if specific_word in input_string :\n",
        "  print (f\"the string contains word '{specific_word}'.\")\n",
        "else:\n",
        "    print(f\"The string does not contain the word'{specific_word}'.\")"
      ],
      "metadata": {
        "colab": {
          "base_uri": "https://localhost:8080/"
        },
        "id": "nbuTn_iZnFPr",
        "outputId": "4bc661f5-b631-42a6-82f2-4e584a79622e"
      },
      "execution_count": null,
      "outputs": [
        {
          "output_type": "stream",
          "name": "stdout",
          "text": [
            "Enter the string: my name is Abhishek and I am studying data science \n",
            "Enter the specific word to check for : united\n",
            "The string does not contain the word'united'.\n"
          ]
        }
      ]
    },
    {
      "cell_type": "markdown",
      "source": [
        "## 10. Replace a word in a string with another word."
      ],
      "metadata": {
        "id": "fNl7RE7tuWcW"
      }
    },
    {
      "cell_type": "code",
      "source": [
        "input_string = input (\"Enter a sentence :\")\n",
        "old_word = input(\"Enter the word to be replaced: \")\n",
        "new_word = input(\"Enter the new word: \")\n",
        "\n",
        "modified_string = input_string.replace(old_word, new_word)\n",
        "print(\"modified string:\", modified_string)"
      ],
      "metadata": {
        "colab": {
          "base_uri": "https://localhost:8080/"
        },
        "id": "KaPLtwM7uaOr",
        "outputId": "05096bd7-caf2-426d-c153-c6bcec74bab9"
      },
      "execution_count": null,
      "outputs": [
        {
          "output_type": "stream",
          "name": "stdout",
          "text": [
            "Enter a sentence :Good evening \n",
            "Enter the word to be replaced: evening\n",
            "Enter the new word: morning\n",
            "modified string: Good morning \n"
          ]
        }
      ]
    },
    {
      "cell_type": "markdown",
      "source": [
        "## 11. Count the occurrences of a word in a string."
      ],
      "metadata": {
        "id": "Yd9FrWwbxKZC"
      }
    },
    {
      "cell_type": "code",
      "source": [
        "def count_word_occurrences(input_string, target_word):\n",
        "  word_count = 0\n",
        "  word = input_string.split()\n",
        "  for word in word:\n",
        "    if word == target_word:\n",
        "      word_count += 1\n",
        "\n",
        "  return word_count\n",
        "\n",
        "input_string = \"this is a complex sentence. This sentence contain the word 'complex' multiple times.\"\n",
        "target_word = \"complex\"\n",
        "\n",
        "target_word = \"complex\"\n",
        "\n",
        "result = count_word_occurrences(input_string, target_word)\n",
        "print(f\"The word '{target_word}' appears {result} times in the input string.\")"
      ],
      "metadata": {
        "colab": {
          "base_uri": "https://localhost:8080/"
        },
        "id": "CBDwb2AfxNhq",
        "outputId": "14581deb-4933-4563-8d52-a33301969337"
      },
      "execution_count": null,
      "outputs": [
        {
          "output_type": "stream",
          "name": "stdout",
          "text": [
            "The word 'complex' appears 1 times in the input string.\n"
          ]
        }
      ]
    },
    {
      "cell_type": "markdown",
      "source": [
        "## 12. Find the first occurrence of a word in a string."
      ],
      "metadata": {
        "id": "dVLMgU045EUs"
      }
    },
    {
      "cell_type": "code",
      "source": [
        "def find_first_occurrence(text, word) :\n",
        "  index = text.find(word)\n",
        "  if index == -1:\n",
        "    return None\n",
        "\n",
        "  return index\n",
        "\n",
        "text = \"This is a passive sentence. this sentence contains the word passive\"\n",
        "word = \"passive\"\n",
        "result = find_first_occurrence(text, word)\n",
        "print(\"Index of the first occurance:\", result)"
      ],
      "metadata": {
        "colab": {
          "base_uri": "https://localhost:8080/"
        },
        "id": "vOAiznjE5L7L",
        "outputId": "24f0a905-f870-4f16-ee58-67e501926f15"
      },
      "execution_count": null,
      "outputs": [
        {
          "output_type": "stream",
          "name": "stdout",
          "text": [
            "Index of the first occurance: 10\n"
          ]
        }
      ]
    },
    {
      "cell_type": "markdown",
      "source": [
        "## 13. Find the last occurrence of a word in a string."
      ],
      "metadata": {
        "id": "qvoyXYKRJiui"
      }
    },
    {
      "cell_type": "code",
      "source": [
        "def find_last_occurrence(text, word) :\n",
        "  index = text.rfind(word)\n",
        "  if index == -1:\n",
        "    return None\n",
        "\n",
        "  return index\n",
        "\n",
        "text = \"This is a passive sentence. this sentence contains the word passive\"\n",
        "word = \"passive\"\n",
        "result = find_last_occurrence(text, word)\n",
        "print(\"Index of the last occurance:\", result)"
      ],
      "metadata": {
        "colab": {
          "base_uri": "https://localhost:8080/"
        },
        "id": "ckCm0Oz9JrCC",
        "outputId": "c167c81e-08f6-49d6-a503-41857b451bdd"
      },
      "execution_count": null,
      "outputs": [
        {
          "output_type": "stream",
          "name": "stdout",
          "text": [
            "Index of the last occurance: 60\n"
          ]
        }
      ]
    },
    {
      "cell_type": "markdown",
      "source": [
        "## 14. Split a string into a list of words."
      ],
      "metadata": {
        "id": "oq5VsgXGPft_"
      }
    },
    {
      "cell_type": "code",
      "source": [
        "def split_string_into_words(text):\n",
        "  words_list = text.split()\n",
        "\n",
        "  return words_list\n",
        "\n",
        "text = \"this is a complex sentence.\"\n",
        "words = split_string_into_words(text)\n",
        "print(\"List of words:\", words)"
      ],
      "metadata": {
        "colab": {
          "base_uri": "https://localhost:8080/"
        },
        "id": "nQGivzeXPkEt",
        "outputId": "0a647e80-2bc6-4a23-8117-19d94f1cd018"
      },
      "execution_count": null,
      "outputs": [
        {
          "output_type": "stream",
          "name": "stdout",
          "text": [
            "List of words: ['this', 'is', 'a', 'complex', 'sentence.']\n"
          ]
        }
      ]
    },
    {
      "cell_type": "markdown",
      "source": [
        "## 15. Join a list of words into a string."
      ],
      "metadata": {
        "id": "0sDz7P5lRmVH"
      }
    },
    {
      "cell_type": "code",
      "source": [
        "def join_words_into_string(words_list):\n",
        "   joined_string = ' '.join(words_list)\n",
        "\n",
        "   return joined_string\n",
        "\n",
        "words = [\"This\", \"is\", \"a\", \"complex\",\"sentence.\"]\n",
        "text = join_words_into_string(words)\n",
        "print(\"joined String:\", text)\n"
      ],
      "metadata": {
        "colab": {
          "base_uri": "https://localhost:8080/"
        },
        "id": "4CnUAnv_Rpvb",
        "outputId": "e2c0800e-b742-48b4-e533-2b66afe258a5"
      },
      "execution_count": null,
      "outputs": [
        {
          "output_type": "stream",
          "name": "stdout",
          "text": [
            "joined String: This is a complex sentence.\n"
          ]
        }
      ]
    },
    {
      "cell_type": "markdown",
      "source": [
        "## 16. Convert a string where words are separated by spaces to one where words are separated by underscores."
      ],
      "metadata": {
        "id": "tpB-w4nbVOQN"
      }
    },
    {
      "cell_type": "code",
      "source": [
        "def convert_to_underscore_seperated(text):\n",
        "  underscore_seperated = text.replace(\" \", \"_\")\n",
        "\n",
        "  return underscore_seperated\n",
        "\n",
        "text = \"This is an itrogative sentence.\"\n",
        "converted_text = convert_to_underscore_seperated(text)\n",
        "print(\"Converted text:\", converted_text)\n",
        "\n"
      ],
      "metadata": {
        "colab": {
          "base_uri": "https://localhost:8080/"
        },
        "id": "bUYiSPDBbzgJ",
        "outputId": "e6f681fa-982d-4f00-b6d6-5198fc600a7c"
      },
      "execution_count": null,
      "outputs": [
        {
          "output_type": "stream",
          "name": "stdout",
          "text": [
            "Converted text: This_is_an_itrogative_sentence.\n"
          ]
        }
      ]
    },
    {
      "cell_type": "markdown",
      "source": [
        "## 17. Check if a string starts with a specific word or phrase."
      ],
      "metadata": {
        "id": "xCZ-XouztY7T"
      }
    },
    {
      "cell_type": "code",
      "source": [
        "def start_with_word(input_string,target_word):\n",
        "  return input_string.startswith(target_word)\n",
        "\n",
        "input_string = \"how are you\"\n",
        "target_word = \"how\"\n",
        "\n",
        "if start_with_word(input_string, target_word):\n",
        "    print(f\"the string start with '{target_word}'.\")\n",
        "else:\n",
        "    print (f\"the string does not start with '{target_word}'.\")"
      ],
      "metadata": {
        "colab": {
          "base_uri": "https://localhost:8080/"
        },
        "id": "xGPNiYKBt4uw",
        "outputId": "f5b1bbe9-0c47-4684-943f-9d226a6d9cc7"
      },
      "execution_count": null,
      "outputs": [
        {
          "output_type": "stream",
          "name": "stdout",
          "text": [
            "the string start with 'how'.\n"
          ]
        }
      ]
    },
    {
      "cell_type": "markdown",
      "source": [
        "## 18. Check if a string ends with a specific word or phrase."
      ],
      "metadata": {
        "id": "ZHJcUaACxLo4"
      }
    },
    {
      "cell_type": "code",
      "source": [
        "def end_with_word(input_string,target_word):\n",
        "  return input_string.endswith(target_word)\n",
        "\n",
        "input_string = \"how are you?\"\n",
        "target_word = \"you\"\n",
        "\n",
        "if end_with_word(input_string, target_word):\n",
        "    print(f\"the string end with '{target_word}'.\")\n",
        "else:\n",
        "    print (f\"the string does not end with '{target_word}'.\")"
      ],
      "metadata": {
        "colab": {
          "base_uri": "https://localhost:8080/"
        },
        "id": "eTCLEBA7w68o",
        "outputId": "55504b33-a46b-4a75-aa2c-a58bedc36931"
      },
      "execution_count": null,
      "outputs": [
        {
          "output_type": "stream",
          "name": "stdout",
          "text": [
            "the string does not end with 'you'.\n"
          ]
        }
      ]
    },
    {
      "cell_type": "markdown",
      "source": [
        "## 19. Convert a string to title case (e.g., \"hello world\" to \"Hello World\")."
      ],
      "metadata": {
        "id": "SI5yE1W1yb76"
      }
    },
    {
      "cell_type": "code",
      "source": [
        "def to_title_case(input_string):\n",
        "  return input_string.title()\n",
        "\n",
        "#Example usage :\n",
        "input_string = \"hello world\"\n",
        "title_case_string = to_title_case(input_string)\n",
        "\n",
        "print (f\"Original string : {input_string}\")\n",
        "print(f\"Title case string : {title_case_string}\")"
      ],
      "metadata": {
        "colab": {
          "base_uri": "https://localhost:8080/"
        },
        "id": "pSUypYhUzA74",
        "outputId": "27630a6f-34cc-4d22-fa8e-849e6858eb92"
      },
      "execution_count": null,
      "outputs": [
        {
          "output_type": "stream",
          "name": "stdout",
          "text": [
            "Original string : hello world\n",
            "Title case string : Hello World\n"
          ]
        }
      ]
    },
    {
      "cell_type": "markdown",
      "source": [
        "## 20. Find the longest word in a string."
      ],
      "metadata": {
        "id": "ALpr5ztL09uh"
      }
    },
    {
      "cell_type": "code",
      "source": [
        "def find_longest_word(text):\n",
        "  words = text.split()\n",
        "\n",
        "  longest_word = \"\"\n",
        "  max_length = 0\n",
        "\n",
        "  for word in words:\n",
        "    if len(word) > max_length:\n",
        "      max_length = len(word)\n",
        "      longest_word = word\n",
        "  return longest_word\n",
        "\n",
        "#Example usage\n",
        "text =  \"India is the country and its capital is Newdelhi\"\n",
        "longest_word = find_longest_word(text)\n",
        "print(\"Longest word:\", longest_word)"
      ],
      "metadata": {
        "colab": {
          "base_uri": "https://localhost:8080/"
        },
        "id": "h7Kz9web41MQ",
        "outputId": "434b1977-910d-40bb-b1dc-8f23b6d8f484"
      },
      "execution_count": null,
      "outputs": [
        {
          "output_type": "stream",
          "name": "stdout",
          "text": [
            "Longest word: Newdelhi\n"
          ]
        }
      ]
    },
    {
      "cell_type": "markdown",
      "source": [
        "## 21. Find the shortest word in a string."
      ],
      "metadata": {
        "id": "r0aQI4bEDIED"
      }
    },
    {
      "cell_type": "code",
      "source": [
        "def find_shortest_word(text):\n",
        "  words = text.split()\n",
        "\n",
        "  shortest_word = None\n",
        "  min_length = float('inf')\n",
        "\n",
        "  for word in words:\n",
        "    if len(word) < min_length:\n",
        "      min_length = len(word)\n",
        "      shortest_word = word\n",
        "  return shortest_word\n",
        "\n",
        "#Example usage\n",
        "text =  \"India is the country and its capital is Newdelhi\"\n",
        "shortest_word = find_shortest_word(text)\n",
        "print(\"shortest word:\", shortest_word)"
      ],
      "metadata": {
        "colab": {
          "base_uri": "https://localhost:8080/"
        },
        "id": "TbywNS8DD1sZ",
        "outputId": "90117356-aa7a-43bf-e516-545cf9ef4a4b"
      },
      "execution_count": null,
      "outputs": [
        {
          "output_type": "stream",
          "name": "stdout",
          "text": [
            "shortest word: is\n"
          ]
        }
      ]
    },
    {
      "cell_type": "markdown",
      "source": [
        "## 22. Reverse the order of words in a string."
      ],
      "metadata": {
        "id": "P0gmSHl9EyQe"
      }
    },
    {
      "cell_type": "code",
      "source": [
        "def reverse_words_order(input_string):\n",
        "  words = input_string.split()\n",
        "  reversed_words = ' '.join(reversed(words))\n",
        "  return reversed_words\n",
        "\n",
        "#example usage:\n",
        "input_string = \"My name is Abhishek\"\n",
        "\n",
        "reversed_string = reverse_words_order(input_string)\n",
        "\n",
        "print(f\"original string :{input_string}\")\n",
        "print(f'Reverse string : {reversed_string}')"
      ],
      "metadata": {
        "colab": {
          "base_uri": "https://localhost:8080/"
        },
        "id": "yVHrxQBbFEkZ",
        "outputId": "70ec0704-e181-4800-ff97-358c16b43f96"
      },
      "execution_count": null,
      "outputs": [
        {
          "output_type": "stream",
          "name": "stdout",
          "text": [
            "original string :My name is Abhishek\n",
            "Reverse string : Abhishek is name My\n"
          ]
        }
      ]
    },
    {
      "cell_type": "markdown",
      "source": [
        "## 23. Check if a string is alphanumeric."
      ],
      "metadata": {
        "id": "mAXeY20WI6Ov"
      }
    },
    {
      "cell_type": "code",
      "source": [
        "def is_alphanumeric(input_string):\n",
        "  return input_string.isalnum()\n",
        "\n",
        "#Example usage\n",
        "test_string1 = \"HelloWorld123\"\n",
        "test_string2 = \"Edition@123\"\n",
        "\n",
        "if is_alphanumeric(test_string1):\n",
        "  print(f\"{test_string1} is alphanumeric.\")\n",
        "else :\n",
        "  print(f\"{test_string1} is not alphanumeric.\")\n",
        "\n",
        "if is_alphanumeric(test_string2):\n",
        "  print(f\"{test_string2} is alphanumeric.\")\n",
        "else :\n",
        "  print(f\"{test_string2} is not alphanumeric.\")\n"
      ],
      "metadata": {
        "colab": {
          "base_uri": "https://localhost:8080/"
        },
        "id": "9nzcFJXBJ7Kf",
        "outputId": "d4922cd3-5c8d-4b4c-fade-ff82d7932d54"
      },
      "execution_count": null,
      "outputs": [
        {
          "output_type": "stream",
          "name": "stdout",
          "text": [
            "HelloWorld123 is alphanumeric.\n",
            "Edition@123 is not alphanumeric.\n"
          ]
        }
      ]
    },
    {
      "cell_type": "markdown",
      "source": [
        "## 24. Extract all digits from a string."
      ],
      "metadata": {
        "id": "h64RJl57Q8qQ"
      }
    },
    {
      "cell_type": "code",
      "source": [
        "def extract_digits(text):\n",
        "  digit = \"\"\n",
        "  for char in text :\n",
        "    if char.isdigit():\n",
        "      digit += char\n",
        "  return digit\n",
        "\n",
        "#example usage\n",
        "text = \"Abhishek1234Abhishek4567\"\n",
        "extracted_digits = extract_digits(text)\n",
        "print (\"Extracted digit :\",extracted_digits )"
      ],
      "metadata": {
        "colab": {
          "base_uri": "https://localhost:8080/"
        },
        "id": "ahjgTSG_RVwr",
        "outputId": "2ecc3ead-5681-4c6c-f521-6b32f9ebc129"
      },
      "execution_count": null,
      "outputs": [
        {
          "output_type": "stream",
          "name": "stdout",
          "text": [
            "Extracted digit : 12344567\n"
          ]
        }
      ]
    },
    {
      "cell_type": "markdown",
      "source": [
        "## 25. Extract all alphabets from a string."
      ],
      "metadata": {
        "id": "PA2FQdGCS39s"
      }
    },
    {
      "cell_type": "code",
      "source": [
        "def extract_alphabets(input_string):\n",
        "  return ''.join(char for char in input_string if char.isalpha())\n",
        "\n",
        "#Example usage\n",
        "input_string = \"The price of the shirt is $345.12 in this shop\"\n",
        "\n",
        "alphabets = extract_alphabets(input_string)\n",
        "\n",
        "print(f\"the extracted alphabets are :{alphabets}\")"
      ],
      "metadata": {
        "colab": {
          "base_uri": "https://localhost:8080/"
        },
        "id": "kdPIoorsTbcY",
        "outputId": "a977f119-1415-4764-c17d-21c3f55c4306"
      },
      "execution_count": null,
      "outputs": [
        {
          "output_type": "stream",
          "name": "stdout",
          "text": [
            "the extracted alphabets are :Thepriceoftheshirtisinthisshop\n"
          ]
        }
      ]
    },
    {
      "cell_type": "markdown",
      "source": [
        "### 26. Count the number of uppercase letters in a string."
      ],
      "metadata": {
        "id": "qzBVmFjNUgOm"
      }
    },
    {
      "cell_type": "code",
      "source": [
        "def count_uppercase_letters(input_string):\n",
        "  count = 0\n",
        "  for char in input_string:\n",
        "    if char.isupper():\n",
        "      count += 1\n",
        "  return count\n",
        "\n",
        "#example usage\n",
        "input_string = \" Hello World! This is an India.\"\n",
        "uppercase_count = count_uppercase_letters(input_string)\n",
        "\n",
        "print (f\"The number of uppercase letter is : {uppercase_count}\")"
      ],
      "metadata": {
        "colab": {
          "base_uri": "https://localhost:8080/"
        },
        "id": "q0Mw38drU2Bc",
        "outputId": "412aaa18-013f-4cac-ab24-dc6e94b1c55e"
      },
      "execution_count": null,
      "outputs": [
        {
          "output_type": "stream",
          "name": "stdout",
          "text": [
            "The number of uppercase letter is : 4\n"
          ]
        }
      ]
    },
    {
      "cell_type": "markdown",
      "source": [
        "## 27. Count the number of lowercase letters in a string."
      ],
      "metadata": {
        "id": "JWdrivTabO9x"
      }
    },
    {
      "cell_type": "code",
      "source": [
        "def count_lowercase_letters(input_string):\n",
        "  count = 0\n",
        "  for char in input_string:\n",
        "    if char.islower():\n",
        "      count += 1\n",
        "  return count\n",
        "\n",
        "#example usage\n",
        "input_string = \" Hello World! This is an India.\"\n",
        "lowercase_count = count_lowercase_letters(input_string)\n",
        "\n",
        "print (f\"The number of lowercase letter is : {lowercase_count}\")"
      ],
      "metadata": {
        "colab": {
          "base_uri": "https://localhost:8080/"
        },
        "id": "Wbrlq7FAawwN",
        "outputId": "34137545-47a5-49f4-8e39-c88305eb6b73"
      },
      "execution_count": null,
      "outputs": [
        {
          "output_type": "stream",
          "name": "stdout",
          "text": [
            "The number of lowercase letter is : 19\n"
          ]
        }
      ]
    },
    {
      "cell_type": "markdown",
      "source": [
        "## 28. Swap the case of each character in a string."
      ],
      "metadata": {
        "id": "HHkZBdFBkNwx"
      }
    },
    {
      "cell_type": "code",
      "source": [
        "def swap_case (input_string):\n",
        "  return input_string.swapcase()\n",
        "\n",
        "#example usage\n",
        "input_string = \"Hey, I am AbhiShek, I lived in BENGALURU\"\n",
        "swapped_string = swap_case(input_string)\n",
        "\n",
        "print(f\"Original string : {input_string}\")\n",
        "print(f\"Swapped case string : {swapped_string}\")"
      ],
      "metadata": {
        "colab": {
          "base_uri": "https://localhost:8080/"
        },
        "id": "xc5bZOY6kfqV",
        "outputId": "c998b2d5-afb9-42b2-ec19-b656df90bec1"
      },
      "execution_count": null,
      "outputs": [
        {
          "output_type": "stream",
          "name": "stdout",
          "text": [
            "Original string : Hey, I am AbhiShek, I lived in BENGALURU\n",
            "Swapped case string : hEY, i AM aBHIsHEK, i LIVED IN bengaluru\n"
          ]
        }
      ]
    },
    {
      "cell_type": "markdown",
      "source": [
        "## 29. Remove a specific word from a string."
      ],
      "metadata": {
        "id": "NncijfU5oh3z"
      }
    },
    {
      "cell_type": "code",
      "source": [
        "def remove_word(input_string, word_to_remove):\n",
        "  return input_string.replace(word_to_remove, '')\n",
        "\n",
        "#Example usage:\n",
        "input_string = \"India is my country. All Indians are my brothers and sisters\"\n",
        "\n",
        "word_to_remove = 'sisters'\n",
        "modified_string = remove_word(input_string, word_to_remove)\n",
        "\n",
        "print(f\"original string: {input_string}\")\n",
        "print(f\"string after removing '{word_to_remove}': {modified_string}\")"
      ],
      "metadata": {
        "colab": {
          "base_uri": "https://localhost:8080/"
        },
        "id": "qSCSLw28qQZj",
        "outputId": "d00be16a-654a-4182-d0cd-d12cf1ff0c8e"
      },
      "execution_count": null,
      "outputs": [
        {
          "output_type": "stream",
          "name": "stdout",
          "text": [
            "original string: India is my country. All Indians are my brothers and sisters\n",
            "string after removing 'sisters': India is my country. All Indians are my brothers and \n"
          ]
        }
      ]
    },
    {
      "cell_type": "markdown",
      "source": [
        "## 30. Check if a string is a valid email address."
      ],
      "metadata": {
        "id": "wEz5TUBEsyar"
      }
    },
    {
      "cell_type": "code",
      "source": [
        "import re\n",
        "\n",
        "def is_valid_email(email):\n",
        "  pattern = r'^[a-zA-Z0-9._%+-]+@[a-zA-Z0-9.-]+\\.[a-zA-Z]{2,}$'\n",
        "  match = re.match(pattern, email)\n",
        "\n",
        "  return match is not None\n",
        "\n",
        "#example usage\n",
        "email1 = \"user@example.com\"\n",
        "email2 = \"invalid-email\"\n",
        "email3 = \"user@subdomin.example.co.ik\"\n",
        "\n",
        "print(f\"Is '{email1}' a valid email? {is_valid_email(email1)}\")\n",
        "print(f\"Is '{email2}' a valid email? {is_valid_email(email2)}\")\n",
        "print(f\"Is '{email3}' a valid email? {is_valid_email(email3)}\")"
      ],
      "metadata": {
        "colab": {
          "base_uri": "https://localhost:8080/"
        },
        "id": "wr7Tti14uBKV",
        "outputId": "d05a20bc-00fc-4634-aa6a-b84e624ddc30"
      },
      "execution_count": null,
      "outputs": [
        {
          "output_type": "stream",
          "name": "stdout",
          "text": [
            "Is 'user@example.com' a valid email? True\n",
            "Is 'invalid-email' a valid email? False\n",
            "Is 'user@subdomin.example.co.ik' a valid email? True\n"
          ]
        }
      ]
    },
    {
      "cell_type": "markdown",
      "source": [
        "## 31. Extract the username from an email address string."
      ],
      "metadata": {
        "id": "b_RZoytslxd4"
      }
    },
    {
      "cell_type": "code",
      "source": [
        "def extract_protocol(url):\n",
        "  protocol_end = url.find(\":/\")\n",
        "\n",
        "  if protocol_end != -1:\n",
        "    protocol = url[:protocol_end]\n",
        "    return protocol\n",
        "  else :\n",
        "    return None\n",
        "\n",
        "#Example URL strings\n",
        "url1 = \"https://wikipedia.com\"\n",
        "url2 = \"http://google.com\"\n",
        "url3 = \"ftp://example.com\"\n",
        "\n",
        "#Extract protocols\n",
        "protocol1 = extract_protocol(url1)\n",
        "protocol2 = extract_protocol(url2)\n",
        "protocol3 = extract_protocol(url3)\n",
        "\n",
        "#print extracted protocols\n",
        "print(\"Protocol 1 :\", protocol1)\n",
        "print(\"Protocol 2 :\", protocol2)\n",
        "print(\"Protocol 3 :\", protocol3)"
      ],
      "metadata": {
        "colab": {
          "base_uri": "https://localhost:8080/"
        },
        "id": "jwBvRbQhmwtb",
        "outputId": "80b0dfdb-3154-47ce-8406-01693cfad3d5"
      },
      "execution_count": null,
      "outputs": [
        {
          "output_type": "stream",
          "name": "stdout",
          "text": [
            "Protocol 1 : https\n",
            "Protocol 2 : http\n",
            "Protocol 3 : ftp\n"
          ]
        }
      ]
    },
    {
      "cell_type": "markdown",
      "source": [
        "## 32. Extract the domain name from an email address string."
      ],
      "metadata": {
        "id": "K4iOMQFyrEOq"
      }
    },
    {
      "cell_type": "code",
      "source": [
        "def extract_domain(email):\n",
        "  domain = email.split('@')[1]\n",
        "  return domain\n",
        "\n",
        "email = \"Abhishek@email.com\"\n",
        "result = extract_domain(email)\n",
        "print(result)"
      ],
      "metadata": {
        "colab": {
          "base_uri": "https://localhost:8080/"
        },
        "id": "gxNE74Snrw7g",
        "outputId": "fc2ae702-559a-4da1-acd0-edc51d7375fc"
      },
      "execution_count": null,
      "outputs": [
        {
          "output_type": "stream",
          "name": "stdout",
          "text": [
            "email.com\n"
          ]
        }
      ]
    },
    {
      "cell_type": "markdown",
      "source": [
        "## 33. Replace multiple spaces in a string with a single space."
      ],
      "metadata": {
        "id": "XkIR4zSS-Ttv"
      }
    },
    {
      "cell_type": "code",
      "source": [
        "def replace_multiple_spaces(input_string):\n",
        "  cleaned_string = ' '.join(input_string.split())\n",
        "  return cleaned_string\n",
        "\n",
        "input_string = \"Hello       Abhishek! How     Are   You?\"\n",
        "result = replace_multiple_spaces(input_string)\n",
        "print(result)"
      ],
      "metadata": {
        "colab": {
          "base_uri": "https://localhost:8080/"
        },
        "id": "4UGYuivO_Npq",
        "outputId": "a3a32173-14b7-448e-937c-18b4e47236e8"
      },
      "execution_count": null,
      "outputs": [
        {
          "output_type": "stream",
          "name": "stdout",
          "text": [
            "Hello Abhishek! How Are You?\n"
          ]
        }
      ]
    },
    {
      "cell_type": "markdown",
      "source": [
        "### 34. Check if a string is a valid URL."
      ],
      "metadata": {
        "id": "E4lPqVVTDkmz"
      }
    },
    {
      "cell_type": "code",
      "source": [
        "from urllib.parse import urlparse\n",
        "\n",
        "def is_valid_url(url):\n",
        "  try :\n",
        "    result = urlparse(url)\n",
        "    return all([result.scheme, result.netloc])\n",
        "  except ValueError :\n",
        "    return False\n",
        "\n",
        "#Example URLs\n",
        "url1 = \"https://www.example.com\"\n",
        "url2 = \"invalid-url\"\n",
        "result1 = is_valid_url(url1)\n",
        "result2 = is_valid_url(url2)\n",
        "\n",
        "print(result1)\n",
        "print(result2)"
      ],
      "metadata": {
        "colab": {
          "base_uri": "https://localhost:8080/"
        },
        "id": "CW0f0u_UD8qH",
        "outputId": "88bc0e66-7955-4233-fdb0-93ee66295977"
      },
      "execution_count": null,
      "outputs": [
        {
          "output_type": "stream",
          "name": "stdout",
          "text": [
            "True\n",
            "False\n"
          ]
        }
      ]
    },
    {
      "cell_type": "markdown",
      "source": [
        "## 35. Extract the protocol (http or https) from a URL string."
      ],
      "metadata": {
        "id": "4c2UrO9sWhBa"
      }
    },
    {
      "cell_type": "code",
      "source": [
        "def extract_protocol(url):\n",
        "    protocol_end = url.find(\"://\")\n",
        "\n",
        "    if protocol_end != -1:\n",
        "      protocol = url[:protocol_end]\n",
        "      return protocol\n",
        "    else :\n",
        "      return None\n",
        "\n",
        "\n",
        "\n",
        "#Example URL strings\n",
        "url1 = \"https://www.example.com\"\n",
        "url2 = \"http://google.com\"\n",
        "url3 = \"ftp://example.com\"\n",
        "\n",
        "protocol1 = extract_protocol(url1)\n",
        "protocol2 = extract_protocol(url2)\n",
        "protocol3 = extract_protocol(url3)\n",
        "\n",
        "print(\"protocol 1:\",protocol1)\n",
        "print(\"protocol 2\", protocol2)\n",
        "print(\"protocol 3\", protocol3)"
      ],
      "metadata": {
        "colab": {
          "base_uri": "https://localhost:8080/"
        },
        "id": "_S2sUuygWyW-",
        "outputId": "dcbbea2c-7b8c-4c3c-c572-91ca09cbfc65"
      },
      "execution_count": null,
      "outputs": [
        {
          "output_type": "stream",
          "name": "stdout",
          "text": [
            "protocol 1: https\n",
            "protocol 2 http\n",
            "protocol 3 ftp\n"
          ]
        }
      ]
    },
    {
      "cell_type": "markdown",
      "source": [
        "## 36. Find the frequency of each character in a string."
      ],
      "metadata": {
        "id": "cutfzoAkg1Hh"
      }
    },
    {
      "cell_type": "code",
      "source": [
        "def character_frequency(input_string):\n",
        "  frequency = {}\n",
        "  for char in input_string:\n",
        "    if char in frequency:\n",
        "      frequency[char] += 1\n",
        "    else :\n",
        "      frequency[char]= 1\n",
        "  return frequency\n",
        "\n",
        "#example usage\n",
        "input_string = \"hello world\"\n",
        "char_freq = character_frequency(input_string)\n",
        "\n",
        "for char,freq in char_freq.items():\n",
        "  print(f\"character: '{char}', Frequency: {freq}\")"
      ],
      "metadata": {
        "colab": {
          "base_uri": "https://localhost:8080/"
        },
        "id": "GxMUliyBhvLM",
        "outputId": "f44bce8f-15d7-43a8-bfe2-e5b291f8b1d0"
      },
      "execution_count": null,
      "outputs": [
        {
          "output_type": "stream",
          "name": "stdout",
          "text": [
            "character: 'h', Frequency: 1\n",
            "character: 'e', Frequency: 1\n",
            "character: 'l', Frequency: 3\n",
            "character: 'o', Frequency: 2\n",
            "character: ' ', Frequency: 1\n",
            "character: 'w', Frequency: 1\n",
            "character: 'r', Frequency: 1\n",
            "character: 'd', Frequency: 1\n"
          ]
        }
      ]
    },
    {
      "cell_type": "markdown",
      "source": [
        "## 37. Remove all punctuation from a string."
      ],
      "metadata": {
        "id": "BPYvArE1j3lh"
      }
    },
    {
      "cell_type": "code",
      "source": [
        "import string\n",
        "def remove_punctuation(input_string):\n",
        "  translator = str.maketrans(\"\",\"\", string.punctuation)\n",
        "  clean_string = input_string.translate(translator)\n",
        "\n",
        "  return clean_string\n",
        "\n",
        "input_string = \"Hello, Abhishek! How's it going?\"\n",
        "cleaned_string = remove_punctuation(input_string)\n",
        "\n",
        "print(\"Original String:\", input_string )\n",
        "print(\"Cleaned_String:\", cleaned_string)"
      ],
      "metadata": {
        "colab": {
          "base_uri": "https://localhost:8080/"
        },
        "id": "ErFpM1L1kIp3",
        "outputId": "c06d065c-7857-48cd-eda7-5ecb70866ffb"
      },
      "execution_count": null,
      "outputs": [
        {
          "output_type": "stream",
          "name": "stdout",
          "text": [
            "Original String: Hello, Abhishek! How's it going?\n",
            "Cleaned_String: Hello Abhishek Hows it going\n"
          ]
        }
      ]
    },
    {
      "cell_type": "markdown",
      "source": [
        "## 38. Check if a string contains only digits."
      ],
      "metadata": {
        "id": "jpcgSozqqxoP"
      }
    },
    {
      "cell_type": "code",
      "source": [
        "def contain_only_digit(input_string):\n",
        "  return input_string.isdigit()\n",
        "\n",
        "string1 = \"1234321\"\n",
        "string2 = \"Hello1234\"\n",
        "string3 = \"9874,341\"\n",
        "\n",
        "result1 = contain_only_digit(string1)\n",
        "result2 = contain_only_digit(string2)\n",
        "result3 = contain_only_digit(string3)\n",
        "\n",
        "print(f\"'{string1}',contain_only_digit:\", result1)\n",
        "print(f\"'{string2}',contain_only_digit:\", result2)\n",
        "print(f\"'{string3}',contain_only_digit:\", result3)\n"
      ],
      "metadata": {
        "colab": {
          "base_uri": "https://localhost:8080/"
        },
        "id": "lgftRm50rGAY",
        "outputId": "6082e6b7-924d-4e95-8f62-fb8f68c6685c"
      },
      "execution_count": null,
      "outputs": [
        {
          "output_type": "stream",
          "name": "stdout",
          "text": [
            "'1234321',contain_only_digit: True\n",
            "'Hello1234',contain_only_digit: False\n",
            "'9874,341',contain_only_digit: False\n"
          ]
        }
      ]
    },
    {
      "cell_type": "markdown",
      "source": [
        "## 39. Check if a string contains only alphabets."
      ],
      "metadata": {
        "id": "G83Zazakt3xz"
      }
    },
    {
      "cell_type": "code",
      "source": [
        "def contain_only_alphabets(input_string):\n",
        "  return input_string.isalpha()\n",
        "\n",
        "string1 = \"Abhishek\"\n",
        "string2 = \"Hello1234\"\n",
        "string3 = \"9874,341\"\n",
        "\n",
        "result1 = contain_only_alphabets(string1)\n",
        "result2 = contain_only_alphabets(string2)\n",
        "result3 = contain_only_alphabets(string3)\n",
        "\n",
        "print(f\"'{string1}',contain_only_alphabets:\", result1)\n",
        "print(f\"'{string2}',contain_only_alphabets:\", result2)\n",
        "print(f\"'{string3}',contain_only_alphabets:\", result3)\n"
      ],
      "metadata": {
        "colab": {
          "base_uri": "https://localhost:8080/"
        },
        "id": "AO5pxDdntZeC",
        "outputId": "e1f6b8f1-442c-42cf-bddf-96e149df5194"
      },
      "execution_count": null,
      "outputs": [
        {
          "output_type": "stream",
          "name": "stdout",
          "text": [
            "'Abhishek',contain_only_alphabets: True\n",
            "'Hello1234',contain_only_alphabets: False\n",
            "'9874,341',contain_only_alphabets: False\n"
          ]
        }
      ]
    },
    {
      "cell_type": "markdown",
      "source": [
        "## 40. Convert a string to a list of characters."
      ],
      "metadata": {
        "id": "ke2xIiXlEcMo"
      }
    },
    {
      "cell_type": "code",
      "source": [
        "def string_to_list(input_string):\n",
        "  char_list = list(input_string)\n",
        "  return char_list\n",
        "\n",
        "input_string = \"Hello, Abhishek\"\n",
        "char_list = string_to_list(input_string)\n",
        "\n",
        "print(\"original_string :\", input_string)\n",
        "print(\"List of Characters:\", char_list)"
      ],
      "metadata": {
        "colab": {
          "base_uri": "https://localhost:8080/"
        },
        "id": "b_JaeAiIExuU",
        "outputId": "acd99fd4-67d1-4a8e-f0b3-0cff5ff7bc6e"
      },
      "execution_count": null,
      "outputs": [
        {
          "output_type": "stream",
          "name": "stdout",
          "text": [
            "original_string : Hello, Abhishek\n",
            "List of Characters: ['H', 'e', 'l', 'l', 'o', ',', ' ', 'A', 'b', 'h', 'i', 's', 'h', 'e', 'k']\n"
          ]
        }
      ]
    },
    {
      "cell_type": "markdown",
      "source": [
        "## 41. Check if two strings are anagrams."
      ],
      "metadata": {
        "id": "D5cqC9YTFtG0"
      }
    },
    {
      "cell_type": "code",
      "source": [
        "def are_anagrams(string1,string2):\n",
        "  string1 = string1.replace(\" \",\"\").lower()\n",
        "  string2 = string2.replace(\" \",\"\").lower()\n",
        "\n",
        "  return sorted(string1) == sorted(string2)\n",
        "\n",
        "#Example String\n",
        "string1 = \"listen\"\n",
        "string2 = \"silent\"\n",
        "String3 = \"hey\"\n",
        "string4 = \"India\"\n",
        "\n",
        "result1 = are_anagrams(string1,string2)\n",
        "result2 = are_anagrams(string3,string4)\n",
        "\n",
        "print(f\"'{string1}' and '{string2}' are anagrams:\", result1)\n",
        "print(f\"'{string3}' and '{string4}' are anagrams:\", result2)\n"
      ],
      "metadata": {
        "colab": {
          "base_uri": "https://localhost:8080/"
        },
        "id": "PJgJpuzYHCQ5",
        "outputId": "bc968c75-6f42-48a6-efac-ecae1825fab3"
      },
      "execution_count": null,
      "outputs": [
        {
          "output_type": "stream",
          "name": "stdout",
          "text": [
            "'listen' and 'silent' are anagrams: True\n",
            "'hello' and 'India' are anagrams: False\n"
          ]
        }
      ]
    },
    {
      "cell_type": "markdown",
      "source": [
        "## 42. Encode a string using a Caesar cipher."
      ],
      "metadata": {
        "id": "1gxaD3viJsVF"
      }
    },
    {
      "cell_type": "code",
      "source": [
        "def caesar_cipher_encrypt(plaintext, shift):\n",
        "    encrypted_text = \"\"\n",
        "\n",
        "    for char in plaintext:\n",
        "        if char.isalpha():\n",
        "            is_upper = char.isupper()\n",
        "            shifted_char = chr((ord(char) + shift - ord('A' if is_upper else 'a')) % 26 + ord('A' if is_upper else 'a'))\n",
        "            encrypted_text += shifted_char\n",
        "        else:\n",
        "            encrypted_text += char\n",
        "\n",
        "    return encrypted_text\n",
        "\n",
        "\n",
        "#Example usage\n",
        "plaintext = \"Hello, World!\"\n",
        "shift_amount = 3\n",
        "encrypted_text = caesar_cipher_encrypt(plaintext, shift_amount)\n",
        "\n",
        "print(f\"Original: {plaintext}\")\n",
        "print(f\"Encrypted: {encrypted_text}\")"
      ],
      "metadata": {
        "colab": {
          "base_uri": "https://localhost:8080/"
        },
        "id": "o0tiRu3PaMb9",
        "outputId": "2822b722-064f-4dc6-e31a-b3327afeacbe"
      },
      "execution_count": null,
      "outputs": [
        {
          "output_type": "stream",
          "name": "stdout",
          "text": [
            "Original: Hello, World!\n",
            "Encrypted: Khoor, Zruog!\n"
          ]
        }
      ]
    },
    {
      "cell_type": "markdown",
      "source": [
        "## 43. Decode a Caesar cipher encoded string."
      ],
      "metadata": {
        "id": "YqrP8WBMOCpm"
      }
    },
    {
      "cell_type": "code",
      "source": [
        "def caesar_cipher_decrypt(encrypted_text, shift):\n",
        "    decrypted_text = \"\"\n",
        "\n",
        "    for char in encrypted_text:\n",
        "        if char.isalpha():\n",
        "            is_upper = char.isupper()\n",
        "            shifted_char = chr((ord(char) - shift - ord('A' if is_upper else 'a')) % 26 + ord('A' if is_upper else 'a'))\n",
        "            decrypted_text += shifted_char\n",
        "        else:\n",
        "            decrypted_text += char\n",
        "\n",
        "    return decrypted_text\n",
        "\n",
        "# Example usage\n",
        "encrypted_text = \"KHOOR, ZRUOG!\"\n",
        "shift_amount = 3\n",
        "decrypted_text = caesar_cipher_decrypt(encrypted_text, shift_amount)\n",
        "\n",
        "print(f\"Encrypted: {encrypted_text}\")\n",
        "print(f\"Decrypted: {decrypted_text}\")\n"
      ],
      "metadata": {
        "colab": {
          "base_uri": "https://localhost:8080/"
        },
        "id": "sdsViJdcmTfv",
        "outputId": "332987fd-361d-47a6-f0d7-58c6e56ed785"
      },
      "execution_count": null,
      "outputs": [
        {
          "output_type": "stream",
          "name": "stdout",
          "text": [
            "Encrypted: KHOOR, ZRUOG!\n",
            "Decrypted: HELLO, WORLD!\n"
          ]
        }
      ]
    },
    {
      "cell_type": "markdown",
      "source": [
        "## 44. Find the most frequent word in a string."
      ],
      "metadata": {
        "id": "oKjFKT1KQl0j"
      }
    },
    {
      "cell_type": "code",
      "source": [
        "import re\n",
        "from collections import Counter\n",
        "\n",
        "def most_frequent_word(input_string):\n",
        "  clean_string = re.sub(r'[^\\w\\s]', '', input_string).lower()\n",
        "\n",
        "  words = clean_string.split()\n",
        "  word_counter = Counter(words)\n",
        "\n",
        "  most_common_word = word_counter.most_common(1)[0][0]\n",
        "  return most_common_word\n",
        "\n",
        "input_str = \"Hello Abhishek, hello mohit! How's the game?\"\n",
        "\n",
        "most_common = most_frequent_word(input_str)\n",
        "\n",
        "print(\"Most frequent word:\", most_common)"
      ],
      "metadata": {
        "colab": {
          "base_uri": "https://localhost:8080/"
        },
        "id": "Cnap1RwsQ83k",
        "outputId": "8514a79c-dc35-4459-96a5-72c9b6221826"
      },
      "execution_count": null,
      "outputs": [
        {
          "output_type": "stream",
          "name": "stdout",
          "text": [
            "Most frequent word: hello\n"
          ]
        }
      ]
    },
    {
      "cell_type": "markdown",
      "source": [
        "## 45. Find all unique words in a string."
      ],
      "metadata": {
        "id": "lOk7B_SffOLG"
      }
    },
    {
      "cell_type": "code",
      "source": [
        "import re\n",
        "def unique_words(input_string):\n",
        "\n",
        "    clean_string = re.sub(r'[^\\w\\s]', '', input_string).lower()\n",
        "    words = set(clean_string.split())\n",
        "    return words\n",
        "\n",
        "input_str = \"Hello world, hello there! How's the world?\"\n",
        "\n",
        "unique_word_set = unique_words(input_str)\n",
        "\n",
        "print(\"Unique words:\", unique_word_set)"
      ],
      "metadata": {
        "colab": {
          "base_uri": "https://localhost:8080/"
        },
        "id": "QsStQkmjefOI",
        "outputId": "ab80878d-b659-4112-855c-b7cdf788eb89"
      },
      "execution_count": null,
      "outputs": [
        {
          "output_type": "stream",
          "name": "stdout",
          "text": [
            "Unique words: {'world', 'hello', 'the', 'there', 'hows'}\n"
          ]
        }
      ]
    },
    {
      "cell_type": "markdown",
      "source": [
        "## 46. Count the number of syllables in a string."
      ],
      "metadata": {
        "id": "ySjmIoDnyNqa"
      }
    },
    {
      "cell_type": "code",
      "source": [
        "import re\n",
        "def count_syllables(word):\n",
        "  vowel_groups = re.findall(r'[aeiouy]+' , word, re.IGNORECASE)\n",
        "  return len(vowel_groups)\n",
        "\n",
        "word1 = \"hello\"\n",
        "word2 = \"eye\"\n",
        "word3 = \"babana\"\n",
        "\n",
        "syllables1 = count_syllables(word1)\n",
        "syllables2 = count_syllables(word2)\n",
        "syllables3 = count_syllables(word3)\n",
        "\n",
        "print(f\"'{word1}' has {syllables1}, syllables\")\n",
        "print(f\"'{word2}' has {syllables2}, syllables\")\n",
        "print(f\"'{word3}' has {syllables3}, syllables\")"
      ],
      "metadata": {
        "colab": {
          "base_uri": "https://localhost:8080/"
        },
        "id": "lKsvd6ka3KNG",
        "outputId": "e65cdc68-41d8-41c2-da31-c5e3a19aeb05"
      },
      "execution_count": null,
      "outputs": [
        {
          "output_type": "stream",
          "name": "stdout",
          "text": [
            "'hello' has 2, syllables\n",
            "'eye' has 1, syllables\n",
            "'babana' has 3, syllables\n"
          ]
        }
      ]
    },
    {
      "cell_type": "markdown",
      "source": [
        "## 47. Check if a string contains any special characters."
      ],
      "metadata": {
        "id": "6ypsFg3F5zZT"
      }
    },
    {
      "cell_type": "code",
      "source": [
        "import re\n",
        "def contain_special_characters(input_string):\n",
        "  special_char_pattern = re.compile(r'[^a-zA-Z0-9]')\n",
        "  return bool (special_char_pattern.search(input_string))\n",
        "\n",
        "string1 = \"hello123\"\n",
        "string2 = \"Hello@India\"\n",
        "\n",
        "result1 = contain_special_characters(string1)\n",
        "result2 = contain_special_characters(string2)\n",
        "\n",
        "print(f\"'{string1} contain special character: {result1}\")\n",
        "print(f\"'{string2} contain special character: {result2}\")"
      ],
      "metadata": {
        "colab": {
          "base_uri": "https://localhost:8080/"
        },
        "id": "dtTst4bK6OYx",
        "outputId": "e1069546-bcdb-462b-cfef-a00b400291c4"
      },
      "execution_count": null,
      "outputs": [
        {
          "output_type": "stream",
          "name": "stdout",
          "text": [
            "'hello123 contain special character: False\n",
            "'Hello@India contain special character: True\n"
          ]
        }
      ]
    },
    {
      "cell_type": "markdown",
      "source": [
        "## 48. Remove the nth word from a string."
      ],
      "metadata": {
        "id": "tXH_sW8Ll_KP"
      }
    },
    {
      "cell_type": "code",
      "source": [
        "def remove_nth_word(input_string, n):\n",
        "  words = input_string.split()\n",
        "\n",
        "  if n>=1 and n<= len(words):\n",
        "    remove_word = words.pop(n - 1)\n",
        "    modified_string = ' '.join(words)\n",
        "\n",
        "    return modified_string, removed_word\n",
        "  else:\n",
        "    return None, None\n",
        "\n",
        "#Example string and n value\n",
        "input_str = \" This is a sample sentence to demonstrate removing the nth word.\"\n",
        "n_value = 4\n",
        "\n",
        "modified_str, removed_word = remove_nth_word(input_str, n_value)\n",
        "\n",
        "\n",
        "print(\"Original string:\", input_str)\n",
        "if modified_str is not None:\n",
        "  print(\"Modified string:\", modified_str)\n",
        "  print(\"Remove word:\", removed_word)\n",
        "else:\n",
        "  print(\"Invalid n value\")\n"
      ],
      "metadata": {
        "colab": {
          "base_uri": "https://localhost:8080/"
        },
        "id": "9yJmQtsw3PpO",
        "outputId": "e15b0907-8610-478e-898a-c41679c3e461"
      },
      "execution_count": null,
      "outputs": [
        {
          "output_type": "stream",
          "name": "stdout",
          "text": [
            "Original string:  This is a sample sentence to demonstrate removing the nth word.\n",
            "Modified string: This is a sentence to demonstrate removing the nth word.\n",
            "Remove word: sample\n"
          ]
        }
      ]
    },
    {
      "cell_type": "markdown",
      "source": [
        "## 49. Insert a word at the nth position in a string."
      ],
      "metadata": {
        "id": "Amt7dkfA3kNd"
      }
    },
    {
      "cell_type": "code",
      "source": [
        "def insert_word_at_nth_position(input_string, n, new_word):\n",
        "  word = input_string.split()\n",
        "  if 0 <= n <= len(word):\n",
        "    word.insert(n, new_word)\n",
        "    result_string = ' '.join(word)\n",
        "    return result_string\n",
        "  else:\n",
        "    return \" Invalid index for word insertion\"\n",
        "\n",
        "#example usage\n",
        "original_string = \"This is a sample sentence to demonstrate inserting a word\"\n",
        "n_to_insert = 3\n",
        "word_to_insert = \"new_word\"\n",
        "\n",
        "result = insert_word_at_nth_position(original_string,n_to_insert, word_to_insert)\n",
        "print(\"Original String :\", original_string)\n",
        "print(f\"String after inserting'{word_to_insert}' at the {n_to_insert}th position:\", result)"
      ],
      "metadata": {
        "colab": {
          "base_uri": "https://localhost:8080/"
        },
        "id": "R3wPFJ1444Yh",
        "outputId": "bc579c0b-bcc3-41e4-a5c6-c84fc7bd1f88"
      },
      "execution_count": null,
      "outputs": [
        {
          "output_type": "stream",
          "name": "stdout",
          "text": [
            "Original String : This is a sample sentence to demonstrate inserting a word\n",
            "String after inserting'new_word' at the 3th position: This is a new_word sample sentence to demonstrate inserting a word\n"
          ]
        }
      ]
    },
    {
      "cell_type": "markdown",
      "source": [
        "## 50. Convert a CSV string to a list of lists."
      ],
      "metadata": {
        "id": "3gaWINXg7mfd"
      }
    },
    {
      "cell_type": "code",
      "source": [
        "def csv_string_to_list(csv_string):\n",
        "  lines = csv_string.split('\\n')\n",
        "  result = []\n",
        "  for line in lines :\n",
        "    fields = line.split(',')\n",
        "    result.append(fields)\n",
        "  return result\n",
        "\n",
        "#Example of csv string\n",
        "csv_data = \"Name, Age, Gender, City\\nMohit, 21, Male, Kanpur\\nAbhishek, 23, Male, Mumbai\\n Pooja, 25, Female, Nagpur\"\n",
        "\n",
        "list_of_lists = csv_string_to_list(csv_data)\n",
        "\n",
        "for row in list_of_lists:\n",
        "  print(row)"
      ],
      "metadata": {
        "colab": {
          "base_uri": "https://localhost:8080/"
        },
        "id": "BMzO-zMm8OHW",
        "outputId": "ef1e3405-c0dc-4e38-ca2a-d3f76f0e87a7"
      },
      "execution_count": null,
      "outputs": [
        {
          "output_type": "stream",
          "name": "stdout",
          "text": [
            "['Name', ' Age', ' Gender', ' City']\n",
            "['Mohit', ' 21', ' Male', ' Kanpur']\n",
            "['Abhishek', ' 23', ' Male', ' Mumbai']\n",
            "[' Pooja', ' 25', ' Female', ' Nagpur']\n"
          ]
        }
      ]
    },
    {
      "cell_type": "markdown",
      "source": [
        "# **TOPIC: List Based Practice Problem**"
      ],
      "metadata": {
        "id": "SU93WGOKINu5"
      }
    },
    {
      "cell_type": "markdown",
      "source": [
        "## 1. Create a list with integers from 1 to 10."
      ],
      "metadata": {
        "id": "BuSNWEcuIZgF"
      }
    },
    {
      "cell_type": "code",
      "source": [
        "integer_list = [i for i in range(1,11)]\n",
        "print(integer_list)"
      ],
      "metadata": {
        "colab": {
          "base_uri": "https://localhost:8080/"
        },
        "id": "4og0LgNXIkfD",
        "outputId": "fec20364-aa05-4d4e-9891-6b4adc8c96fc"
      },
      "execution_count": null,
      "outputs": [
        {
          "output_type": "stream",
          "name": "stdout",
          "text": [
            "[1, 2, 3, 4, 5, 6, 7, 8, 9, 10]\n"
          ]
        }
      ]
    },
    {
      "cell_type": "markdown",
      "source": [
        "## 2. Find the length of a list without using the `len()` function."
      ],
      "metadata": {
        "id": "tT7vyi9JJaXC"
      }
    },
    {
      "cell_type": "code",
      "source": [
        "def custom_len(input_list):\n",
        "  count = 0\n",
        "  for _ in input_list:\n",
        "    count += 1\n",
        "  return count\n",
        "\n",
        "my_list = [1,2,3,4,5,6,]\n",
        "length = custom_len(my_list)\n",
        "\n",
        "print(\"Length of the list:\" , length )\n"
      ],
      "metadata": {
        "colab": {
          "base_uri": "https://localhost:8080/"
        },
        "id": "mSoVQTHqKT0L",
        "outputId": "3d028a04-c3e8-42f7-a43d-a062495ef0f4"
      },
      "execution_count": null,
      "outputs": [
        {
          "output_type": "stream",
          "name": "stdout",
          "text": [
            "Length of the list: 6\n"
          ]
        }
      ]
    },
    {
      "cell_type": "markdown",
      "source": [
        "## 3. Append an element to the end of a list."
      ],
      "metadata": {
        "id": "ro9ge4gBL4IG"
      }
    },
    {
      "cell_type": "code",
      "source": [
        "my_list = [23,4,56,67,8]\n",
        "new_element = 20\n",
        "\n",
        "my_list.append(new_element)\n",
        "print(\"updated_list\", my_list)"
      ],
      "metadata": {
        "colab": {
          "base_uri": "https://localhost:8080/"
        },
        "id": "3fjgKMuPMB41",
        "outputId": "202cc3ac-9d31-45e4-ad25-912230bb6007"
      },
      "execution_count": null,
      "outputs": [
        {
          "output_type": "stream",
          "name": "stdout",
          "text": [
            "updated_list [23, 4, 56, 67, 8, 20]\n"
          ]
        }
      ]
    },
    {
      "cell_type": "markdown",
      "source": [
        "## 4. Insert an element at a specific index in a list."
      ],
      "metadata": {
        "id": "7mMM0ERIMlm5"
      }
    },
    {
      "cell_type": "code",
      "source": [
        "my_list = [1,2,3,4,5,6]\n",
        "new_element = 70\n",
        "index_to_insert = 3\n",
        "\n",
        "my_list.insert(index_to_insert, new_element)\n",
        "\n",
        "print(\"updated list\", my_list )"
      ],
      "metadata": {
        "colab": {
          "base_uri": "https://localhost:8080/"
        },
        "id": "NyWlGkiXMu2g",
        "outputId": "0bc92a28-a49a-4278-f630-a61e875af291"
      },
      "execution_count": null,
      "outputs": [
        {
          "output_type": "stream",
          "name": "stdout",
          "text": [
            "updated list [1, 2, 3, 70, 4, 5, 6]\n"
          ]
        }
      ]
    },
    {
      "cell_type": "markdown",
      "source": [
        "## 5. Remove an element from a list by its value."
      ],
      "metadata": {
        "id": "6Ixk30vRZ8mo"
      }
    },
    {
      "cell_type": "code",
      "source": [
        "my_list = [5,10,15,20,25,30]\n",
        "element_to_remove = 15\n",
        "\n",
        "my_list.remove(element_to_remove)\n",
        "\n",
        "print(\"Updated List\", my_list)"
      ],
      "metadata": {
        "colab": {
          "base_uri": "https://localhost:8080/"
        },
        "id": "bJq2mMgIaI8A",
        "outputId": "a85c6f38-47e6-45bb-e7be-1ddef48c44f8"
      },
      "execution_count": null,
      "outputs": [
        {
          "output_type": "stream",
          "name": "stdout",
          "text": [
            "Updated List [5, 10, 20, 25, 30]\n"
          ]
        }
      ]
    },
    {
      "cell_type": "markdown",
      "source": [
        "## 6. Remove an element from a list by its index."
      ],
      "metadata": {
        "id": "PeEmU3E2awOx"
      }
    },
    {
      "cell_type": "code",
      "source": [
        "my_list = [1,2,3,4,5,6,7]\n",
        "index_to_remove = 4\n",
        "remove_element = my_list.pop(index_to_remove)\n",
        "\n",
        "print(\"updated list\", my_list)\n",
        "print(\"removed element\",remove_element )"
      ],
      "metadata": {
        "colab": {
          "base_uri": "https://localhost:8080/"
        },
        "id": "iiAr-qWhbDfC",
        "outputId": "b280f7ab-772d-427e-a08a-01f22e568a81"
      },
      "execution_count": null,
      "outputs": [
        {
          "output_type": "stream",
          "name": "stdout",
          "text": [
            "updated list [1, 2, 3, 4, 6, 7]\n",
            "removed element 5\n"
          ]
        }
      ]
    },
    {
      "cell_type": "markdown",
      "source": [
        "## 7. Check if an element exists in a list."
      ],
      "metadata": {
        "id": "YCHImFOOcIF6"
      }
    },
    {
      "cell_type": "code",
      "source": [
        "my_list = [2,4,6,8,10]\n",
        "element_to_check = 10\n",
        "if element_to_check in my_list :\n",
        "  print(f\"'{element_to_check} exists in the list\")\n",
        "else :\n",
        "  print(f\"'{element_to_check} does not exists\")"
      ],
      "metadata": {
        "colab": {
          "base_uri": "https://localhost:8080/"
        },
        "id": "QxGsq_FNckln",
        "outputId": "499a99c2-aa63-4563-f14b-c4a9f2f09879"
      },
      "execution_count": null,
      "outputs": [
        {
          "output_type": "stream",
          "name": "stdout",
          "text": [
            "'10 exists in the list\n"
          ]
        }
      ]
    },
    {
      "cell_type": "markdown",
      "source": [
        "## 8. Find the index of the first occurrence of an element in a list."
      ],
      "metadata": {
        "id": "ldFEnZjmdctC"
      }
    },
    {
      "cell_type": "code",
      "source": [
        "my_list = [2,4,6,8,10]\n",
        "element_to_find = 8\n",
        "\n",
        "index = my_list.index(element_to_find)\n",
        "print(f\"The index of {element_to_find} is {index}\")"
      ],
      "metadata": {
        "colab": {
          "base_uri": "https://localhost:8080/"
        },
        "id": "ZkZTTBvrdseE",
        "outputId": "69e6561a-d3a8-4e3b-f520-4248aa7d1535"
      },
      "execution_count": null,
      "outputs": [
        {
          "output_type": "stream",
          "name": "stdout",
          "text": [
            "The index of 8 is 3\n"
          ]
        }
      ]
    },
    {
      "cell_type": "markdown",
      "source": [
        "## 9. Count the occurrences of an element in a list."
      ],
      "metadata": {
        "id": "nV5FM2AgeNO4"
      }
    },
    {
      "cell_type": "code",
      "source": [
        "my_list = [2,2,2,2,3,4,5,6,7,8]\n",
        "element_to_count = 2\n",
        "count = my_list.count(element_to_count)\n",
        "print(f\"the element {element_to_count} occurs {count} times in the list.\")"
      ],
      "metadata": {
        "colab": {
          "base_uri": "https://localhost:8080/"
        },
        "id": "qlXAwssj4EWW",
        "outputId": "a543776a-e1c2-4a35-9f94-29d98a766d29"
      },
      "execution_count": null,
      "outputs": [
        {
          "output_type": "stream",
          "name": "stdout",
          "text": [
            "the element 2 occurs 4 times in the list.\n"
          ]
        }
      ]
    },
    {
      "cell_type": "markdown",
      "source": [
        "## 10. Reverse the order of elements in a list."
      ],
      "metadata": {
        "id": "z71Xk1BR4tPi"
      }
    },
    {
      "cell_type": "code",
      "source": [
        "my_list = [1,2,3,4,5,6,7,8]\n",
        "my_list.reverse()\n",
        "print(\"Reverse list:\", my_list)"
      ],
      "metadata": {
        "colab": {
          "base_uri": "https://localhost:8080/"
        },
        "id": "3zNl-zY-40jl",
        "outputId": "087ff3da-fca7-493f-db7d-b4b66f3b8ff5"
      },
      "execution_count": null,
      "outputs": [
        {
          "output_type": "stream",
          "name": "stdout",
          "text": [
            "Reverse list: [8, 7, 6, 5, 4, 3, 2, 1]\n"
          ]
        }
      ]
    },
    {
      "cell_type": "markdown",
      "source": [
        "## 11. Sort a list in ascending order."
      ],
      "metadata": {
        "id": "35vbsX9d5GHr"
      }
    },
    {
      "cell_type": "code",
      "source": [
        "my_list= [30,4,5,60,10,30,48,1]\n",
        "my_list.sort()\n",
        "print(\"Sorted list in ascending order:\", my_list)"
      ],
      "metadata": {
        "colab": {
          "base_uri": "https://localhost:8080/"
        },
        "id": "6DyTepjn55XI",
        "outputId": "13d4c88b-71c8-417a-8152-dece5369f523"
      },
      "execution_count": null,
      "outputs": [
        {
          "output_type": "stream",
          "name": "stdout",
          "text": [
            "Sorted list in ascending order: [1, 4, 5, 10, 30, 30, 48, 60]\n"
          ]
        }
      ]
    },
    {
      "cell_type": "markdown",
      "source": [
        "## 12. Sort a list in descending order."
      ],
      "metadata": {
        "id": "--1wPmV76Ssc"
      }
    },
    {
      "cell_type": "code",
      "source": [
        "my_list= [30,4,5,60,10,30,48,1]\n",
        "my_list.sort(reverse=True)\n",
        "print(\"Sorted list in decending order:\", my_list)"
      ],
      "metadata": {
        "colab": {
          "base_uri": "https://localhost:8080/"
        },
        "id": "msYct0cM6aCm",
        "outputId": "ded1f35f-8add-479e-b2fb-b83411eed313"
      },
      "execution_count": null,
      "outputs": [
        {
          "output_type": "stream",
          "name": "stdout",
          "text": [
            "Sorted list in decending order: [60, 48, 30, 30, 10, 5, 4, 1]\n"
          ]
        }
      ]
    },
    {
      "cell_type": "markdown",
      "source": [
        "## 13. Create a list of even numbers from 1 to 20."
      ],
      "metadata": {
        "id": "R4L7i84Q6rez"
      }
    },
    {
      "cell_type": "code",
      "source": [
        "even_numbers = [x for x in range(2,30,2)]\n",
        "print(\"List of even numbers:\", even_numbers)"
      ],
      "metadata": {
        "colab": {
          "base_uri": "https://localhost:8080/"
        },
        "id": "o-1E-6ua6xFb",
        "outputId": "4a5858b1-1c02-4479-eb52-df721c6c6ca5"
      },
      "execution_count": null,
      "outputs": [
        {
          "output_type": "stream",
          "name": "stdout",
          "text": [
            "List of even numbers: [2, 4, 6, 8, 10, 12, 14, 16, 18, 20, 22, 24, 26, 28]\n"
          ]
        }
      ]
    },
    {
      "cell_type": "markdown",
      "source": [
        "## 14. Create a list of odd numbers from 1 to 20."
      ],
      "metadata": {
        "id": "8ScYFfq47IYs"
      }
    },
    {
      "cell_type": "code",
      "source": [
        "odd_numbers = [x for x in range(1,30,2)]\n",
        "print(\"List of odd numbers:\", odd_numbers)"
      ],
      "metadata": {
        "colab": {
          "base_uri": "https://localhost:8080/"
        },
        "id": "kCWFzyP17CMB",
        "outputId": "9b167b0e-d696-439d-faaf-b65dc739aa39"
      },
      "execution_count": null,
      "outputs": [
        {
          "output_type": "stream",
          "name": "stdout",
          "text": [
            "List of odd numbers: [1, 3, 5, 7, 9, 11, 13, 15, 17, 19, 21, 23, 25, 27, 29]\n"
          ]
        }
      ]
    },
    {
      "cell_type": "markdown",
      "source": [
        "## 16. Find the maximum value in a list."
      ],
      "metadata": {
        "id": "gyfZaQYo7YLT"
      }
    },
    {
      "cell_type": "code",
      "source": [
        "my_list = [1,45,64,7,4,23,567]\n",
        "max_value = max(my_list)\n",
        "print(\"Maximum value:\", max_value)"
      ],
      "metadata": {
        "colab": {
          "base_uri": "https://localhost:8080/"
        },
        "id": "l4hHM0Ca8Cqy",
        "outputId": "94020b9b-bb0c-4abb-fdf0-225f02e8be61"
      },
      "execution_count": null,
      "outputs": [
        {
          "output_type": "stream",
          "name": "stdout",
          "text": [
            "Maximum value: 567\n"
          ]
        }
      ]
    },
    {
      "cell_type": "markdown",
      "source": [
        "## 17. Find the minimum value in a list."
      ],
      "metadata": {
        "id": "RM2UF8rV8Vam"
      }
    },
    {
      "cell_type": "code",
      "source": [
        "my_list = [1,45,64,7,4,23,567]\n",
        "min_value = min(my_list)\n",
        "print(\"Minimum value:\", min_value)"
      ],
      "metadata": {
        "colab": {
          "base_uri": "https://localhost:8080/"
        },
        "id": "5PDbIoCC8Sgs",
        "outputId": "5b83708e-8c13-454a-c86a-43890b787dde"
      },
      "execution_count": null,
      "outputs": [
        {
          "output_type": "stream",
          "name": "stdout",
          "text": [
            "Minimum value: 1\n"
          ]
        }
      ]
    },
    {
      "cell_type": "markdown",
      "source": [
        "## 18. Create a list of squares of numbers from 1 to 10."
      ],
      "metadata": {
        "id": "ikiwStW78uh6"
      }
    },
    {
      "cell_type": "code",
      "source": [
        "squares = [x ** 2 for x in range(1,11)]\n",
        "print(\"List of squares:\", squares)"
      ],
      "metadata": {
        "colab": {
          "base_uri": "https://localhost:8080/"
        },
        "id": "gD56_B6z8105",
        "outputId": "c4483108-5696-4a61-9fb2-76015d633737"
      },
      "execution_count": null,
      "outputs": [
        {
          "output_type": "stream",
          "name": "stdout",
          "text": [
            "List of squares: [1, 4, 9, 16, 25, 36, 49, 64, 81, 100]\n"
          ]
        }
      ]
    },
    {
      "cell_type": "markdown",
      "source": [
        "## 19. Create a list of random numbers."
      ],
      "metadata": {
        "id": "RvhSWnKd9Ppy"
      }
    },
    {
      "cell_type": "code",
      "source": [
        "import random\n",
        "random_intergers = [random.randint(1,100) for _ in range(10)]\n",
        "print(\"List of random integers:\", random_intergers)"
      ],
      "metadata": {
        "colab": {
          "base_uri": "https://localhost:8080/"
        },
        "id": "sbyEURmi9tLH",
        "outputId": "2f4bf5fb-f8ce-4b7b-d77b-77e440e1b808"
      },
      "execution_count": null,
      "outputs": [
        {
          "output_type": "stream",
          "name": "stdout",
          "text": [
            "List of random integers: [66, 92, 29, 35, 17, 86, 37, 39, 58, 14]\n"
          ]
        }
      ]
    },
    {
      "cell_type": "markdown",
      "source": [
        "## 20. Remove duplicates from a list."
      ],
      "metadata": {
        "id": "MURbTdt6-3VL"
      }
    },
    {
      "cell_type": "code",
      "source": [
        "my_list = [2,2,3,3,4,55,6,6,7,8,9,55,1,5]\n",
        "unique_list = list(set(my_list))\n",
        "print(\"list without duplicates:\", unique_list)"
      ],
      "metadata": {
        "colab": {
          "base_uri": "https://localhost:8080/"
        },
        "id": "VJN3Vbby-_QV",
        "outputId": "fe27544a-8ad8-4574-9506-cd6045f6f2e2"
      },
      "execution_count": null,
      "outputs": [
        {
          "output_type": "stream",
          "name": "stdout",
          "text": [
            "list without duplicates: [1, 2, 3, 4, 5, 6, 7, 8, 9, 55]\n"
          ]
        }
      ]
    },
    {
      "cell_type": "markdown",
      "source": [
        "## 21. Find the common elements between two lists."
      ],
      "metadata": {
        "id": "y3JLwcwwAJ-_"
      }
    },
    {
      "cell_type": "code",
      "source": [
        "list1 = [1,2,3,4,5,6,7]\n",
        "list2 = [1,3,4,6,9]\n",
        "\n",
        "common_element = [element for element in list1 if element in list2]\n",
        "print(\"commom elements :\",common_element )"
      ],
      "metadata": {
        "colab": {
          "base_uri": "https://localhost:8080/"
        },
        "id": "kfpOiOYNBGXj",
        "outputId": "1e8aa6f2-1b76-4578-94bb-e5e9f4f519ab"
      },
      "execution_count": null,
      "outputs": [
        {
          "output_type": "stream",
          "name": "stdout",
          "text": [
            "commom elements : [1, 3, 4, 6]\n"
          ]
        }
      ]
    },
    {
      "cell_type": "markdown",
      "source": [
        "## 22. Find the difference between two lists."
      ],
      "metadata": {
        "id": "e_QXJv-QCBR9"
      }
    },
    {
      "cell_type": "code",
      "source": [
        "list1 = [10,20,30,40,50,60]\n",
        "list2 = [30,40,50,60,70,80]\n",
        "difference = list(set(list1).difference(list2))\n",
        "print(\"Difference between list:\", difference)"
      ],
      "metadata": {
        "colab": {
          "base_uri": "https://localhost:8080/"
        },
        "id": "8VNgnzDqCG9a",
        "outputId": "1f01b9a2-184f-4451-b9b2-74e82237d542"
      },
      "execution_count": null,
      "outputs": [
        {
          "output_type": "stream",
          "name": "stdout",
          "text": [
            "Difference between list: [20, 10]\n"
          ]
        }
      ]
    },
    {
      "cell_type": "markdown",
      "source": [
        "## 23. Merge two lists."
      ],
      "metadata": {
        "id": "DFEEuISgDkK7"
      }
    },
    {
      "cell_type": "code",
      "source": [
        "list1 = [10,20,30,40,50,60]\n",
        "list2 = [30,40,50,60,70,80]\n",
        "\n",
        "merged_list = list1 + list2\n",
        "print(\"Merged list:\", merged_list)"
      ],
      "metadata": {
        "colab": {
          "base_uri": "https://localhost:8080/"
        },
        "id": "41a3dt96DuyL",
        "outputId": "54005588-73a7-4195-9995-d703b331ce91"
      },
      "execution_count": null,
      "outputs": [
        {
          "output_type": "stream",
          "name": "stdout",
          "text": [
            "Merged list: [10, 20, 30, 40, 50, 60, 30, 40, 50, 60, 70, 80]\n"
          ]
        }
      ]
    },
    {
      "cell_type": "markdown",
      "source": [
        "## 24. Multiply all elements in a list by 2."
      ],
      "metadata": {
        "id": "2CDH-_8zOxt5"
      }
    },
    {
      "cell_type": "code",
      "source": [
        "my_list = [5,10,15,20,25]\n",
        "multiplied_list = [x *2 for x in my_list]\n",
        "print(\"multiplied List :\", multiplied_list)"
      ],
      "metadata": {
        "colab": {
          "base_uri": "https://localhost:8080/"
        },
        "id": "8OIW_D3hO8ZQ",
        "outputId": "47715748-973a-4ba2-d902-95e411407c05"
      },
      "execution_count": null,
      "outputs": [
        {
          "output_type": "stream",
          "name": "stdout",
          "text": [
            "multiplied List : [10, 20, 30, 40, 50]\n"
          ]
        }
      ]
    },
    {
      "cell_type": "markdown",
      "source": [
        "## 25. Filter out all even numbers from a list."
      ],
      "metadata": {
        "id": "zhH539BYPcnK"
      }
    },
    {
      "cell_type": "code",
      "source": [
        "numbers = [1,2,3,4,5,6,7,8,9,10]\n",
        "filtered_numbers = []\n",
        "for number in numbers:\n",
        "  if number % 2 != 0 :\n",
        "    filtered_numbers.append(number)\n",
        "print(\"Filtered numbers:\", filtered_numbers)\n"
      ],
      "metadata": {
        "colab": {
          "base_uri": "https://localhost:8080/"
        },
        "id": "fS1EIb-JPu4S",
        "outputId": "50a0d212-4070-41b5-a1fc-008e12cf7daa"
      },
      "execution_count": null,
      "outputs": [
        {
          "output_type": "stream",
          "name": "stdout",
          "text": [
            "Filtered numbers: [1, 3, 5, 7, 9]\n"
          ]
        }
      ]
    },
    {
      "cell_type": "markdown",
      "source": [
        "## 26. Convert a list of strings to a list of integers."
      ],
      "metadata": {
        "id": "bhGKFy4dQ0dD"
      }
    },
    {
      "cell_type": "code",
      "source": [
        "string_list = [\"1\",\"2\",\"3\",\"4\",\"5\"]\n",
        "interger_list = [int(x)for x in string_list]\n",
        "print(\"List of intergers\", interger_list)"
      ],
      "metadata": {
        "colab": {
          "base_uri": "https://localhost:8080/"
        },
        "id": "KJ4VciFvRMN0",
        "outputId": "f4e4098c-4da4-4d02-a9fe-7d22d9d8e709"
      },
      "execution_count": null,
      "outputs": [
        {
          "output_type": "stream",
          "name": "stdout",
          "text": [
            "List of intergers [1, 2, 3, 4, 5]\n"
          ]
        }
      ]
    },
    {
      "cell_type": "markdown",
      "source": [
        "## 27. Convert a list of integers to a list of strings."
      ],
      "metadata": {
        "id": "v8gL2HLORqZn"
      }
    },
    {
      "cell_type": "code",
      "source": [
        "integer_list = [1,2,3,4,5]\n",
        "string_list = [str(x)for x in integer_list]\n",
        "print(\"List of string\", string_list)"
      ],
      "metadata": {
        "colab": {
          "base_uri": "https://localhost:8080/"
        },
        "id": "_9D8hr4QRkoN",
        "outputId": "b4e616ea-ed76-44b6-f256-41393bb79b6c"
      },
      "execution_count": null,
      "outputs": [
        {
          "output_type": "stream",
          "name": "stdout",
          "text": [
            "List of string ['1', '2', '3', '4', '5']\n"
          ]
        }
      ]
    },
    {
      "cell_type": "markdown",
      "source": [
        "## 28. Flatten a nested list."
      ],
      "metadata": {
        "id": "Z0jKKTKuSOVO"
      }
    },
    {
      "cell_type": "code",
      "source": [
        "nested_list = [[1,2],[5,6,7],[3,2],[8,9,10]]\n",
        "def flatten_list(nested):\n",
        "  flattened = []\n",
        "  for sublist in nested:\n",
        "    if isinstance(sublist, list):\n",
        "      flattened.extend(flatten_list(sublist))\n",
        "    else:\n",
        "      flattened.append(sublist)\n",
        "  return flattened\n",
        "\n",
        "flattened_list = flatten_list(nested_list)\n",
        "print(\"Flattened List:\", flattened_list)"
      ],
      "metadata": {
        "colab": {
          "base_uri": "https://localhost:8080/"
        },
        "id": "1U6SgarFURAi",
        "outputId": "f56bc1c1-87b5-482a-9d10-f83a281551ab"
      },
      "execution_count": null,
      "outputs": [
        {
          "output_type": "stream",
          "name": "stdout",
          "text": [
            "Flattened List: [1, 2, 5, 6, 7, 3, 2, 8, 9, 10]\n"
          ]
        }
      ]
    },
    {
      "cell_type": "markdown",
      "source": [
        "## 29. Create a list of the first 10 Fibonacci numbers."
      ],
      "metadata": {
        "id": "0xDAbV_JWbRG"
      }
    },
    {
      "cell_type": "code",
      "source": [
        "def generate_fibonacci (n):\n",
        "  fibonacci_list = []\n",
        "  a,b = 0,1\n",
        "  for _ in range(n):\n",
        "    fibonacci_list.append(a)\n",
        "    a,b = b, a + b\n",
        "  return fibonacci_list\n",
        "\n",
        "first_10_fibonacci = generate_fibonacci(10)\n",
        "print(\"First 10 fibonacci numbers:\",first_10_fibonacci )"
      ],
      "metadata": {
        "colab": {
          "base_uri": "https://localhost:8080/"
        },
        "id": "sMmYMhT4XDSO",
        "outputId": "a260fa59-f8a9-4b21-ca76-3417340b706f"
      },
      "execution_count": null,
      "outputs": [
        {
          "output_type": "stream",
          "name": "stdout",
          "text": [
            "First 10 fibonacci numbers: [0, 1, 1, 2, 3, 5, 8, 13, 21, 34]\n"
          ]
        }
      ]
    },
    {
      "cell_type": "markdown",
      "source": [
        "## 30. Check if a list is sorted."
      ],
      "metadata": {
        "id": "TYQqUcqCYHmq"
      }
    },
    {
      "cell_type": "code",
      "source": [
        "def is_sorted_ascending(lst):\n",
        "    for i in range(1,len(lst)):\n",
        "      if lst[i] < lst[i-1]:\n",
        "        return False\n",
        "    return True\n",
        "\n",
        "ascending_list = [2,4,6,8,10,12,14]\n",
        "\n",
        "if is_sorted_ascending(ascending_list):\n",
        "  print(\"The list is sorted in ascending order\")\n",
        "else:\n",
        "  print(\"The list is not sorted in the ascending order\")"
      ],
      "metadata": {
        "colab": {
          "base_uri": "https://localhost:8080/"
        },
        "id": "Z412CWW7Yn3s",
        "outputId": "4286a3b6-9cdf-4287-ac1e-44f380f00c52"
      },
      "execution_count": null,
      "outputs": [
        {
          "output_type": "stream",
          "name": "stdout",
          "text": [
            "The list is sorted in ascending order\n"
          ]
        }
      ]
    },
    {
      "cell_type": "markdown",
      "source": [
        "## 31. Rotate a list to the left by `n` positions."
      ],
      "metadata": {
        "id": "JuRpexe3aZEA"
      }
    },
    {
      "cell_type": "code",
      "source": [
        "def rotate_left (lst,n):\n",
        "  n = n % len(lst)\n",
        "  rotated = lst[n:] + lst[:n]\n",
        "  return rotated\n",
        "\n",
        "my_list = [1,2,3,4,5,6,7,8,9]\n",
        "n = 3\n",
        "rotated_list = rotate_left(my_list,n)\n",
        "print(\"Rotated list\", rotated_list)\n"
      ],
      "metadata": {
        "colab": {
          "base_uri": "https://localhost:8080/"
        },
        "id": "f0lHupiGbONh",
        "outputId": "9d051d2f-b201-455d-e4f1-6a705366c366"
      },
      "execution_count": null,
      "outputs": [
        {
          "output_type": "stream",
          "name": "stdout",
          "text": [
            "Rotated list [4, 5, 6, 7, 8, 9, 1, 2, 3]\n"
          ]
        }
      ]
    },
    {
      "cell_type": "markdown",
      "source": [
        "## 32. Rotate a list to the right by `n` positions."
      ],
      "metadata": {
        "id": "yDbxwKvDcLsT"
      }
    },
    {
      "cell_type": "code",
      "source": [
        "def rotate_right (lst,n):\n",
        "  n = n % len(lst)\n",
        "  rotated = lst[-n:] + lst[:-n]\n",
        "  return rotated\n",
        "\n",
        "my_list = [1,2,3,4,5,6,7,8,9]\n",
        "n = 3\n",
        "rotated_list = rotate_right(my_list,n)\n",
        "print(\"Rotated list\", rotated_list)\n"
      ],
      "metadata": {
        "colab": {
          "base_uri": "https://localhost:8080/"
        },
        "id": "W7g-3kP1dJfd",
        "outputId": "fb735c4a-4c33-4133-93a7-8d117203cca7"
      },
      "execution_count": null,
      "outputs": [
        {
          "output_type": "stream",
          "name": "stdout",
          "text": [
            "Rotated list [7, 8, 9, 1, 2, 3, 4, 5, 6]\n"
          ]
        }
      ]
    },
    {
      "cell_type": "markdown",
      "source": [
        "## 33. Create a list of prime numbers up to 50."
      ],
      "metadata": {
        "id": "_IyNls69ddVv"
      }
    },
    {
      "cell_type": "code",
      "source": [
        "def is_prime(number):\n",
        "    if number <= 1:\n",
        "        return False\n",
        "    for i in range(2, int(number**0.5) + 1):\n",
        "        if number % i == 0:\n",
        "            return False\n",
        "    return True\n",
        "prime_numbers_up_to_50 = [num for num in range(2, 51) if is_prime(num)]\n",
        "print(\"Prime numbers up to 50:\", prime_numbers_up_to_50)"
      ],
      "metadata": {
        "colab": {
          "base_uri": "https://localhost:8080/"
        },
        "id": "WW26V_KyeXeK",
        "outputId": "55253ca9-40c2-4a49-e72d-965dc34f9c35"
      },
      "execution_count": null,
      "outputs": [
        {
          "output_type": "stream",
          "name": "stdout",
          "text": [
            "Prime numbers up to 50: [2, 3, 5, 7, 11, 13, 17, 19, 23, 29, 31, 37, 41, 43, 47]\n"
          ]
        }
      ]
    },
    {
      "cell_type": "markdown",
      "source": [
        "## 34. Split a list into chunks of size `n`."
      ],
      "metadata": {
        "id": "B7JE9YJagR-R"
      }
    },
    {
      "cell_type": "code",
      "source": [
        "def chunk_list(input_list, chunk_size):\n",
        "  return [input_list[i:i + chunk_size] for i in range(0, len(input_list), chunk_size)]\n",
        "\n",
        "my_list = [1,2,3,4,5,6,7,8,9,10]\n",
        "chunk_size = 4\n",
        "\n",
        "result = chunk_list(my_list, chunk_size)\n",
        "print(f\"Original list:{my_list}\")\n",
        "print(f\"Chunk of size : {chunk_size}: {result}\")"
      ],
      "metadata": {
        "colab": {
          "base_uri": "https://localhost:8080/"
        },
        "id": "F2CVXr2RhBQU",
        "outputId": "12eb0558-6015-49fa-a929-f58dfc735ad2"
      },
      "execution_count": null,
      "outputs": [
        {
          "output_type": "stream",
          "name": "stdout",
          "text": [
            "Original list:[1, 2, 3, 4, 5, 6, 7, 8, 9, 10]\n",
            "Chunk of size : 4: [[1, 2, 3, 4], [5, 6, 7, 8], [9, 10]]\n"
          ]
        }
      ]
    },
    {
      "cell_type": "markdown",
      "source": [
        "## 35. Find the second largest number in a list."
      ],
      "metadata": {
        "id": "9M1DvZPvi63E"
      }
    },
    {
      "cell_type": "code",
      "source": [
        "my_list = [30,4,6,12,56,48,98]\n",
        "sorted_list = sorted(set(my_list))\n",
        "if len(sorted_list) >= 2:\n",
        "  second_largest = sorted_list[-2]\n",
        "  print(\"Second largest number:\", second_largest)\n",
        "else:\n",
        "  print(\"The list does not contain enough elements.\")"
      ],
      "metadata": {
        "colab": {
          "base_uri": "https://localhost:8080/"
        },
        "id": "avJN4NqKjBQN",
        "outputId": "68460f01-b49d-4389-bdd6-8ee0aa5c1167"
      },
      "execution_count": null,
      "outputs": [
        {
          "output_type": "stream",
          "name": "stdout",
          "text": [
            "Second largest number: 56\n"
          ]
        }
      ]
    },
    {
      "cell_type": "markdown",
      "source": [
        "## 36. Replace every element in a list with its square."
      ],
      "metadata": {
        "id": "v_8D_yJNk0Ru"
      }
    },
    {
      "cell_type": "code",
      "source": [
        "my_list = [12,14,16,18,20]\n",
        "square_list = [x ** 2 for x in my_list]\n",
        "print(\"Square list:\", square_list)"
      ],
      "metadata": {
        "colab": {
          "base_uri": "https://localhost:8080/"
        },
        "id": "EuZg_dcNk71q",
        "outputId": "09c0c6c7-00e1-49f7-ca2a-50acdae4262e"
      },
      "execution_count": null,
      "outputs": [
        {
          "output_type": "stream",
          "name": "stdout",
          "text": [
            "Square list: [144, 196, 256, 324, 400]\n"
          ]
        }
      ]
    },
    {
      "cell_type": "markdown",
      "source": [
        "### 37. Convert a list to a dictionary where list elements become keys and their indices become values."
      ],
      "metadata": {
        "id": "0VLtELlOlYot"
      }
    },
    {
      "cell_type": "code",
      "source": [
        "my_list = ['kanpur', 'mumbai', 'delhi','nagpur', 'hyderabad', 'simla']\n",
        "my_dict = {element: index for index, element in enumerate(my_list)}\n",
        "print(\"Converted dictionary:\", my_dict)"
      ],
      "metadata": {
        "colab": {
          "base_uri": "https://localhost:8080/"
        },
        "id": "CYvxYfMJlvWN",
        "outputId": "bb76c384-ba7a-4f46-b1b0-1099f8a63f8c"
      },
      "execution_count": null,
      "outputs": [
        {
          "output_type": "stream",
          "name": "stdout",
          "text": [
            "Converted dictionary: {'kanpur': 0, 'mumbai': 1, 'delhi': 2, 'nagpur': 3, 'hyderabad': 4, 'simla': 5}\n"
          ]
        }
      ]
    },
    {
      "cell_type": "markdown",
      "source": [
        "## 38. Shuffle the elements of a list randomly."
      ],
      "metadata": {
        "id": "Fyn1ydRznJXv"
      }
    },
    {
      "cell_type": "code",
      "source": [
        "import random\n",
        "my_list= [1,2,3,4,5,6,7,45,6,4,33,44,21]\n",
        "random.shuffle(my_list)\n",
        "print(\"Shuffle list:\", my_list)"
      ],
      "metadata": {
        "colab": {
          "base_uri": "https://localhost:8080/"
        },
        "id": "gEPa-TT2nQdz",
        "outputId": "65c1dd3c-eab4-4ed4-ca8e-dedfa76eaa04"
      },
      "execution_count": null,
      "outputs": [
        {
          "output_type": "stream",
          "name": "stdout",
          "text": [
            "Shuffle list: [45, 6, 6, 33, 44, 21, 3, 4, 2, 1, 5, 7, 4]\n"
          ]
        }
      ]
    },
    {
      "cell_type": "markdown",
      "source": [
        "## 39. Create a list of the first 10 factorial numbers."
      ],
      "metadata": {
        "id": "jJGv3lKsn0Mb"
      }
    },
    {
      "cell_type": "code",
      "source": [
        "def factorial (n):\n",
        "  if n == 0 or n == 1 :\n",
        "    return 1\n",
        "  else :\n",
        "    return n * factorial (n - 1)\n",
        "factorial_numbers = [factorial(i)for i in range(10)]\n",
        "print(\"List of the first 10 factorial number:\", factorial_numbers)"
      ],
      "metadata": {
        "colab": {
          "base_uri": "https://localhost:8080/"
        },
        "id": "TYd1QpmXvcFn",
        "outputId": "cdc14e00-1d84-4ac8-cb26-a7c401f0ab31"
      },
      "execution_count": null,
      "outputs": [
        {
          "output_type": "stream",
          "name": "stdout",
          "text": [
            "List of the first 10 factorial number: [1, 1, 2, 6, 24, 120, 720, 5040, 40320, 362880]\n"
          ]
        }
      ]
    },
    {
      "cell_type": "markdown",
      "source": [
        "## 40. Check if two lists have at least one element in common."
      ],
      "metadata": {
        "id": "r74PDr5EwRtq"
      }
    },
    {
      "cell_type": "code",
      "source": [
        "def has_common_element(list1,list2):\n",
        "  for item in list1:\n",
        "    if item in list2 :\n",
        "      return True\n",
        "  return False\n",
        "\n",
        "list1 = [1,2,3,4,56]\n",
        "list2 = [56,2,3,4,5]\n",
        "\n",
        "if has_common_element(list1,list2):\n",
        "  print(\"The list have atleast one common element\")\n",
        "else:\n",
        "  print(\"The list do not have any common element\")"
      ],
      "metadata": {
        "colab": {
          "base_uri": "https://localhost:8080/"
        },
        "id": "3uRthyeuwetA",
        "outputId": "b4ac2e8e-cdef-46c7-c430-9457e631e77d"
      },
      "execution_count": null,
      "outputs": [
        {
          "output_type": "stream",
          "name": "stdout",
          "text": [
            "The list have atleast one common element\n"
          ]
        }
      ]
    },
    {
      "cell_type": "markdown",
      "source": [
        "## 41. Remove all elements from a list."
      ],
      "metadata": {
        "id": "IJPFr1ouxek3"
      }
    },
    {
      "cell_type": "code",
      "source": [
        "my_list = [2,4,6,8,10]\n",
        "my_list.clear()\n",
        "print(\"Empty list:\", my_list)"
      ],
      "metadata": {
        "colab": {
          "base_uri": "https://localhost:8080/"
        },
        "id": "JhvfphjhxZLz",
        "outputId": "e593bb13-2d74-4fad-c28c-b0bbdfca926e"
      },
      "execution_count": null,
      "outputs": [
        {
          "output_type": "stream",
          "name": "stdout",
          "text": [
            "Empty list: []\n"
          ]
        }
      ]
    },
    {
      "cell_type": "markdown",
      "source": [
        "## 42. Replace negative numbers in a list with 0."
      ],
      "metadata": {
        "id": "eJAlOh3txv54"
      }
    },
    {
      "cell_type": "code",
      "source": [
        "my_list= [-1,5,-10,15,-20,11,-7]\n",
        "for i in range(len(my_list)):\n",
        "  if my_list[i] < 0:\n",
        "    my_list [i] = 0\n",
        "\n",
        "print(\"List after replacing negative number with 0:\", my_list)"
      ],
      "metadata": {
        "colab": {
          "base_uri": "https://localhost:8080/"
        },
        "id": "_NoWXnNOx3GR",
        "outputId": "08aa5f3e-181d-4c76-871d-e9864d656aee"
      },
      "execution_count": null,
      "outputs": [
        {
          "output_type": "stream",
          "name": "stdout",
          "text": [
            "List after replacing negative number with 0: [0, 5, 0, 15, 0, 11, 0]\n"
          ]
        }
      ]
    },
    {
      "cell_type": "markdown",
      "source": [
        "## 43. Convert a string into a list of words."
      ],
      "metadata": {
        "id": "ds3JJMwly4_e"
      }
    },
    {
      "cell_type": "code",
      "source": [
        "my_string = \"Hello, what is your name?\"\n",
        "word_list = my_string.split()\n",
        "print(\"List of words:\", word_list)"
      ],
      "metadata": {
        "colab": {
          "base_uri": "https://localhost:8080/"
        },
        "id": "2lraBiSpzAQM",
        "outputId": "f1a6a216-fbc5-4c96-e6c6-c07ab2b932b8"
      },
      "execution_count": null,
      "outputs": [
        {
          "output_type": "stream",
          "name": "stdout",
          "text": [
            "List of words: ['Hello,', 'what', 'is', 'your', 'name?']\n"
          ]
        }
      ]
    },
    {
      "cell_type": "markdown",
      "source": [
        "## 44. Convert a list of words into a string."
      ],
      "metadata": {
        "id": "nV0lTOi0zblW"
      }
    },
    {
      "cell_type": "code",
      "source": [
        "word_list = [\"Hello,\", \"what\", \"is\", \"your\", \"name?\"]\n",
        "my_string = \" \".join(word_list)\n",
        "print(\"Converted String:\", my_string)"
      ],
      "metadata": {
        "colab": {
          "base_uri": "https://localhost:8080/"
        },
        "id": "PD60nfblzk0o",
        "outputId": "dfc93b93-a00a-4598-ccb2-cb964c346cd2"
      },
      "execution_count": null,
      "outputs": [
        {
          "output_type": "stream",
          "name": "stdout",
          "text": [
            "Converted String: Hello, what is your name?\n"
          ]
        }
      ]
    },
    {
      "cell_type": "markdown",
      "source": [
        "## 45. Create a list of the first `n` powers of 2."
      ],
      "metadata": {
        "id": "MxcgLHQO0JRj"
      }
    },
    {
      "cell_type": "code",
      "source": [
        "n = 5\n",
        "power_list = [2 ** i for i in range(n)]\n",
        "print(\"List of the first\", n, \"power of 2:\", power_list)"
      ],
      "metadata": {
        "colab": {
          "base_uri": "https://localhost:8080/"
        },
        "id": "6rd6f8dn0dhE",
        "outputId": "d718609b-e2c5-424e-e2b0-4bcf9e949c58"
      },
      "execution_count": null,
      "outputs": [
        {
          "output_type": "stream",
          "name": "stdout",
          "text": [
            "List of the first 5 power of 2: [1, 2, 4, 8, 16]\n"
          ]
        }
      ]
    },
    {
      "cell_type": "markdown",
      "source": [
        "## 46. Find the longest string in a list of strings."
      ],
      "metadata": {
        "id": "BCSh20mB01jC"
      }
    },
    {
      "cell_type": "code",
      "source": [
        "string_list = [\"mumbai\", \"delhi\",\"Punjab\", \"Maharashtra\"]\n",
        "longest_string = \"\"\n",
        "for s in string_list:\n",
        "  if len(s) > len(longest_string):\n",
        "    longest_string = s\n",
        "print(\"Longest String:\", longest_string)"
      ],
      "metadata": {
        "colab": {
          "base_uri": "https://localhost:8080/"
        },
        "id": "REaUQpI71CmX",
        "outputId": "0308f921-6595-4b9e-a968-9bb1a365c124"
      },
      "execution_count": null,
      "outputs": [
        {
          "output_type": "stream",
          "name": "stdout",
          "text": [
            "Longest String: Maharashtra\n"
          ]
        }
      ]
    },
    {
      "cell_type": "markdown",
      "source": [
        "## 47. Find the shortest string in a list of strings."
      ],
      "metadata": {
        "id": "DcHTTof715Bx"
      }
    },
    {
      "cell_type": "code",
      "source": [
        "string_list = [\"mumbai\", \"delhi\",\"Punjab\", \"Maharashtra\"]\n",
        "shortest_string = string_list[0]\n",
        "for s in string_list:\n",
        "  if len(s) < len(shortest_string):\n",
        "    shortest_string = s\n",
        "print(\"shortest String:\", shortest_string)"
      ],
      "metadata": {
        "colab": {
          "base_uri": "https://localhost:8080/"
        },
        "id": "-njDpyoM10qu",
        "outputId": "661be7a4-64e4-4861-d946-c658906ba870"
      },
      "execution_count": null,
      "outputs": [
        {
          "output_type": "stream",
          "name": "stdout",
          "text": [
            "shortest String: delhi\n"
          ]
        }
      ]
    },
    {
      "cell_type": "markdown",
      "source": [
        "## 48. Create a list of the first `n` triangular numbers."
      ],
      "metadata": {
        "id": "2yFhoQTv2iX3"
      }
    },
    {
      "cell_type": "code",
      "source": [
        "def triangular_number(n):\n",
        "  return [i * (i + 1) // 2 for i in range(1, n + 1)]\n",
        "n = 6\n",
        "triangular_list = triangular_number(n)\n",
        "print(\"List of the first\", n , \"triangular numbers:\", triangular_list)"
      ],
      "metadata": {
        "colab": {
          "base_uri": "https://localhost:8080/"
        },
        "id": "75hPCKov3HOZ",
        "outputId": "c4a1bea3-ea9a-4098-a258-d02e3ae0ed62"
      },
      "execution_count": null,
      "outputs": [
        {
          "output_type": "stream",
          "name": "stdout",
          "text": [
            "List of the first 6 triangular numbers: [1, 3, 6, 10, 15, 21]\n"
          ]
        }
      ]
    },
    {
      "cell_type": "markdown",
      "source": [
        "## 49. Check if a list contains another list as a subsequence."
      ],
      "metadata": {
        "id": "15y6dahd4FyD"
      }
    },
    {
      "cell_type": "code",
      "source": [
        "def is_subsequence(subsequence, main_list):\n",
        "  subseq_index = 0\n",
        "  for element in main_list:\n",
        "    if element == subsequence[subseq_index]:\n",
        "      subseq_index += 1\n",
        "      if subseq_index == len(subsequence):\n",
        "        return True\n",
        "  return False\n",
        "\n",
        "main_list = [2,4,6,8,10,12,14,16,18]\n",
        "subsequence = [2,6,10]\n",
        "\n",
        "if is_subsequence(subsequence, main_list):\n",
        "  print(\"Main list contain the subsequence.\")\n",
        "else:\n",
        "  print(\"Main list does not contain subsequence\")"
      ],
      "metadata": {
        "colab": {
          "base_uri": "https://localhost:8080/"
        },
        "id": "9E7iYnER4eEH",
        "outputId": "67e130f7-ff03-457d-f3b0-78cce3bb3af8"
      },
      "execution_count": null,
      "outputs": [
        {
          "output_type": "stream",
          "name": "stdout",
          "text": [
            "Main list contain the subsequence.\n"
          ]
        }
      ]
    },
    {
      "cell_type": "markdown",
      "source": [
        "## 50. Swap two elements in a list by their indices."
      ],
      "metadata": {
        "id": "EZnkQdxP6HGD"
      }
    },
    {
      "cell_type": "code",
      "source": [
        "my_list = [2,4,6,8,10]\n",
        "index1 = 1\n",
        "index2 = 3\n",
        "\n",
        "temp = my_list[index1]\n",
        "my_list[index1] = my_list[index2]\n",
        "my_list[index2] = temp\n",
        "\n",
        "print(\"List after swapping elements:\", my_list)"
      ],
      "metadata": {
        "colab": {
          "base_uri": "https://localhost:8080/"
        },
        "id": "3AztZMYX6ab5",
        "outputId": "9bc87b95-292c-45a6-df90-6dfb3d57c184"
      },
      "execution_count": null,
      "outputs": [
        {
          "output_type": "stream",
          "name": "stdout",
          "text": [
            "List after swapping elements: [2, 8, 6, 4, 10]\n"
          ]
        }
      ]
    },
    {
      "cell_type": "markdown",
      "source": [
        "# **TOPIC - Tuple Based Practice Problem :**"
      ],
      "metadata": {
        "id": "51ov92cutEme"
      }
    },
    {
      "cell_type": "markdown",
      "source": [
        "## 1. Create a tuple with integers from 1 to 5."
      ],
      "metadata": {
        "id": "BlEZTFFVydI4"
      }
    },
    {
      "cell_type": "code",
      "source": [
        "my_tuple = (1, 2, 3, 4, 5)\n",
        "print(my_tuple)\n"
      ],
      "metadata": {
        "colab": {
          "base_uri": "https://localhost:8080/"
        },
        "id": "k9td9a9Iyg9T",
        "outputId": "5bbf4ee2-72fd-4daf-d88c-a8ae5dfe0602"
      },
      "execution_count": null,
      "outputs": [
        {
          "output_type": "stream",
          "name": "stdout",
          "text": [
            "(1, 2, 3, 4, 5)\n"
          ]
        }
      ]
    },
    {
      "cell_type": "markdown",
      "source": [
        "## 2. Access the third element of a tuple."
      ],
      "metadata": {
        "id": "11oIp26gzAma"
      }
    },
    {
      "cell_type": "code",
      "source": [
        "my_tuple = (1,2,3,4,5)\n",
        "third_element = my_tuple[2]\n",
        "print(\"The third element of the tuple is:\", third_element)"
      ],
      "metadata": {
        "colab": {
          "base_uri": "https://localhost:8080/"
        },
        "id": "QuHGKnwKzMi7",
        "outputId": "c8aeaab1-4a0e-4fb9-9b88-b8b6f03ab7c3"
      },
      "execution_count": null,
      "outputs": [
        {
          "output_type": "stream",
          "name": "stdout",
          "text": [
            "The third element of the tuple is: 3\n"
          ]
        }
      ]
    },
    {
      "cell_type": "markdown",
      "source": [
        "## 3. Find the length of a tuple without using the `len()` function."
      ],
      "metadata": {
        "id": "33lMaFBfzle5"
      }
    },
    {
      "cell_type": "code",
      "source": [
        "my_tuple = (1,2,3,4,5,6,7)\n",
        "count = 0\n",
        "for _ in my_tuple :\n",
        "  count += 1\n",
        "print(\"the length of the tuple is:\", count)"
      ],
      "metadata": {
        "colab": {
          "base_uri": "https://localhost:8080/"
        },
        "id": "mfLYikQWzvLd",
        "outputId": "5991283b-6a8a-4d37-9c82-cc06c2f5e234"
      },
      "execution_count": null,
      "outputs": [
        {
          "output_type": "stream",
          "name": "stdout",
          "text": [
            "the length of the tuple is: 7\n"
          ]
        }
      ]
    },
    {
      "cell_type": "markdown",
      "source": [
        "## 4. Count the occurrences of an element in a tuple."
      ],
      "metadata": {
        "id": "_oZU6uql0iXB"
      }
    },
    {
      "cell_type": "code",
      "source": [
        "my_tuple = (1,2,3,4,2,3,2,4,5,6,7)\n",
        "element_to_count = 2\n",
        "count = 0\n",
        "for item in my_tuple :\n",
        "  if item == element_to_count:\n",
        "    count += 1\n",
        "print(f\" The element {element_to_count} appears {count} times in the tuple\")"
      ],
      "metadata": {
        "colab": {
          "base_uri": "https://localhost:8080/"
        },
        "id": "2HH5B6oc0vpF",
        "outputId": "6a628d7c-fff1-4343-a9c9-ea5ea82e6f04"
      },
      "execution_count": null,
      "outputs": [
        {
          "output_type": "stream",
          "name": "stdout",
          "text": [
            " The element 2 appears 3 times in the tuple\n"
          ]
        }
      ]
    },
    {
      "cell_type": "markdown",
      "source": [
        "## 5. Find the index of the first occurrence of an element in a tuple."
      ],
      "metadata": {
        "id": "vzl4XsMv1U5P"
      }
    },
    {
      "cell_type": "code",
      "source": [
        "my_tuple = (1,2,3,2,3,5,6,71)\n",
        "element_to_find = 3\n",
        "index = -1\n",
        "\n",
        "for i, item in enumerate(my_tuple):\n",
        "  if item == element_to_find:\n",
        "    index = i\n",
        "    break\n",
        "if index != -1:\n",
        "  print(f\"The first occurance of {element_to_find} is at index {index}.\")\n",
        "else :\n",
        "  print(f\"{element_to_find} is not found in the tuple.\")\n"
      ],
      "metadata": {
        "id": "QQPbfhU61d_z",
        "colab": {
          "base_uri": "https://localhost:8080/"
        },
        "outputId": "c8278b58-8a3e-44aa-e0ba-4a900cecc4d8"
      },
      "execution_count": null,
      "outputs": [
        {
          "output_type": "stream",
          "name": "stdout",
          "text": [
            "The first occurance of 3 is at index 2.\n"
          ]
        }
      ]
    },
    {
      "cell_type": "markdown",
      "source": [
        "## 6. Check if an element exists in a tuple."
      ],
      "metadata": {
        "id": "tHiwNdwTuHHk"
      }
    },
    {
      "cell_type": "code",
      "source": [
        "my_tuple = (2,3,4,5,6,78)\n",
        "element_to_check = 78\n",
        "if element_to_check in my_tuple :\n",
        "  print(f\"{element_to_check} exist in the tuple.\")\n",
        "else:\n",
        "  print(f\"{element_to_check} does not exist\")"
      ],
      "metadata": {
        "colab": {
          "base_uri": "https://localhost:8080/"
        },
        "id": "jS_z6DZTtrGb",
        "outputId": "f156cb6f-51a4-4381-db7f-ee8b724d0065"
      },
      "execution_count": null,
      "outputs": [
        {
          "output_type": "stream",
          "name": "stdout",
          "text": [
            "78 exist in the tuple.\n"
          ]
        }
      ]
    },
    {
      "cell_type": "markdown",
      "source": [
        "## 7. Convert a tuple to a list."
      ],
      "metadata": {
        "id": "DKmpqSGnu9uR"
      }
    },
    {
      "cell_type": "code",
      "source": [
        "my_tuple = (1,2,3,4,5)\n",
        "my_list = list(my_tuple)\n",
        "print(\"Tuple:\", my_tuple)\n",
        "print(\"List:\", my_list)"
      ],
      "metadata": {
        "colab": {
          "base_uri": "https://localhost:8080/"
        },
        "id": "11TGumVevWo6",
        "outputId": "28997802-95d6-4ef9-afc0-299d0473ab2c"
      },
      "execution_count": null,
      "outputs": [
        {
          "output_type": "stream",
          "name": "stdout",
          "text": [
            "Tuple: (1, 2, 3, 4, 5)\n",
            "List: [1, 2, 3, 4, 5]\n"
          ]
        }
      ]
    },
    {
      "cell_type": "markdown",
      "source": [
        "## 8. Convert a list to a tuple."
      ],
      "metadata": {
        "id": "Fky_R3TYwQ5A"
      }
    },
    {
      "cell_type": "code",
      "source": [
        "my_list = [1,2,3,4,5]\n",
        "my_tuple = tuple(my_list)\n",
        "print(\"list:\", my_list)\n",
        "print(\"tuple:\", my_tuple)"
      ],
      "metadata": {
        "colab": {
          "base_uri": "https://localhost:8080/"
        },
        "id": "wZyH4HAwwFjH",
        "outputId": "7598f25b-f0d1-40bd-f6c0-4431eea95998"
      },
      "execution_count": null,
      "outputs": [
        {
          "output_type": "stream",
          "name": "stdout",
          "text": [
            "list: [1, 2, 3, 4, 5]\n",
            "tuple: (1, 2, 3, 4, 5)\n"
          ]
        }
      ]
    },
    {
      "cell_type": "markdown",
      "source": [
        "## 9. Unpack the elements of a tuple into variables."
      ],
      "metadata": {
        "id": "jVUmj6HxxCTP"
      }
    },
    {
      "cell_type": "code",
      "source": [
        "my_tuple = (5,10,15)\n",
        "var1, var2, var3 = my_tuple\n",
        "print(\"var1:\", var1)\n",
        "print(\"var2:\", var2)\n",
        "print(\"var3:\", var3)"
      ],
      "metadata": {
        "colab": {
          "base_uri": "https://localhost:8080/"
        },
        "id": "ciVxypVpxM5i",
        "outputId": "d37e3e3c-ca07-409f-82d8-a58101181214"
      },
      "execution_count": null,
      "outputs": [
        {
          "output_type": "stream",
          "name": "stdout",
          "text": [
            "var1: 5\n",
            "var2: 10\n",
            "var3: 15\n"
          ]
        }
      ]
    },
    {
      "cell_type": "markdown",
      "source": [
        "## 10. Create a tuple of even numbers from 1 to 10."
      ],
      "metadata": {
        "id": "wYunPmDbxwgd"
      }
    },
    {
      "cell_type": "code",
      "source": [
        "even_number_list = [num for num in range(2,11,2)]\n",
        "even_number_tuple = tuple(even_number_list)\n",
        "print(\"Tuple of even number:\", even_number_tuple)"
      ],
      "metadata": {
        "colab": {
          "base_uri": "https://localhost:8080/"
        },
        "id": "oxDW7364xo2h",
        "outputId": "b731d99d-5126-4a9b-ef9c-5aee31c1ae11"
      },
      "execution_count": null,
      "outputs": [
        {
          "output_type": "stream",
          "name": "stdout",
          "text": [
            "Tuple of even number: (2, 4, 6, 8, 10)\n"
          ]
        }
      ]
    },
    {
      "cell_type": "markdown",
      "source": [
        "## 11. Create a tuple of odd numbers from 1 to 10."
      ],
      "metadata": {
        "id": "OpzBO-Xqyi6Q"
      }
    },
    {
      "cell_type": "code",
      "source": [
        "odd_numbers = tuple(i for i in range(1, 11) if i% 2 != 0)\n",
        "print(odd_numbers)"
      ],
      "metadata": {
        "colab": {
          "base_uri": "https://localhost:8080/"
        },
        "id": "H7Az_r_SzBz3",
        "outputId": "db9533cc-d906-42f1-e527-08f5f8452f92"
      },
      "execution_count": null,
      "outputs": [
        {
          "output_type": "stream",
          "name": "stdout",
          "text": [
            "(1, 3, 5, 7, 9)\n"
          ]
        }
      ]
    },
    {
      "cell_type": "markdown",
      "source": [
        "## 12. Concatenate two tuples."
      ],
      "metadata": {
        "id": "Vc2m1mc70Rst"
      }
    },
    {
      "cell_type": "markdown",
      "source": [
        "## 13. Repeat a tuple three times."
      ],
      "metadata": {
        "id": "dP-wZmJW01-y"
      }
    },
    {
      "cell_type": "code",
      "source": [
        "original_tuple = (2,4,6,8)\n",
        "repeated_tuple = original_tuple * 3\n",
        "print(\"Repeated Tuple:\", repeated_tuple)"
      ],
      "metadata": {
        "colab": {
          "base_uri": "https://localhost:8080/"
        },
        "id": "dlTJrEWf0zec",
        "outputId": "5e8556e2-24b2-4741-f831-69dbeab022bc"
      },
      "execution_count": null,
      "outputs": [
        {
          "output_type": "stream",
          "name": "stdout",
          "text": [
            "Repeated Tuple: (2, 4, 6, 8, 2, 4, 6, 8, 2, 4, 6, 8)\n"
          ]
        }
      ]
    },
    {
      "cell_type": "markdown",
      "source": [
        "## 14. Check if a tuple is empty."
      ],
      "metadata": {
        "id": "xIE4GX9a1Yo2"
      }
    },
    {
      "cell_type": "code",
      "source": [
        "empty_tuple = ()\n",
        "non_empty_tuple = (2,4,6)\n",
        "if not empty_tuple:\n",
        "  print(\"The empty_tuple is empty\")\n",
        "else:\n",
        "  print(\"The empty_tuple is not empty\")\n",
        "\n",
        "if not non_empty_tuple :\n",
        "  print(\"The non_empty_tuple is empty\")\n",
        "else :\n",
        "  print(\"The non_empty_tuple is not empty\")"
      ],
      "metadata": {
        "colab": {
          "base_uri": "https://localhost:8080/"
        },
        "id": "hgEH-YJD1qse",
        "outputId": "51633d29-b625-4f57-937d-c17cb60b7dd9"
      },
      "execution_count": null,
      "outputs": [
        {
          "output_type": "stream",
          "name": "stdout",
          "text": [
            "The empty_tuple is empty\n",
            "The non_empty_tuple is not empty\n"
          ]
        }
      ]
    },
    {
      "cell_type": "markdown",
      "source": [
        "## 15. Create a nested tuple."
      ],
      "metadata": {
        "id": "Nwngh8Fp2kwH"
      }
    },
    {
      "cell_type": "code",
      "source": [
        "nested_tuple = ((2,4,6), ('q', 'bd', 'e'), (True, False))\n",
        "print(\"Nested Tuple:\", nested_tuple)"
      ],
      "metadata": {
        "colab": {
          "base_uri": "https://localhost:8080/"
        },
        "id": "_VBLLnZr2skw",
        "outputId": "6602f48d-41c3-4d48-dd07-8c3928f2ddf4"
      },
      "execution_count": null,
      "outputs": [
        {
          "output_type": "stream",
          "name": "stdout",
          "text": [
            "Nested Tuple: ((2, 4, 6), ('q', 'bd', 'e'), (True, False))\n"
          ]
        }
      ]
    },
    {
      "cell_type": "markdown",
      "source": [
        "## 16. Access the first element of a nested tuple."
      ],
      "metadata": {
        "id": "ilw21OF1DPl0"
      }
    },
    {
      "cell_type": "code",
      "source": [
        "nested_tuple = ((2,4,6), ('q', 'bd', 'e'), (True, False))\n",
        "first_element = nested_tuple[0]\n",
        "print(\"First element of the nested Tuple:\", first_element)"
      ],
      "metadata": {
        "colab": {
          "base_uri": "https://localhost:8080/"
        },
        "id": "kDaubf6TDWaF",
        "outputId": "2a38a43c-b31c-4cd6-846e-23b21a408e56"
      },
      "execution_count": null,
      "outputs": [
        {
          "output_type": "stream",
          "name": "stdout",
          "text": [
            "First element of the nested Tuple: (2, 4, 6)\n"
          ]
        }
      ]
    },
    {
      "cell_type": "markdown",
      "source": [
        "##17. Create a tuple with a single element."
      ],
      "metadata": {
        "id": "rQFyt3_XDvWu"
      }
    },
    {
      "cell_type": "code",
      "source": [
        "single_element_tuple = (21)\n",
        "print(\"single element tuple:\", single_element_tuple)"
      ],
      "metadata": {
        "colab": {
          "base_uri": "https://localhost:8080/"
        },
        "id": "yi96uXzTDs6U",
        "outputId": "6df847f8-078a-45ef-ab43-2e3f7ea0eeb2"
      },
      "execution_count": null,
      "outputs": [
        {
          "output_type": "stream",
          "name": "stdout",
          "text": [
            "single element tuple: 21\n"
          ]
        }
      ]
    },
    {
      "cell_type": "markdown",
      "source": [
        "## 18. Compare two tuples."
      ],
      "metadata": {
        "id": "U6zYDn1lEJAc"
      }
    },
    {
      "cell_type": "code",
      "source": [
        "tuple1 = (2,3,4)\n",
        "tuple2 = (2,3,5)\n",
        "print(\"tuple1 == tuple2:\", tuple1 == tuple2)\n",
        "print(\"tuple1 != tuple2:\", tuple1 != tuple2)\n",
        "print(\"tuple1 < tuple2:\", tuple1 < tuple2)\n",
        "print(\"tuple1 <= tuple2:\", tuple1 <= tuple2)\n",
        "print(\"tuple1 > tuple2:\", tuple1 > tuple2)\n",
        "print(\"tuple1 >= tuple2:\", tuple1 >= tuple2)\n"
      ],
      "metadata": {
        "colab": {
          "base_uri": "https://localhost:8080/"
        },
        "id": "rQ-6-VNPpkjL",
        "outputId": "3128e3d8-6808-4c4c-a4b0-a291c4020c4e"
      },
      "execution_count": null,
      "outputs": [
        {
          "output_type": "stream",
          "name": "stdout",
          "text": [
            "tuple1 == tuple2: False\n",
            "tuple1 != tuple2: True\n",
            "tuple1 < tuple2: True\n",
            "tuple1 <= tuple2: True\n",
            "tuple1 > tuple2: False\n",
            "tuple1 >= tuple2: False\n"
          ]
        }
      ]
    },
    {
      "cell_type": "markdown",
      "source": [
        "## 19. Delete a tuple."
      ],
      "metadata": {
        "id": "ukVKJ-5AqOwV"
      }
    },
    {
      "cell_type": "code",
      "source": [
        "\n",
        "my_tuple = (1, 2, 3, 4, 5)\n",
        "\n",
        "del my_tuple\n"
      ],
      "metadata": {
        "id": "Se3H4CvZqWrO"
      },
      "execution_count": null,
      "outputs": []
    },
    {
      "cell_type": "markdown",
      "source": [
        "## 20. Slice a tuple."
      ],
      "metadata": {
        "id": "bf4QXdOKrLby"
      }
    },
    {
      "cell_type": "code",
      "source": [
        "my_tuple = [2,4,6,8,10,12,14,16,18,20]\n",
        "sliced_tuple = my_tuple[2:5]\n",
        "print(\"sliced tuple:\", sliced_tuple)"
      ],
      "metadata": {
        "colab": {
          "base_uri": "https://localhost:8080/"
        },
        "id": "qW-ZZmXXrYdn",
        "outputId": "8b9f362f-f4fa-4841-d546-7763e8825ee8"
      },
      "execution_count": null,
      "outputs": [
        {
          "output_type": "stream",
          "name": "stdout",
          "text": [
            "sliced tuple: [6, 8, 10]\n"
          ]
        }
      ]
    },
    {
      "cell_type": "markdown",
      "source": [
        "## 21. Find the maximum value in a tuple."
      ],
      "metadata": {
        "id": "SAW5ik2Tr0J8"
      }
    },
    {
      "cell_type": "code",
      "source": [
        "my_tuple = (234,432,567,1,986)\n",
        "max_value = max(my_tuple)\n",
        "print(\"Maximun Value:\", max_value)"
      ],
      "metadata": {
        "colab": {
          "base_uri": "https://localhost:8080/"
        },
        "id": "RZg-z7Q9sD_c",
        "outputId": "89753542-884f-442a-832a-0819fbc4c91d"
      },
      "execution_count": null,
      "outputs": [
        {
          "output_type": "stream",
          "name": "stdout",
          "text": [
            "Maximun Value: 986\n"
          ]
        }
      ]
    },
    {
      "cell_type": "markdown",
      "source": [
        "## 22. Find the minimum value in a tuple."
      ],
      "metadata": {
        "id": "mdyNySQ9slmm"
      }
    },
    {
      "cell_type": "code",
      "source": [
        "my_tuple = (234,432,567,1,986)\n",
        "min_value = min(my_tuple)\n",
        "print(\"Minimun Value:\", min_value)"
      ],
      "metadata": {
        "colab": {
          "base_uri": "https://localhost:8080/"
        },
        "id": "QJ7anK4asXMD",
        "outputId": "fef8db37-9e26-4501-f69d-a07b9e1f7da6"
      },
      "execution_count": null,
      "outputs": [
        {
          "output_type": "stream",
          "name": "stdout",
          "text": [
            "Minimun Value: 1\n"
          ]
        }
      ]
    },
    {
      "cell_type": "markdown",
      "source": [
        "## 23. Convert a string to a tuple of characters."
      ],
      "metadata": {
        "id": "iKSIWg97s1_s"
      }
    },
    {
      "cell_type": "code",
      "source": [
        "my_string = \"Hey, Abhishek!\"\n",
        "tuple_of_character = tuple(my_string)\n",
        "print(\"Tuple of character:\",tuple_of_character )"
      ],
      "metadata": {
        "colab": {
          "base_uri": "https://localhost:8080/"
        },
        "id": "W8-ie8mptD86",
        "outputId": "0b855f3d-667e-4437-ce4e-99c798394d36"
      },
      "execution_count": null,
      "outputs": [
        {
          "output_type": "stream",
          "name": "stdout",
          "text": [
            "Tuple of character: ('H', 'e', 'y', ',', ' ', 'A', 'b', 'h', 'i', 's', 'h', 'e', 'k', '!')\n"
          ]
        }
      ]
    },
    {
      "cell_type": "markdown",
      "source": [
        "## 24. Convert a tuple of characters to a string."
      ],
      "metadata": {
        "id": "QA2aFfPVOGqE"
      }
    },
    {
      "cell_type": "code",
      "source": [
        "tuple_of_character = ('H', 'e', 'y', ',', ' ', 'A', 'b', 'h', 'i', 's', 'h', 'e', 'k', '!')\n",
        "string_from_tuple = ''.join(tuple_of_character)\n",
        "print(\"string_from_tuple:\", string_from_tuple)"
      ],
      "metadata": {
        "colab": {
          "base_uri": "https://localhost:8080/"
        },
        "id": "Py3z6-E6OPj0",
        "outputId": "52a99058-3a71-422f-dbf7-45e06709347e"
      },
      "execution_count": null,
      "outputs": [
        {
          "output_type": "stream",
          "name": "stdout",
          "text": [
            "string_from_tuple: Hey, Abhishek!\n"
          ]
        }
      ]
    },
    {
      "cell_type": "markdown",
      "source": [
        "## 25. Create a tuple from multiple data types."
      ],
      "metadata": {
        "id": "vZxxiT5MO1P5"
      }
    },
    {
      "cell_type": "code",
      "source": [
        "mixed_tuple = (1, \"Abhishek\", 345, True)\n",
        "print(mixed_tuple)"
      ],
      "metadata": {
        "colab": {
          "base_uri": "https://localhost:8080/"
        },
        "id": "Out0YF39Ov_e",
        "outputId": "e8b71a7a-83a6-4b31-f063-16431e8ebe83"
      },
      "execution_count": null,
      "outputs": [
        {
          "output_type": "stream",
          "name": "stdout",
          "text": [
            "(1, 'Abhishek', 345, True)\n"
          ]
        }
      ]
    },
    {
      "cell_type": "markdown",
      "source": [
        "## 26. Check if two tuples are identical."
      ],
      "metadata": {
        "id": "mO2CGLSPPGlk"
      }
    },
    {
      "cell_type": "code",
      "source": [
        "tuple1 = (1,2,3)\n",
        "tuple2 = (4,5,6)\n",
        "tuple3 = (1,2,3)\n",
        "\n",
        "are_identical1 = tuple1 == tuple2\n",
        "are_identical2 = tuple1 == tuple3\n",
        "\n",
        "print(\"tuple1 and tuple2 are identical:\", are_identical1)\n",
        "print(\"tuple1 and tuple3 are identical:\", are_identical2)"
      ],
      "metadata": {
        "colab": {
          "base_uri": "https://localhost:8080/"
        },
        "id": "f2hhPkEfPUoc",
        "outputId": "0ece419d-f19a-4a9e-87c3-9fc744c96ad8"
      },
      "execution_count": null,
      "outputs": [
        {
          "output_type": "stream",
          "name": "stdout",
          "text": [
            "tuple1 and tuple2 are identical: False\n",
            "tuple1 and tuple3 are identical: True\n"
          ]
        }
      ]
    },
    {
      "cell_type": "markdown",
      "source": [
        "## 27. Sort the elements of a tuple."
      ],
      "metadata": {
        "id": "C7o7h9OOPz2v"
      }
    },
    {
      "cell_type": "code",
      "source": [
        "my_tuple = (4,1,3,2,6,8,7,9)\n",
        "sorted_tuple = tuple(sorted(my_tuple))\n",
        "print(\"Sorted Tuple\", sorted_tuple)"
      ],
      "metadata": {
        "colab": {
          "base_uri": "https://localhost:8080/"
        },
        "id": "1_gTts-QP8fS",
        "outputId": "1362959e-b7ad-48db-b52d-084523b7f251"
      },
      "execution_count": null,
      "outputs": [
        {
          "output_type": "stream",
          "name": "stdout",
          "text": [
            "Sorted Tuple (1, 2, 3, 4, 6, 7, 8, 9)\n"
          ]
        }
      ]
    },
    {
      "cell_type": "markdown",
      "source": [
        "## 28. Convert a tuple of integers to a tuple of strings."
      ],
      "metadata": {
        "id": "FfLbeKEIQTBX"
      }
    },
    {
      "cell_type": "code",
      "source": [
        "tuple_of_integers = (1,2,3,4,5,6,7)\n",
        "tuple_of_string = tuple(str(item) for item in tuple_of_integers)\n",
        "print(\"Tuple of strings:\", tuple_of_strings)"
      ],
      "metadata": {
        "colab": {
          "base_uri": "https://localhost:8080/"
        },
        "id": "nGDpzC7WQdRC",
        "outputId": "578cc225-46f2-480c-bdb1-bd1ef149f1a7"
      },
      "execution_count": null,
      "outputs": [
        {
          "output_type": "stream",
          "name": "stdout",
          "text": [
            "Tuple of strings: ('1', '2', '3', '4', '5', '6', '7')\n"
          ]
        }
      ]
    },
    {
      "cell_type": "markdown",
      "source": [
        "## 29. Convert a tuple of strings to a tuple of integers."
      ],
      "metadata": {
        "id": "uthXYz7URdR6"
      }
    },
    {
      "cell_type": "code",
      "source": [
        "tuple_of_strings = ('1', '2','3','4','5')\n",
        "tuple_of_integers = tuple(int(item) for item in tuple_of_strings)\n",
        "print(\"tuple of integers:\", tuple_of_integers)"
      ],
      "metadata": {
        "colab": {
          "base_uri": "https://localhost:8080/"
        },
        "id": "2X-jMLoGRl61",
        "outputId": "15a82588-1e21-4a25-f584-5bb6d9435adb"
      },
      "execution_count": null,
      "outputs": [
        {
          "output_type": "stream",
          "name": "stdout",
          "text": [
            "tuple of integers: (1, 2, 3, 4, 5)\n"
          ]
        }
      ]
    },
    {
      "cell_type": "markdown",
      "source": [
        "## 30. Merge two tuples."
      ],
      "metadata": {
        "id": "2_Cu78pUSG8u"
      }
    },
    {
      "cell_type": "code",
      "source": [
        "tuple1 = (1, 2, 3)\n",
        "tuple2 = (4, 5, 6)\n",
        "merged_tuple = tuple1 + tuple2\n",
        "print(\"Merged tuple:\", merged_tuple)"
      ],
      "metadata": {
        "colab": {
          "base_uri": "https://localhost:8080/"
        },
        "id": "T9Dh6N5WSGUS",
        "outputId": "3a84ad7b-d8cd-4bac-f2fe-cf61b81be079"
      },
      "execution_count": null,
      "outputs": [
        {
          "output_type": "stream",
          "name": "stdout",
          "text": [
            "Merged tuple: (1, 2, 3, 4, 5, 6)\n"
          ]
        }
      ]
    },
    {
      "cell_type": "markdown",
      "source": [
        "## 31. Flatten a nested tuple."
      ],
      "metadata": {
        "id": "39PoUzE7STA-"
      }
    },
    {
      "cell_type": "code",
      "source": [
        "def flatten_tuple(nested_tuple):\n",
        "    flattened = []\n",
        "    for item in nested_tuple :\n",
        "      if isinstance(item, tuple):\n",
        "        flattened.extend(flatten_tuple(item))\n",
        "      else:\n",
        "        flattened.append(item)\n",
        "    return flattened\n",
        "nested_tuple = ((1,2), (34,35,36), (89,(90,91,93)))\n",
        "\n",
        "flattened_tuple = tuple(flatten_tuple(nested_tuple))\n",
        "print(\"Flattened tuple:\", flattened_tuple)"
      ],
      "metadata": {
        "colab": {
          "base_uri": "https://localhost:8080/"
        },
        "id": "c2No3e-6S0Sq",
        "outputId": "0eb434ee-f5a7-4786-ab55-945eecabc2c0"
      },
      "execution_count": null,
      "outputs": [
        {
          "output_type": "stream",
          "name": "stdout",
          "text": [
            "Flattened tuple: (1, 2, 34, 35, 36, 89, 90, 91, 93)\n"
          ]
        }
      ]
    },
    {
      "cell_type": "markdown",
      "source": [
        "## 32. Create a tuple of the first 5 prime numbers."
      ],
      "metadata": {
        "id": "7I84nO3XfrAe"
      }
    },
    {
      "cell_type": "code",
      "source": [
        "def is_prime(num):\n",
        "  if num <= 1:\n",
        "    return False\n",
        "  for i in range (2, int(num ** 0.5) + 1):\n",
        "    if num % i == 0 :\n",
        "      return False\n",
        "  return True\n",
        "\n",
        "prime_numbers_list = [num for num in range(2,50) if is_prime(num)][:5]\n",
        "prime_number_tuple = tuple(prime_numbers_list)\n",
        "print(\"Tuple of the first 5 prime number:\", prime_number_tuple)"
      ],
      "metadata": {
        "colab": {
          "base_uri": "https://localhost:8080/"
        },
        "id": "1udb4Ct9f16t",
        "outputId": "c6276412-b414-4c31-c17e-65727f33604f"
      },
      "execution_count": null,
      "outputs": [
        {
          "output_type": "stream",
          "name": "stdout",
          "text": [
            "Tuple of the first 5 prime number: (2, 3, 5, 7, 11)\n"
          ]
        }
      ]
    },
    {
      "cell_type": "markdown",
      "source": [
        "## 33. Check if a tuple is a palindrome."
      ],
      "metadata": {
        "id": "EAbp1splh4wX"
      }
    },
    {
      "cell_type": "code",
      "source": [
        "def is_palindrome(tup):\n",
        "  return tup == tup[::-1]\n",
        "\n",
        "palindrome_tuple = (1,2,3,2,1)\n",
        "non_palindrome_tuple = (1,2,3,4,5,6)\n",
        "\n",
        "is_palindrome1 = is_palindrome(palindrome_tuple)\n",
        "is_palindrome2 = is_palindrome(non_palindrome_tuple)\n",
        "\n",
        "print(\"panlindrome_tuple is a palindrome:\", is_palindrome1)\n",
        "print(\"non_palindrome_tuple is a palindrome:\", is_palindrome2)\n"
      ],
      "metadata": {
        "colab": {
          "base_uri": "https://localhost:8080/"
        },
        "id": "utfLK5R7h_rF",
        "outputId": "dff7c598-b649-431c-9119-61dcfe87afba"
      },
      "execution_count": null,
      "outputs": [
        {
          "output_type": "stream",
          "name": "stdout",
          "text": [
            "panlindrome_tuple is a palindrome: True\n",
            "non_palindrome_tuple is a palindrome: False\n"
          ]
        }
      ]
    },
    {
      "cell_type": "markdown",
      "source": [
        "## 34. Create a tuple of squares of numbers from 1 to 5."
      ],
      "metadata": {
        "id": "IMyZ8vvujQkC"
      }
    },
    {
      "cell_type": "code",
      "source": [
        "square_tuple = tuple(x ** 2 for x in range (1,6))\n",
        "print(\"Tuple of square:\", square_tuple)"
      ],
      "metadata": {
        "colab": {
          "base_uri": "https://localhost:8080/"
        },
        "id": "lfzbFQoEjbb0",
        "outputId": "c2f4eee3-6392-4b19-b9d7-79339f7518d8"
      },
      "execution_count": null,
      "outputs": [
        {
          "output_type": "stream",
          "name": "stdout",
          "text": [
            "Tuple of square: (1, 4, 9, 16, 25)\n"
          ]
        }
      ]
    },
    {
      "cell_type": "markdown",
      "source": [
        "## 35. Filter out all even numbers from a tuple.\n"
      ],
      "metadata": {
        "id": "KSoLreicjvpW"
      }
    },
    {
      "cell_type": "code",
      "source": [
        "original_tuple = (1,2,3,4,7,9,33,42,56,57,59,99)\n",
        "filtered_tuple = tuple( num for num in original_tuple if num % 2 != 0)\n",
        "print(\"Filtered tuple:\", filtered_tuple)"
      ],
      "metadata": {
        "colab": {
          "base_uri": "https://localhost:8080/"
        },
        "id": "dFHBuDTOj6VF",
        "outputId": "86f83ae1-1f2a-4551-e31e-7c4a8599fd34"
      },
      "execution_count": null,
      "outputs": [
        {
          "output_type": "stream",
          "name": "stdout",
          "text": [
            "Filtered tuple: (1, 3, 7, 9, 33, 57, 59, 99)\n"
          ]
        }
      ]
    },
    {
      "cell_type": "markdown",
      "source": [
        "## 36. Multiply all elements in a tuple by 2."
      ],
      "metadata": {
        "id": "ui2IQI5EkkES"
      }
    },
    {
      "cell_type": "code",
      "source": [
        "original_tuple = (1,2,3,4,5)\n",
        "doubled_tuple = tuple(num * 2 for num in original_tuple)\n",
        "print(\"double tuple:\", doubled_tuple)"
      ],
      "metadata": {
        "colab": {
          "base_uri": "https://localhost:8080/"
        },
        "id": "xDEvJTJtkvHg",
        "outputId": "bfaa0a7d-912a-4be4-b619-2e9ceb93e501"
      },
      "execution_count": null,
      "outputs": [
        {
          "output_type": "stream",
          "name": "stdout",
          "text": [
            "double tuple: (2, 4, 6, 8, 10)\n"
          ]
        }
      ]
    },
    {
      "cell_type": "markdown",
      "source": [
        "## 37. Create a tuple of random numbers."
      ],
      "metadata": {
        "id": "57JTBWUilPz4"
      }
    },
    {
      "cell_type": "code",
      "source": [
        "import random\n",
        "random_tuple = tuple(random.randint(1, 100) for _ in range(10))\n",
        "print(\"Randon tuple:\", random_tuple)"
      ],
      "metadata": {
        "colab": {
          "base_uri": "https://localhost:8080/"
        },
        "id": "taGDiUpRlZ74",
        "outputId": "c633d84e-475b-48b7-d36b-665db0f8004a"
      },
      "execution_count": null,
      "outputs": [
        {
          "output_type": "stream",
          "name": "stdout",
          "text": [
            "Randon tuple: (65, 74, 65, 7, 35, 6, 46, 70, 66, 99)\n"
          ]
        }
      ]
    },
    {
      "cell_type": "markdown",
      "source": [
        "## 38. Check if a tuple is sorted."
      ],
      "metadata": {
        "id": "4JvZyeIJl9N8"
      }
    },
    {
      "cell_type": "code",
      "source": [
        "def is_sorted(tup):\n",
        "  for i in range(len(tup) - 1):\n",
        "    if tup[i] > tup[i + 1]:\n",
        "      return False\n",
        "  return True\n",
        "\n",
        "sorted_list = (1,2,3,4,5)\n",
        "unsorted_list = (5,32,4,9,6,2)\n",
        "\n",
        "is_sorted1 = is_sorted(sorted_tuple)\n",
        "is_sorted2 = is_sorted(unsorted_tuple)\n",
        "print(\"sorted_tuple is sorted:\", is_sorted1)\n",
        "print(\"unsorted_tuple is sorted:\", is_sorted2)\n"
      ],
      "metadata": {
        "colab": {
          "base_uri": "https://localhost:8080/"
        },
        "id": "iDjIPQaKmEvY",
        "outputId": "bbf08cb8-c41d-4fcf-bc31-5164eb0cfe44"
      },
      "execution_count": null,
      "outputs": [
        {
          "output_type": "stream",
          "name": "stdout",
          "text": [
            "sorted_tuple is sorted: True\n",
            "unsorted_tuple is sorted: False\n"
          ]
        }
      ]
    },
    {
      "cell_type": "markdown",
      "source": [
        "## 39. Rotate a tuple to the left by `n` positions."
      ],
      "metadata": {
        "id": "DI4FXtQpoHZP"
      }
    },
    {
      "cell_type": "code",
      "source": [
        "def rotate_tuple_left(tup, n):\n",
        "  n = n % len(tup)\n",
        "  rotate_tuple = tup[n:] + tup[:n]\n",
        "  return rotate_tuple\n",
        "\n",
        "my_tuple = (1,2,3,4,5,6,7)\n",
        "n_postion = 3\n",
        "result = rotate_tuple_left(my_tuple, n_postion)\n",
        "print(result)"
      ],
      "metadata": {
        "colab": {
          "base_uri": "https://localhost:8080/"
        },
        "id": "Gfmj3M8qitVL",
        "outputId": "8b710e16-08e2-437c-a6a7-6cf0140080c8"
      },
      "execution_count": null,
      "outputs": [
        {
          "output_type": "stream",
          "name": "stdout",
          "text": [
            "(4, 5, 6, 7, 1, 2, 3)\n"
          ]
        }
      ]
    },
    {
      "cell_type": "markdown",
      "source": [
        "## 40. Rotate a tuple to the right by `n` positions."
      ],
      "metadata": {
        "id": "FBhOH1Y3jzZs"
      }
    },
    {
      "cell_type": "code",
      "source": [
        "def rotate_tuple_right(tup, n):\n",
        "  n = n % len(tup)\n",
        "  rotate_tuple = tup[-n:] + tup[:-n]\n",
        "  return rotate_tuple\n",
        "\n",
        "my_tuple = (1,2,3,4,5)\n",
        "n_postion = 2\n",
        "result = rotate_tuple_right(my_tuple, n_postion)\n",
        "print(result)"
      ],
      "metadata": {
        "colab": {
          "base_uri": "https://localhost:8080/"
        },
        "id": "IYRABXeLjq67",
        "outputId": "ec2739d5-4a89-4f94-a873-a93fd4be8d32"
      },
      "execution_count": null,
      "outputs": [
        {
          "output_type": "stream",
          "name": "stdout",
          "text": [
            "(4, 5, 1, 2, 3)\n"
          ]
        }
      ]
    },
    {
      "cell_type": "markdown",
      "source": [
        "## 41. Create a tuple of the first 5 Fibonacci numbers."
      ],
      "metadata": {
        "id": "9mbowCrZkjDQ"
      }
    },
    {
      "cell_type": "code",
      "source": [
        "def generate_fibonacci(n):\n",
        "  fibonacci = [0,1]\n",
        "  while len(fibonacci) < n :\n",
        "    next_number = fibonacci[-1] + fibonacci [-2]\n",
        "    fibonacci.append(next_number)\n",
        "  return tuple(fibonacci)\n",
        "fibonacci_tuple = generate_fibonacci(5)\n",
        "print(fibonacci_tuple)"
      ],
      "metadata": {
        "colab": {
          "base_uri": "https://localhost:8080/"
        },
        "id": "yPbmwdoHkstR",
        "outputId": "0d3b5ddd-3171-4961-cab3-f4325b101425"
      },
      "execution_count": null,
      "outputs": [
        {
          "output_type": "stream",
          "name": "stdout",
          "text": [
            "(0, 1, 1, 2, 3)\n"
          ]
        }
      ]
    },
    {
      "cell_type": "markdown",
      "source": [
        "## 42. Create a tuple from user input."
      ],
      "metadata": {
        "id": "jE97DsVUl8Eg"
      }
    },
    {
      "cell_type": "code",
      "source": [
        "input_str = input(\"Enter element seperated by commas: \")\n",
        "input_list = input_str.split(',')\n",
        "user_tuple = tuple(input_list)\n",
        "print(\"User input tuple:\", user_tuple)"
      ],
      "metadata": {
        "colab": {
          "base_uri": "https://localhost:8080/"
        },
        "id": "6Hcl-GzJl4Df",
        "outputId": "7b109f9d-2b5f-4244-93aa-d571941f63f7"
      },
      "execution_count": null,
      "outputs": [
        {
          "output_type": "stream",
          "name": "stdout",
          "text": [
            "Enter element seperated by commas: Hey, Abhishek\n",
            "User input tuple: ('Hey', ' Abhishek')\n"
          ]
        }
      ]
    },
    {
      "cell_type": "markdown",
      "source": [
        "## 43. Swap two elements in a tuple."
      ],
      "metadata": {
        "id": "0GL8YA6um7Ir"
      }
    },
    {
      "cell_type": "code",
      "source": [
        "my_tuple = (1,2,3,4,5)\n",
        "index1 = 1\n",
        "index2 = 3\n",
        "swapped_tuple = tuple(\n",
        "    my_tuple[i] if i not in (index1, index2) else\n",
        "    my_tuple[index2] if i == index1 else\n",
        "    my_tuple[index1]\n",
        "    for i in range(len(my_tuple))\n",
        ")\n",
        "print(\"Swapped tuple:\", swapped_tuple)"
      ],
      "metadata": {
        "colab": {
          "base_uri": "https://localhost:8080/"
        },
        "id": "lgzgKF9fmvIR",
        "outputId": "c4b26776-5101-49a4-afc7-2d575a17e6fc"
      },
      "execution_count": null,
      "outputs": [
        {
          "output_type": "stream",
          "name": "stdout",
          "text": [
            "Swapped tuple: (1, 4, 3, 2, 5)\n"
          ]
        }
      ]
    },
    {
      "cell_type": "markdown",
      "source": [
        "## 44. Reverse the elements of a tuple."
      ],
      "metadata": {
        "id": "urNSOntborRB"
      }
    },
    {
      "cell_type": "code",
      "source": [
        "my_tuple = (1, 2, 3, 4, 5)\n",
        "reversed_tuple = my_tuple[::-1]\n",
        "print(\"Reversed tuple:\", reversed_tuple)"
      ],
      "metadata": {
        "colab": {
          "base_uri": "https://localhost:8080/"
        },
        "id": "YMS9b0ydoqng",
        "outputId": "78069a22-aa81-426a-fe02-3710949bfaed"
      },
      "execution_count": null,
      "outputs": [
        {
          "output_type": "stream",
          "name": "stdout",
          "text": [
            "Reversed tuple: (5, 4, 3, 2, 1)\n"
          ]
        }
      ]
    },
    {
      "cell_type": "markdown",
      "source": [
        "## 45. Create a tuple of the first `n` powers of 2."
      ],
      "metadata": {
        "id": "jYvocYa6o52M"
      }
    },
    {
      "cell_type": "code",
      "source": [
        "n = 5\n",
        "powers_of_2_tuple = tuple(2 ** i for i in range(n))\n",
        "print(\"Tuple of the first\", n, \"powers of 2:\", powers_of_2_tuple)"
      ],
      "metadata": {
        "colab": {
          "base_uri": "https://localhost:8080/"
        },
        "id": "0lQXUwU2oW_n",
        "outputId": "5f96dce7-9562-447a-a12c-8b4c42e30e6e"
      },
      "execution_count": null,
      "outputs": [
        {
          "output_type": "stream",
          "name": "stdout",
          "text": [
            "Tuple of the first 5 powers of 2: (1, 2, 4, 8, 16)\n"
          ]
        }
      ]
    },
    {
      "cell_type": "markdown",
      "source": [
        "## 46. Find the longest string in a tuple of strings."
      ],
      "metadata": {
        "id": "61oVqVXGpoOC"
      }
    },
    {
      "cell_type": "code",
      "source": [
        "string_tuple = (\"apple\", \"banana\", \"grape\", \"kiwi\", \"watermelon\")\n",
        "longest_string = max(string_tuple, key=len)\n",
        "print(\"Longest string:\", longest_string)"
      ],
      "metadata": {
        "colab": {
          "base_uri": "https://localhost:8080/"
        },
        "id": "556jpJKhpn-v",
        "outputId": "7490617e-a04a-4642-e50b-ca669beea029"
      },
      "execution_count": null,
      "outputs": [
        {
          "output_type": "stream",
          "name": "stdout",
          "text": [
            "Longest string: watermelon\n"
          ]
        }
      ]
    },
    {
      "cell_type": "markdown",
      "source": [
        "## 47. Find the shortest string in a tuple of strings."
      ],
      "metadata": {
        "id": "p1FCcjORp6a7"
      }
    },
    {
      "cell_type": "code",
      "source": [
        "string_tuple = (\"apple\", \"banana\", \"grape\", \"kiwi\", \"watermelon\")\n",
        "shortest_string = min(string_tuple, key=len)\n",
        "print(\"shortest string:\", shortest_string)"
      ],
      "metadata": {
        "colab": {
          "base_uri": "https://localhost:8080/"
        },
        "id": "Mdsu30_gp6N-",
        "outputId": "30797987-a5b7-4f8c-aee8-00458bd7f6c2"
      },
      "execution_count": null,
      "outputs": [
        {
          "output_type": "stream",
          "name": "stdout",
          "text": [
            "shortest string: kiwi\n"
          ]
        }
      ]
    },
    {
      "cell_type": "markdown",
      "source": [
        "## 48. Create a tuple of the first `n` triangular numbers."
      ],
      "metadata": {
        "id": "nYweUBe-qRsp"
      }
    },
    {
      "cell_type": "code",
      "source": [
        "n = 5\n",
        "triangular_numbers_tuple = tuple((i * (i + 1)) // 2 for i in range(1, n+1))\n",
        "print(\"Tuple of the first\", n, \"triangular numbers:\", triangular_numbers_tuple)"
      ],
      "metadata": {
        "colab": {
          "base_uri": "https://localhost:8080/"
        },
        "id": "FWexCOGrpgYo",
        "outputId": "845bd284-86eb-4c18-ef6b-13d2566f3552"
      },
      "execution_count": null,
      "outputs": [
        {
          "output_type": "stream",
          "name": "stdout",
          "text": [
            "Tuple of the first 5 triangular numbers: (1, 3, 6, 10, 15)\n"
          ]
        }
      ]
    },
    {
      "cell_type": "markdown",
      "source": [
        "## 49. Check if a tuple contains another tuple as a subsequence."
      ],
      "metadata": {
        "id": "ksVRhHhasE4d"
      }
    },
    {
      "cell_type": "code",
      "source": [
        "def contains_subsequence(main_tuple , sub_tuple):\n",
        "  sub_length = len(sub_tuple)\n",
        "  for i in range(len(main_tuple)- sub_length + 1):\n",
        "    if main_tuple [i:i+sub_length] == sub_tuple:\n",
        "      return True\n",
        "  return False\n",
        "\n",
        "main_tuple = (1,2,3,4,5,6,7,8)\n",
        "sub_tuple = (3,4,5,6)\n",
        "\n",
        "check_subseq = contains_subsequence(main_tuple, sub_tuple)\n",
        "print(\"Main tuple contains subsequence tuple:\", contains_subseq)"
      ],
      "metadata": {
        "colab": {
          "base_uri": "https://localhost:8080/"
        },
        "id": "HFRZDilQtLoC",
        "outputId": "706ceee5-6947-4248-9b1b-1c192449485b"
      },
      "execution_count": null,
      "outputs": [
        {
          "output_type": "stream",
          "name": "stdout",
          "text": [
            "Main tuple contains subsequence tuple: True\n"
          ]
        }
      ]
    },
    {
      "cell_type": "markdown",
      "source": [
        "## 50. Create a tuple of alternating 1s and 0s of length `n`."
      ],
      "metadata": {
        "id": "S5ZfPRmRuv2x"
      }
    },
    {
      "cell_type": "code",
      "source": [
        "n = 10\n",
        "alternating_tuple = tuple( i % 2 for i in range(n))\n",
        "print(\"Tuple of alternating 1s and 0s:\", alternating_tuple)"
      ],
      "metadata": {
        "colab": {
          "base_uri": "https://localhost:8080/"
        },
        "id": "E44tBswgvIso",
        "outputId": "f8856696-63f9-4706-cdec-41d3c4df9183"
      },
      "execution_count": null,
      "outputs": [
        {
          "output_type": "stream",
          "name": "stdout",
          "text": [
            "Tuple of alternating 1s and 0s: (0, 1, 0, 1, 0, 1, 0, 1, 0, 1)\n"
          ]
        }
      ]
    },
    {
      "cell_type": "markdown",
      "source": [
        "# **TOPIC - Set Based Practice Problem :**"
      ],
      "metadata": {
        "id": "jkY2liiZ6Sk-"
      }
    },
    {
      "cell_type": "markdown",
      "source": [
        "## 1. Create a set with integers from 1 to 5."
      ],
      "metadata": {
        "id": "4lCj3seZ6jeC"
      }
    },
    {
      "cell_type": "code",
      "source": [
        "my_set = set()\n",
        "my_set.add(1)\n",
        "my_set.add(2)\n",
        "my_set.add(3)\n",
        "my_set.add(4)\n",
        "my_set.add(5)\n",
        "\n",
        "print(my_set)\n"
      ],
      "metadata": {
        "colab": {
          "base_uri": "https://localhost:8080/"
        },
        "id": "FwE7_Xc5686T",
        "outputId": "bc7840d9-32b3-48ba-c13c-8938397e00db"
      },
      "execution_count": null,
      "outputs": [
        {
          "output_type": "stream",
          "name": "stdout",
          "text": [
            "{1, 2, 3, 4, 5}\n"
          ]
        }
      ]
    },
    {
      "cell_type": "markdown",
      "source": [
        "## 2. Add an element to a set."
      ],
      "metadata": {
        "id": "5K5kxoxS7QnB"
      }
    },
    {
      "cell_type": "code",
      "source": [
        "my_set = {1,2,3,4}\n",
        "print(\"Original set:\", my_set)\n",
        "element_to_add = 10\n",
        "my_set.add(element_to_add)\n",
        "print(\"Set after adding element:\", my_set)"
      ],
      "metadata": {
        "colab": {
          "base_uri": "https://localhost:8080/"
        },
        "id": "AhV5IIvz7ePh",
        "outputId": "5e80e7ca-cd0e-4acd-a808-2a9b601c695a"
      },
      "execution_count": null,
      "outputs": [
        {
          "output_type": "stream",
          "name": "stdout",
          "text": [
            "Original set: {1, 2, 3, 4}\n",
            "Set after adding element: {1, 2, 3, 4, 10}\n"
          ]
        }
      ]
    },
    {
      "cell_type": "markdown",
      "source": [
        "## 3. Remove an element from a set."
      ],
      "metadata": {
        "id": "Aeq9EM1O7_ob"
      }
    },
    {
      "cell_type": "code",
      "source": [
        "my_set = {2,4,6,8,10}\n",
        "print(\"Original set :\", my_set)\n",
        "element_to_remove = 8\n",
        "my_set.remove(element_to_remove)\n",
        "print(\"Set after removing\", element_to_remove, \":\", my_set)"
      ],
      "metadata": {
        "colab": {
          "base_uri": "https://localhost:8080/"
        },
        "id": "xWn1CNk38kiJ",
        "outputId": "e81918c2-e4e2-4dc6-85c4-07c113a10a27"
      },
      "execution_count": null,
      "outputs": [
        {
          "output_type": "stream",
          "name": "stdout",
          "text": [
            "Original set : {2, 4, 6, 8, 10}\n",
            "Set after removing 8 : {2, 4, 6, 10}\n"
          ]
        }
      ]
    },
    {
      "cell_type": "markdown",
      "source": [
        "## 4. Check if an element exists in a set."
      ],
      "metadata": {
        "id": "YN4NokgV9JKv"
      }
    },
    {
      "cell_type": "code",
      "source": [
        "my_set = {1,3,4,2,5,7,9}\n",
        "element_to_check = int(input(\"Enter the element to check: \"))\n",
        "if element_to_check in my_set:\n",
        "  print(f\"{element_to_check} exists in the set.\")\n",
        "else:\n",
        "  print(f\"{element_to_check} does not exist in the set.\")"
      ],
      "metadata": {
        "colab": {
          "base_uri": "https://localhost:8080/"
        },
        "id": "Qshx41Mf9XYI",
        "outputId": "8fab13f8-b723-4039-8079-a70ec00c9752"
      },
      "execution_count": null,
      "outputs": [
        {
          "output_type": "stream",
          "name": "stdout",
          "text": [
            "Enter the element to check:  3\n",
            "3 exists in the set.\n"
          ]
        }
      ]
    },
    {
      "cell_type": "markdown",
      "source": [
        "## 5. Find the length of a set without using the `len()` function."
      ],
      "metadata": {
        "id": "WpftIldw-JFc"
      }
    },
    {
      "cell_type": "code",
      "source": [
        "my_set = {2,4,6,8,10}\n",
        "count = 0\n",
        "for _ in my_set :\n",
        "  count += 1\n",
        "print(\"Length of the set:\", count)"
      ],
      "metadata": {
        "colab": {
          "base_uri": "https://localhost:8080/"
        },
        "id": "YnoQ8IyQ-U9R",
        "outputId": "5ca6133e-4b99-4848-8fd0-945d9e06a2c2"
      },
      "execution_count": null,
      "outputs": [
        {
          "output_type": "stream",
          "name": "stdout",
          "text": [
            "Length of the set: 5\n"
          ]
        }
      ]
    },
    {
      "cell_type": "markdown",
      "source": [
        "## 6. Clear all elements from a set."
      ],
      "metadata": {
        "id": "XHyFi5HZ-lfH"
      }
    },
    {
      "cell_type": "code",
      "source": [
        "my_set = {1, 2, 3, 4, 5}\n",
        "print(\"Original set:\", my_set)\n",
        "my_set.clear()\n",
        "print(\"Set after clearing:\", my_set)"
      ],
      "metadata": {
        "colab": {
          "base_uri": "https://localhost:8080/"
        },
        "id": "Ash21WiZ-ioO",
        "outputId": "d3338789-fb67-4efa-8fb5-f61d43f10841"
      },
      "execution_count": null,
      "outputs": [
        {
          "output_type": "stream",
          "name": "stdout",
          "text": [
            "Original set: {1, 2, 3, 4, 5}\n",
            "Set after clearing: set()\n"
          ]
        }
      ]
    },
    {
      "cell_type": "markdown",
      "source": [
        "## 7. Create a set of even numbers from 1 to 10."
      ],
      "metadata": {
        "id": "yCd5fTSF-9cj"
      }
    },
    {
      "cell_type": "code",
      "source": [
        "even_number_set = set()\n",
        "for num in range(1, 11):\n",
        "  if num % 2 == 0 :\n",
        "    even_number_set.add(num)\n",
        "print(even_number_set)"
      ],
      "metadata": {
        "colab": {
          "base_uri": "https://localhost:8080/"
        },
        "id": "7Oj1MJaX_KK7",
        "outputId": "f352e83a-632f-4677-925e-a43a0e8695c0"
      },
      "execution_count": null,
      "outputs": [
        {
          "output_type": "stream",
          "name": "stdout",
          "text": [
            "{2, 4, 6, 8, 10}\n"
          ]
        }
      ]
    },
    {
      "cell_type": "markdown",
      "source": [
        "## 8. Create a set of odd numbers from 1 to 10."
      ],
      "metadata": {
        "id": "2dvniMHl_rlU"
      }
    },
    {
      "cell_type": "code",
      "source": [
        "even_number_set = set()\n",
        "for num in range(1, 11):\n",
        "  if num % 2 != 0 :\n",
        "    even_number_set.add(num)\n",
        "print(even_number_set)"
      ],
      "metadata": {
        "colab": {
          "base_uri": "https://localhost:8080/"
        },
        "id": "upjsE2Wl_laN",
        "outputId": "7987a1dc-7629-4f11-8307-d364e3a3b69e"
      },
      "execution_count": null,
      "outputs": [
        {
          "output_type": "stream",
          "name": "stdout",
          "text": [
            "{1, 3, 5, 7, 9}\n"
          ]
        }
      ]
    },
    {
      "cell_type": "markdown",
      "source": [
        "## 9. Find the union of two sets."
      ],
      "metadata": {
        "id": "-Lv1l28G_95y"
      }
    },
    {
      "cell_type": "code",
      "source": [
        "set1 = {1,2,3,4,5}\n",
        "set2 = {4,5,6,7,8}\n",
        "\n",
        "union_result = set1.union(set2)\n",
        "\n",
        "print(\"Set 1 :\", set1)\n",
        "print(\"set 2 :\", set2)\n",
        "print(\"Union of set 1 and set 2:\", union_result)"
      ],
      "metadata": {
        "colab": {
          "base_uri": "https://localhost:8080/"
        },
        "id": "6M1awLiRAHag",
        "outputId": "d7bcf23a-84fc-42d7-f921-444759ad2e23"
      },
      "execution_count": null,
      "outputs": [
        {
          "output_type": "stream",
          "name": "stdout",
          "text": [
            "Set 1 : {1, 2, 3, 4, 5}\n",
            "set 2 : {4, 5, 6, 7, 8}\n",
            "Union of set 1 and set 2: {1, 2, 3, 4, 5, 6, 7, 8}\n"
          ]
        }
      ]
    },
    {
      "cell_type": "markdown",
      "source": [
        "## 10. Find the intersection of two sets."
      ],
      "metadata": {
        "id": "bJcscsczAGe6"
      }
    },
    {
      "cell_type": "code",
      "source": [
        "set1 = {1,2,3,4,5}\n",
        "set2 = {4,5,6,7,8}\n",
        "\n",
        "union_result = set1.intersection(set2)\n",
        "\n",
        "print(\"Set 1 :\", set1)\n",
        "print(\"set 2 :\", set2)\n",
        "print(\"Union of set 1 and set 2:\", union_result)"
      ],
      "metadata": {
        "colab": {
          "base_uri": "https://localhost:8080/"
        },
        "id": "6f9Li7dFA27c",
        "outputId": "85b9d10e-6b88-4037-a8db-6c6bf9d36a7f"
      },
      "execution_count": null,
      "outputs": [
        {
          "output_type": "stream",
          "name": "stdout",
          "text": [
            "Set 1 : {1, 2, 3, 4, 5}\n",
            "set 2 : {4, 5, 6, 7, 8}\n",
            "Union of set 1 and set 2: {4, 5}\n"
          ]
        }
      ]
    },
    {
      "cell_type": "markdown",
      "source": [
        "## 11. Find the difference between two sets."
      ],
      "metadata": {
        "id": "km6reSWsB2z7"
      }
    },
    {
      "cell_type": "code",
      "source": [
        "# Create two sets\n",
        "set1 = {1, 2, 3}\n",
        "set2 = {3,4,5}\n",
        "\n",
        "# Find the difference between the sets using the difference() method\n",
        "difference_set = set1.difference(set2)\n",
        "\n",
        "# Print the original sets and the difference set\n",
        "print(\"Set 1:\", set1)\n",
        "print(\"Set 2:\", set2)\n",
        "print(\"Difference:\", difference_set)\n"
      ],
      "metadata": {
        "colab": {
          "base_uri": "https://localhost:8080/"
        },
        "id": "v7-TuReSA-LL",
        "outputId": "4a91f3e6-0683-4e89-9173-9768bed61757"
      },
      "execution_count": null,
      "outputs": [
        {
          "output_type": "stream",
          "name": "stdout",
          "text": [
            "Set 1: {1, 2, 3}\n",
            "Set 2: {3, 4, 5}\n",
            "Difference: {1, 2}\n"
          ]
        }
      ]
    },
    {
      "cell_type": "markdown",
      "source": [
        "## 12. Check if a set is a subset of another set."
      ],
      "metadata": {
        "id": "Yxx0XPI3FHxz"
      }
    },
    {
      "cell_type": "code",
      "source": [
        "set1 = {1,2,3,4}\n",
        "set2 = {1,2,3,4,5,6,7}\n",
        "is_subset = set1.issubset(set2)\n",
        "print(\"Is set1 a subset of set2:\", is_subset)"
      ],
      "metadata": {
        "colab": {
          "base_uri": "https://localhost:8080/"
        },
        "id": "0C0LEELRFeIX",
        "outputId": "369a362d-2cb5-4718-ce63-72992dba0fc3"
      },
      "execution_count": null,
      "outputs": [
        {
          "output_type": "stream",
          "name": "stdout",
          "text": [
            "Is set1 a subset of set2: True\n"
          ]
        }
      ]
    },
    {
      "cell_type": "markdown",
      "source": [
        "## 13. Check if a set is a superset of another set."
      ],
      "metadata": {
        "id": "LsT9fS-jF_Wo"
      }
    },
    {
      "cell_type": "code",
      "source": [
        "set1 = {1,2,3,4,5,6}\n",
        "set2 = {1,2}\n",
        "is_superset = set1.issuperset(set2)\n",
        "if is_superset:\n",
        "  print(\"set1 is a superset of set2\")\n",
        "else:\n",
        "  print(\"set1 is not a superset of set2\")"
      ],
      "metadata": {
        "colab": {
          "base_uri": "https://localhost:8080/"
        },
        "id": "gOpLuhRkF97l",
        "outputId": "a1ab97c4-316d-4913-caa8-d1c2e8fe8613"
      },
      "execution_count": null,
      "outputs": [
        {
          "output_type": "stream",
          "name": "stdout",
          "text": [
            "set1 is a superset of set2\n"
          ]
        }
      ]
    },
    {
      "cell_type": "markdown",
      "source": [
        "## 14. Create a set from a list."
      ],
      "metadata": {
        "id": "l-zCVcjEG9gB"
      }
    },
    {
      "cell_type": "code",
      "source": [
        "my_list = [ 2,3,5,6,7,3,4,5]\n",
        "my_set = set(my_list)\n",
        "print(\"Original list:\", my_list)\n",
        "print(\"Set from list:\", my_set)"
      ],
      "metadata": {
        "colab": {
          "base_uri": "https://localhost:8080/"
        },
        "id": "WQoTEJNfG8iA",
        "outputId": "cad47ae2-8ea8-4b96-cdf1-0506b89164f7"
      },
      "execution_count": null,
      "outputs": [
        {
          "output_type": "stream",
          "name": "stdout",
          "text": [
            "Original list: [2, 3, 5, 6, 7, 3, 4, 5]\n",
            "Set from list: {2, 3, 4, 5, 6, 7}\n"
          ]
        }
      ]
    },
    {
      "cell_type": "markdown",
      "source": [
        "## 15. Convert a set to a list."
      ],
      "metadata": {
        "id": "WArdQHcfG8O_"
      }
    },
    {
      "cell_type": "code",
      "source": [
        "my_set = {2,3,5,6,7,3,4,5}\n",
        "my_list = list(my_set)\n",
        "print(\"Original set:\",my_set)\n",
        "print(\"list from set:\", my_list)"
      ],
      "metadata": {
        "colab": {
          "base_uri": "https://localhost:8080/"
        },
        "id": "lBdYFGhvHiWZ",
        "outputId": "1b82ef97-1a7d-4213-db2d-2e510e58b234"
      },
      "execution_count": null,
      "outputs": [
        {
          "output_type": "stream",
          "name": "stdout",
          "text": [
            "Original set: {2, 3, 4, 5, 6, 7}\n",
            "list from set: [2, 3, 4, 5, 6, 7]\n"
          ]
        }
      ]
    },
    {
      "cell_type": "markdown",
      "source": [
        "## 16. Remove a random element from a set."
      ],
      "metadata": {
        "id": "UV3NQkiTWmW-"
      }
    },
    {
      "cell_type": "code",
      "source": [
        "import random\n",
        "\n",
        "my_set = {1,2,3,4,5,6}\n",
        "print(\"Original set:\", my_set)\n",
        "random_element = random.choice(list(my_set))\n",
        "my_set.remove(random_element)\n",
        "print(\"Update set after removing\", random_element, \":\", my_set)"
      ],
      "metadata": {
        "colab": {
          "base_uri": "https://localhost:8080/"
        },
        "id": "vtLzCmZbWxsE",
        "outputId": "164e6e06-2adc-4347-8a73-5cddeb48b7d3"
      },
      "execution_count": null,
      "outputs": [
        {
          "output_type": "stream",
          "name": "stdout",
          "text": [
            "Original set: {1, 2, 3, 4, 5, 6}\n",
            "Update set after removing 6 : {1, 2, 3, 4, 5}\n"
          ]
        }
      ]
    },
    {
      "cell_type": "markdown",
      "source": [
        "## 17. Pop an element from a set."
      ],
      "metadata": {
        "id": "INk7SyT8YAh3"
      }
    },
    {
      "cell_type": "code",
      "source": [
        "my_set = {1,2,3,4,5,6}\n",
        "print(\"Original set :\", my_set)\n",
        "popped_element = my_set.pop()\n",
        "print(\"Popped element:\", popped_element)\n",
        "print(\"set after popping:\", my_set)"
      ],
      "metadata": {
        "colab": {
          "base_uri": "https://localhost:8080/"
        },
        "id": "twi3lK83YTG5",
        "outputId": "5ec9b75f-7571-4a27-d604-0882c9ed6b4a"
      },
      "execution_count": null,
      "outputs": [
        {
          "output_type": "stream",
          "name": "stdout",
          "text": [
            "Original set : {1, 2, 3, 4, 5, 6}\n",
            "Popped element: 1\n",
            "set after popping: {2, 3, 4, 5, 6}\n"
          ]
        }
      ]
    },
    {
      "cell_type": "markdown",
      "source": [
        "## 18. Check if two sets have no elements in common."
      ],
      "metadata": {
        "id": "8zMyr8rmYSw-"
      }
    },
    {
      "cell_type": "code",
      "source": [
        "set1 = {1,2,3,4}\n",
        "set2 = {5,6,7,8}\n",
        "common_elements = set1.intersection(set2)\n",
        "if not common_elements:\n",
        "  print(\"The two sets have no element in common.\")\n",
        "else :\n",
        "  print(\"The two sets have common element:\", common_elements)\n"
      ],
      "metadata": {
        "colab": {
          "base_uri": "https://localhost:8080/"
        },
        "id": "ElbgjhmOZD_Q",
        "outputId": "8de4e7d4-5110-4f20-f7d6-e4a953d9bdb1"
      },
      "execution_count": null,
      "outputs": [
        {
          "output_type": "stream",
          "name": "stdout",
          "text": [
            "The two sets have no element in common.\n"
          ]
        }
      ]
    },
    {
      "cell_type": "markdown",
      "source": [
        "## 19. Find the symmetric difference between two sets."
      ],
      "metadata": {
        "id": "TSZmQnkxZuZY"
      }
    },
    {
      "cell_type": "code",
      "source": [
        "set1 = {1,2,3,4,5,6}\n",
        "set2 = {4,5,6,7,8,9}\n",
        "symmetric_difference = set1 ^ set2\n",
        "print(\"Symmetric Difference:\", symmetric_difference)"
      ],
      "metadata": {
        "colab": {
          "base_uri": "https://localhost:8080/"
        },
        "id": "2V0QwxgpaQEb",
        "outputId": "ec070edc-aa10-4fb2-f459-7ab477b0e667"
      },
      "execution_count": null,
      "outputs": [
        {
          "output_type": "stream",
          "name": "stdout",
          "text": [
            "Symmetric Difference: {1, 2, 3, 7, 8, 9}\n"
          ]
        }
      ]
    },
    {
      "cell_type": "markdown",
      "source": [
        "## 20. Update a set with elements from another set."
      ],
      "metadata": {
        "id": "AtIoxi08a_sE"
      }
    },
    {
      "cell_type": "code",
      "source": [
        "set1 = {2,4,6}\n",
        "print(\"Set 1:\", set1)\n",
        "set2 = {6,8,10}\n",
        "print(\"Set 2:\", set2)\n",
        "\n",
        "set1.update(set2)\n",
        "print(\"Update Set 1:\", set1)"
      ],
      "metadata": {
        "colab": {
          "base_uri": "https://localhost:8080/"
        },
        "id": "-AlKsbvabLd6",
        "outputId": "a7f9df3c-41e2-44cb-8292-9ec3a926f38e"
      },
      "execution_count": null,
      "outputs": [
        {
          "output_type": "stream",
          "name": "stdout",
          "text": [
            "Set 1: {2, 4, 6}\n",
            "Set 2: {8, 10, 6}\n",
            "Update Set 1: {2, 4, 6, 8, 10}\n"
          ]
        }
      ]
    },
    {
      "cell_type": "markdown",
      "source": [
        "## 21. Create a set of the first 5 prime numbers."
      ],
      "metadata": {
        "id": "ALiHjkDzb8w1"
      }
    },
    {
      "cell_type": "code",
      "source": [
        "def is_prime (num):\n",
        "  if num <= 1:\n",
        "    return False\n",
        "  for i in range(2, int(num ** 0.5) + 1):\n",
        "    if num % i == 0 :\n",
        "      return False\n",
        "  return True\n",
        "\n",
        "prime_set = set()\n",
        "num = 2\n",
        "\n",
        "while len(prime_set) < 5:\n",
        "  if is_prime(num):\n",
        "    prime_set.add(num)\n",
        "  num += 1\n",
        "\n",
        "print(\"Set of the first 5 prime numbers:\", prime_set)"
      ],
      "metadata": {
        "colab": {
          "base_uri": "https://localhost:8080/"
        },
        "id": "Ne2Z7rxldkBx",
        "outputId": "b239cfe4-4208-41e7-949d-f5850651f7fe"
      },
      "execution_count": null,
      "outputs": [
        {
          "output_type": "stream",
          "name": "stdout",
          "text": [
            "Set of the first 5 prime numbers: {2, 3, 5, 7, 11}\n"
          ]
        }
      ]
    },
    {
      "cell_type": "markdown",
      "source": [
        "## 22. Check if two sets are identical."
      ],
      "metadata": {
        "id": "wjh6l1AQAobR"
      }
    },
    {
      "cell_type": "code",
      "source": [
        "set1 = {1, 2, 3, 4, 5}\n",
        "set2 = {3, 1, 5, 2, 4}\n",
        "if set1 == set2:\n",
        "    print(\"The sets are identical.\")\n",
        "else:\n",
        "    print(\"The sets are not identical.\")"
      ],
      "metadata": {
        "colab": {
          "base_uri": "https://localhost:8080/"
        },
        "id": "Xsa95m4BebMk",
        "outputId": "7e6dbaa9-72a0-4cee-fe11-98d75ad32a10"
      },
      "execution_count": null,
      "outputs": [
        {
          "output_type": "stream",
          "name": "stdout",
          "text": [
            "The sets are identical.\n"
          ]
        }
      ]
    },
    {
      "cell_type": "markdown",
      "source": [
        "## 23. Create a frozen set."
      ],
      "metadata": {
        "id": "qh0xPn2EBIiV"
      }
    },
    {
      "cell_type": "code",
      "source": [
        "elements = [1, 2, 3, 4, 5]\n",
        "my_frozen_set = frozenset(elements)\n",
        "\n",
        "print(\"Frozen Set:\", my_frozen_set)"
      ],
      "metadata": {
        "colab": {
          "base_uri": "https://localhost:8080/"
        },
        "id": "KH4Vxd1jC8rh",
        "outputId": "78ae0d30-e851-42c9-cd0e-019f39ec392b"
      },
      "execution_count": null,
      "outputs": [
        {
          "output_type": "stream",
          "name": "stdout",
          "text": [
            "Frozen Set: frozenset({1, 2, 3, 4, 5})\n"
          ]
        }
      ]
    },
    {
      "cell_type": "markdown",
      "source": [
        "## 24. Check if a set is disjoint with another set."
      ],
      "metadata": {
        "id": "vHBrndbrDfRG"
      }
    },
    {
      "cell_type": "code",
      "source": [
        "set1 = {1, 2, 3, 4}\n",
        "set2 = {5, 6, 7, 8}\n",
        "\n",
        "disjoint_status = set1.isdisjoint(set2)\n",
        "print(\"Are the sets disjoint?\", disjoint_status)"
      ],
      "metadata": {
        "colab": {
          "base_uri": "https://localhost:8080/"
        },
        "id": "wt49-gMIDbtZ",
        "outputId": "65c0d7c0-5de1-4af5-b69e-ba1ae0f8a8ea"
      },
      "execution_count": null,
      "outputs": [
        {
          "output_type": "stream",
          "name": "stdout",
          "text": [
            "Are the sets disjoint? True\n"
          ]
        }
      ]
    },
    {
      "cell_type": "markdown",
      "source": [
        "## 25. Create a set of squares of numbers from 1 to 5."
      ],
      "metadata": {
        "id": "wT-xxFcrFIZz"
      }
    },
    {
      "cell_type": "code",
      "source": [
        "squares_set = set()\n",
        "for num in range(1, 6):\n",
        "  square = num ** 2\n",
        "  squares_set.add(square)\n",
        "print(squares_set)"
      ],
      "metadata": {
        "colab": {
          "base_uri": "https://localhost:8080/"
        },
        "id": "V3XqJyUSF3XD",
        "outputId": "3872891f-b06d-48e0-ecc7-c1251e8ea000"
      },
      "execution_count": null,
      "outputs": [
        {
          "output_type": "stream",
          "name": "stdout",
          "text": [
            "{1, 4, 9, 16, 25}\n"
          ]
        }
      ]
    },
    {
      "cell_type": "markdown",
      "source": [
        "## 26. Filter out all even numbers from a set."
      ],
      "metadata": {
        "id": "AuULAIQLG57l"
      }
    },
    {
      "cell_type": "code",
      "source": [
        "original_set = {1,2,3,4,5,6,7}\n",
        "even_numbers_set = set()\n",
        "for num in original_set :\n",
        "  if num % 2 == 0 :\n",
        "    even_numbers_set.add(num)\n",
        "print(\"Original set:\", original_set)\n",
        "print(\"Even Number set:\", even_numbers_set)"
      ],
      "metadata": {
        "colab": {
          "base_uri": "https://localhost:8080/"
        },
        "id": "g7jHfBQuHCRu",
        "outputId": "c742db6a-cba0-4dbd-846a-08e6d4316e25"
      },
      "execution_count": null,
      "outputs": [
        {
          "output_type": "stream",
          "name": "stdout",
          "text": [
            "Original set: {1, 2, 3, 4, 5, 6, 7}\n",
            "Even Number set: {2, 4, 6}\n"
          ]
        }
      ]
    },
    {
      "cell_type": "markdown",
      "source": [
        "## 27. Multiply all elements in a set by 2."
      ],
      "metadata": {
        "id": "fkHEYFl6H7uD"
      }
    },
    {
      "cell_type": "code",
      "source": [
        "original_set = {1,2,3,4,5}\n",
        "multiplied_set = set()\n",
        "for num in original_set:\n",
        "  multiplied_num = num * 2\n",
        "  multiplied_set.add(multiplied_num)\n",
        "print(\"Original set:\", original_set)\n",
        "print(\"Multiplied set:\", multiplied_set)"
      ],
      "metadata": {
        "colab": {
          "base_uri": "https://localhost:8080/"
        },
        "id": "5T8FDHOWIGje",
        "outputId": "5f0540fd-b791-450f-fd1e-2519f2104ae0"
      },
      "execution_count": null,
      "outputs": [
        {
          "output_type": "stream",
          "name": "stdout",
          "text": [
            "Original set: {1, 2, 3, 4, 5}\n",
            "Multiplied set: {2, 4, 6, 8, 10}\n"
          ]
        }
      ]
    },
    {
      "cell_type": "markdown",
      "source": [
        "## 28. Create a set of random numbers."
      ],
      "metadata": {
        "id": "m8UYVm0dI84S"
      }
    },
    {
      "cell_type": "code",
      "source": [
        "import random\n",
        "num_random_numbers = 7\n",
        "random_number_set = set()\n",
        "for _ in range(num_random_numbers):\n",
        "  random_num = random.randint(1, 100)\n",
        "  random_number_set.add(random_num)\n",
        "print(\"Generated set of random numbers:\", random_number_set)"
      ],
      "metadata": {
        "colab": {
          "base_uri": "https://localhost:8080/"
        },
        "id": "ZPfsVEAiJaGQ",
        "outputId": "d6012295-7186-4717-b052-7c098ae2a24b"
      },
      "execution_count": null,
      "outputs": [
        {
          "output_type": "stream",
          "name": "stdout",
          "text": [
            "Generated set of random numbers: {43, 78, 46, 21, 23, 89, 59}\n"
          ]
        }
      ]
    },
    {
      "cell_type": "markdown",
      "source": [
        "## 29. Check if a set is empty."
      ],
      "metadata": {
        "id": "qXUPRYPd3elb"
      }
    },
    {
      "cell_type": "code",
      "source": [
        "my_set = set()\n",
        "\n",
        "if not my_set:\n",
        "    print(\"The set is empty.\")\n",
        "else:\n",
        "    print(\"The set is not empty.\")"
      ],
      "metadata": {
        "colab": {
          "base_uri": "https://localhost:8080/"
        },
        "id": "UU_oOKJp3eOQ",
        "outputId": "06b8b8c3-f315-4ee9-d01b-72812d42ce68"
      },
      "execution_count": null,
      "outputs": [
        {
          "output_type": "stream",
          "name": "stdout",
          "text": [
            "The set is empty.\n"
          ]
        }
      ]
    },
    {
      "cell_type": "markdown",
      "source": [
        "## 30. Create a nested set (hint: use frozenset)."
      ],
      "metadata": {
        "id": "HZNvcy453vGG"
      }
    },
    {
      "cell_type": "code",
      "source": [
        "set1 = {1, 2, 3, 4, 5}\n",
        "set2 = {6, 7, 8, 9, 10}\n",
        "\n",
        "frozen_set1 = frozenset(set1)\n",
        "frozen_set2 = frozenset(set2)\n",
        "\n",
        "nested_set = {frozen_set1, frozen_set2}\n",
        "print(\"Nested Set:\", nested_set)"
      ],
      "metadata": {
        "colab": {
          "base_uri": "https://localhost:8080/"
        },
        "id": "rqQ93M1U3u1m",
        "outputId": "793d9d1f-65f2-43e7-80e5-9c072f371422"
      },
      "execution_count": null,
      "outputs": [
        {
          "output_type": "stream",
          "name": "stdout",
          "text": [
            "Nested Set: {frozenset({1, 2, 3, 4, 5}), frozenset({6, 7, 8, 9, 10})}\n"
          ]
        }
      ]
    },
    {
      "cell_type": "markdown",
      "source": [
        "# 31. Remove an element from a set using the discard method."
      ],
      "metadata": {
        "id": "YpoXyTjt4KLU"
      }
    },
    {
      "cell_type": "code",
      "source": [
        "my_set = {1, 2, 3, 4, 5}\n",
        "print(\"Initial set:\", my_set)\n",
        "element_to_remove = 3\n",
        "\n",
        "my_set.discard(element_to_remove)\n",
        "print(\"Set after removing\", element_to_remove, \":\", my_set)"
      ],
      "metadata": {
        "id": "Z_4FtcvrKJxd",
        "colab": {
          "base_uri": "https://localhost:8080/"
        },
        "outputId": "e072b773-a4c7-4d2e-8500-08f4ef350e3b"
      },
      "execution_count": null,
      "outputs": [
        {
          "output_type": "stream",
          "name": "stdout",
          "text": [
            "Initial set: {1, 2, 3, 4, 5}\n",
            "Set after removing 3 : {1, 2, 4, 5}\n"
          ]
        }
      ]
    },
    {
      "cell_type": "markdown",
      "source": [
        "## 32. Compare two sets."
      ],
      "metadata": {
        "id": "tzVN7C304d5f"
      }
    },
    {
      "cell_type": "code",
      "source": [
        "set1 = {1,2,3,4,5}\n",
        "set2 = {4,5,6,7,8}\n",
        "\n",
        "is_subset = set1.issubset(set2)\n",
        "is_superset = set1.issuperset(set2)\n",
        "intersection = set1.intersection(set2)\n",
        "union = set1.union(set2)\n",
        "difference1 = set1.difference(set2)\n",
        "difference2 = set2.difference(set1)\n",
        "\n",
        "print(\"Set1:\",set1)\n",
        "print(\"Set2:\",set2)\n",
        "print(\"Is set1 is a subset of set2?\", is_subset)\n",
        "print(\"Is set2 is a superset of set1?\", is_superset)\n",
        "print(\"Intersection:\", intersection)\n",
        "print(\"Union:\", union)\n",
        "print(\"Element in set1 but not in set2:\", difference1)\n",
        "print(\"Element in set2 but not in set1:\", difference2)"
      ],
      "metadata": {
        "colab": {
          "base_uri": "https://localhost:8080/"
        },
        "id": "XG8iuTTo4bzC",
        "outputId": "05fade9e-8f23-4104-996d-804c06304808"
      },
      "execution_count": null,
      "outputs": [
        {
          "output_type": "stream",
          "name": "stdout",
          "text": [
            "Set1: {1, 2, 3, 4, 5}\n",
            "Set2: {4, 5, 6, 7, 8}\n",
            "Is set1 is a subset of set2? False\n",
            "Is set2 is a superset of set1? False\n",
            "Intersection: {4, 5}\n",
            "Union: {1, 2, 3, 4, 5, 6, 7, 8}\n",
            "Element in set1 but not in set2: {1, 2, 3}\n",
            "Element in set2 but not in set1: {8, 6, 7}\n"
          ]
        }
      ]
    },
    {
      "cell_type": "markdown",
      "source": [
        "## 33. Create a set from a string."
      ],
      "metadata": {
        "id": "ZJtGkAn995w6"
      }
    },
    {
      "cell_type": "code",
      "source": [
        "input_string = \"Abhishek\"\n",
        "char_set = set(input_string)\n",
        "print(char_set)"
      ],
      "metadata": {
        "colab": {
          "base_uri": "https://localhost:8080/"
        },
        "id": "jsOPX3Zn6gve",
        "outputId": "cc79891b-6940-4b5e-e0a0-0f009176efaa"
      },
      "execution_count": null,
      "outputs": [
        {
          "output_type": "stream",
          "name": "stdout",
          "text": [
            "{'h', 'k', 'b', 'e', 'A', 's', 'i'}\n"
          ]
        }
      ]
    },
    {
      "cell_type": "markdown",
      "source": [
        "## 34. Convert a set of strings to a set of integers."
      ],
      "metadata": {
        "id": "m1fADYuv-ZZO"
      }
    },
    {
      "cell_type": "code",
      "source": [
        "string_set = {\"123\" , \"456\", \"789\"}\n",
        "integer_set = set()\n",
        "for string in string_set:\n",
        "  integer_value = int(string)\n",
        "  integer_set.add(integer_value)\n",
        "print(\"Original string Set:\", string_set)\n",
        "print(\"Converted Integer Set:\", integer_set)"
      ],
      "metadata": {
        "colab": {
          "base_uri": "https://localhost:8080/"
        },
        "id": "lKDIyIVO-S15",
        "outputId": "d2e0d271-c616-48dd-b741-33d1d0b7763c"
      },
      "execution_count": null,
      "outputs": [
        {
          "output_type": "stream",
          "name": "stdout",
          "text": [
            "Original string Set: {'123', '456', '789'}\n",
            "Converted Integer Set: {456, 123, 789}\n"
          ]
        }
      ]
    },
    {
      "cell_type": "markdown",
      "source": [
        "## 35. Convert a set of integers to a set of strings."
      ],
      "metadata": {
        "id": "7O0A0ZIq_zJ4"
      }
    },
    {
      "cell_type": "code",
      "source": [
        "integer_set = {1,2,3,4,5}\n",
        "string_set = set()\n",
        "for num in integer_set :\n",
        "  num_str = str(num)\n",
        "  string_set.add(num_str)\n",
        "print(\"Original integer_set:\", integer_set)\n",
        "print(\"Converted string_set:\", string_set)"
      ],
      "metadata": {
        "colab": {
          "base_uri": "https://localhost:8080/"
        },
        "id": "Jbgyaw1r_igp",
        "outputId": "9b868d40-e58b-4d7f-9770-01dd871ef709"
      },
      "execution_count": null,
      "outputs": [
        {
          "output_type": "stream",
          "name": "stdout",
          "text": [
            "Original integer_set: {1, 2, 3, 4, 5}\n",
            "Converted string_set: {'4', '2', '5', '1', '3'}\n"
          ]
        }
      ]
    },
    {
      "cell_type": "markdown",
      "source": [
        "## 36. Create a set from a tuple.\n"
      ],
      "metadata": {
        "id": "T1DkBOiiBGDK"
      }
    },
    {
      "cell_type": "code",
      "source": [
        "input_tuple = (1,2,4,3,4,3,6,5,7)\n",
        "output_set = set(input_tuple)\n",
        "print(output_set)"
      ],
      "metadata": {
        "colab": {
          "base_uri": "https://localhost:8080/"
        },
        "id": "b5GGYwEuAl0N",
        "outputId": "b8dbc8ac-1d89-4d7e-8e57-c9200032326b"
      },
      "execution_count": null,
      "outputs": [
        {
          "output_type": "stream",
          "name": "stdout",
          "text": [
            "{1, 2, 3, 4, 5, 6, 7}\n"
          ]
        }
      ]
    },
    {
      "cell_type": "markdown",
      "source": [
        "## 37. Convert a set to a tuple."
      ],
      "metadata": {
        "id": "MM7ONKNdBmFm"
      }
    },
    {
      "cell_type": "code",
      "source": [
        "input_set = {1,2,3,4,5,6}\n",
        "output_tuple = tuple(input_set)\n",
        "print(\"Original set:\", input_set)\n",
        "print(\"Converted tuple:\", output_tuple)"
      ],
      "metadata": {
        "colab": {
          "base_uri": "https://localhost:8080/"
        },
        "id": "RpiQl26mBjgs",
        "outputId": "9596ffc5-7a63-4b83-d504-692bb89deb6b"
      },
      "execution_count": null,
      "outputs": [
        {
          "output_type": "stream",
          "name": "stdout",
          "text": [
            "Original set: {1, 2, 3, 4, 5, 6}\n",
            "Converted tuple: (1, 2, 3, 4, 5, 6)\n"
          ]
        }
      ]
    },
    {
      "cell_type": "markdown",
      "source": [
        "## 38. Find the maximum value in a set."
      ],
      "metadata": {
        "id": "oxbE7jviCMuG"
      }
    },
    {
      "cell_type": "code",
      "source": [
        "my_set = {23,12,45,87,95,100}\n",
        "max_value = None\n",
        "for num in my_set:\n",
        "  if max_value is None or num > max_value:\n",
        "    max_value = num\n",
        "print(\"Maximun Value:\", max_value)"
      ],
      "metadata": {
        "colab": {
          "base_uri": "https://localhost:8080/"
        },
        "id": "YBqyuxmbCEvL",
        "outputId": "db03544d-531e-4655-cb21-38e31fa0443e"
      },
      "execution_count": null,
      "outputs": [
        {
          "output_type": "stream",
          "name": "stdout",
          "text": [
            "Maximun Value: 100\n"
          ]
        }
      ]
    },
    {
      "cell_type": "markdown",
      "source": [
        "## 39. Find the minimum value in a set."
      ],
      "metadata": {
        "id": "cLsMsHZYDKr8"
      }
    },
    {
      "cell_type": "code",
      "source": [
        "my_set = {23,12,45,87,95,100}\n",
        "min_value = None\n",
        "for num in my_set:\n",
        "  if min_value is None or num < min_value:\n",
        "    min_value = num\n",
        "print(\"Manimum Value:\", min_value)"
      ],
      "metadata": {
        "colab": {
          "base_uri": "https://localhost:8080/"
        },
        "id": "dDPOwXuPDKfq",
        "outputId": "af394b64-e6ca-4885-9659-6cff2389bc34"
      },
      "execution_count": null,
      "outputs": [
        {
          "output_type": "stream",
          "name": "stdout",
          "text": [
            "Manimum Value: 12\n"
          ]
        }
      ]
    },
    {
      "cell_type": "markdown",
      "source": [
        "## 40. Create a set from user input."
      ],
      "metadata": {
        "id": "TF9FtgrGDeDn"
      }
    },
    {
      "cell_type": "code",
      "source": [
        "user_set = set()\n",
        "print(\"Enter elements for the set (type 'done' to finish):\")\n",
        "while True:\n",
        "  user_input = input(\"> \")\n",
        "\n",
        "  if user_input.lower() == 'done':\n",
        "    break\n",
        "  user_set.add(user_input)\n",
        "print(\"Final set:\", user_set)"
      ],
      "metadata": {
        "colab": {
          "base_uri": "https://localhost:8080/"
        },
        "id": "41bymnhFC9vn",
        "outputId": "cf18b9a5-bbe6-46ce-d955-4108bb84e54b"
      },
      "execution_count": null,
      "outputs": [
        {
          "output_type": "stream",
          "name": "stdout",
          "text": [
            "Enter elements for the set (type 'done' to finish):\n",
            "> abhishek\n",
            "> data scine\n",
            "> nagpur\n",
            "> orange\n",
            "> done\n",
            "Final set: {'orange', 'data scine', 'abhishek', 'nagpur'}\n"
          ]
        }
      ]
    },
    {
      "cell_type": "markdown",
      "source": [
        "## 41. Check if the intersection of two sets is empty."
      ],
      "metadata": {
        "id": "rh58-2k8HvFB"
      }
    },
    {
      "cell_type": "code",
      "source": [
        "set1 = {1,2,3,4,5}\n",
        "set2 = {4,5,6,7,8}\n",
        "intersection_reseult = set1.intersection(set2)\n",
        "if not intersection_result:\n",
        "  print(\"The intersection of the two sets is empty\")\n",
        "else:\n",
        "  print(\"The intersection of the two set is not empty\")\n"
      ],
      "metadata": {
        "colab": {
          "base_uri": "https://localhost:8080/"
        },
        "id": "P6QV_2vPHufF",
        "outputId": "d67c0594-13cf-47e7-c39b-f760bb2026c9"
      },
      "execution_count": null,
      "outputs": [
        {
          "output_type": "stream",
          "name": "stdout",
          "text": [
            "The intersection of the two set is not empty\n"
          ]
        }
      ]
    },
    {
      "cell_type": "markdown",
      "source": [
        "## 42. Create a set of the first 5 Fibonacci numbers."
      ],
      "metadata": {
        "id": "3vppINdXHuRN"
      }
    },
    {
      "cell_type": "code",
      "source": [
        "fibonacci_set = set()\n",
        "a,b = 0,1\n",
        "for _ in range(6):\n",
        "  fibonacci_set.add(a)\n",
        "  a,b = b, a + b\n",
        "print(\"set of the first 5 Fibonacci numbers:\",fibonacci_set )"
      ],
      "metadata": {
        "colab": {
          "base_uri": "https://localhost:8080/"
        },
        "id": "XiK23NrwIfd9",
        "outputId": "e5effff2-a6a4-46ca-f0de-1a74a8e0c494"
      },
      "execution_count": null,
      "outputs": [
        {
          "output_type": "stream",
          "name": "stdout",
          "text": [
            "set of the first 5 Fibonacci numbers: {0, 1, 2, 3, 5}\n"
          ]
        }
      ]
    },
    {
      "cell_type": "markdown",
      "source": [
        "## 43. Remove duplicates from a list using sets."
      ],
      "metadata": {
        "id": "v4t8EKS8JgzC"
      }
    },
    {
      "cell_type": "code",
      "source": [
        "original_list = [1,2,3,4,2,4,5,6,7,3,5,4,7,8,9]\n",
        "unique_set = set(original_list)\n",
        "unique_list = list(unique_set)\n",
        "print(\"Original List:\", original_list)\n",
        "print(\"List with Duplicates Removed:\", unique_list)"
      ],
      "metadata": {
        "colab": {
          "base_uri": "https://localhost:8080/"
        },
        "id": "bHQNO955JmGZ",
        "outputId": "eebdf6df-c1a4-437a-d046-5740781b0aa0"
      },
      "execution_count": null,
      "outputs": [
        {
          "output_type": "stream",
          "name": "stdout",
          "text": [
            "Original List: [1, 2, 3, 4, 2, 4, 5, 6, 7, 3, 5, 4, 7, 8, 9]\n",
            "List with Duplicates Removed: [1, 2, 3, 4, 5, 6, 7, 8, 9]\n"
          ]
        }
      ]
    },
    {
      "cell_type": "markdown",
      "source": [
        "## 44. Check if two sets have the same elements, regardless of their count."
      ],
      "metadata": {
        "id": "lXeFNw2EKayq"
      }
    },
    {
      "cell_type": "code",
      "source": [
        "def have_same_element(set1,set2):\n",
        "  sorted_list = sorted(list(set1))\n",
        "  sorted_list = sorted(list(set2))\n",
        "  return sorted_list1 == sorted_list2\n",
        "\n",
        "set1 = {1,2,3,2,1}\n",
        "set2 = {3,1,2}\n",
        "\n",
        "result = have_same_elements(set1, set2)\n",
        "\n",
        "if result:\n",
        "  print(\"The sets have the same elements.\")\n",
        "else:\n",
        "  print(\"The sets do not have the same elements.\")\n"
      ],
      "metadata": {
        "colab": {
          "base_uri": "https://localhost:8080/"
        },
        "id": "_v7N_B30KX8c",
        "outputId": "3515b36f-09f4-4df6-d625-128ed1dc0481"
      },
      "execution_count": null,
      "outputs": [
        {
          "output_type": "stream",
          "name": "stdout",
          "text": [
            "The sets have the same elements.\n"
          ]
        }
      ]
    },
    {
      "cell_type": "markdown",
      "source": [
        "## 45. Create a set of the first `n` powers of 2."
      ],
      "metadata": {
        "id": "8N3KcRxaL2or"
      }
    },
    {
      "cell_type": "code",
      "source": [
        "def generate_powers_of_2(n):\n",
        "  powers_of_2 = set()\n",
        "  for i in range(n):\n",
        "    power = 2 ** i\n",
        "\n",
        "    powers_of_2.add(power)\n",
        "  return powers_of_2\n",
        "\n",
        "n = 5\n",
        "\n",
        "powers_set = generate_powers_of_2(n)\n",
        "print(powers_set)"
      ],
      "metadata": {
        "colab": {
          "base_uri": "https://localhost:8080/"
        },
        "id": "BKX3qPkJLxO7",
        "outputId": "39cebc8f-76ce-496b-cfbc-3d1d87a459fa"
      },
      "execution_count": null,
      "outputs": [
        {
          "output_type": "stream",
          "name": "stdout",
          "text": [
            "{1, 2, 4, 8, 16}\n"
          ]
        }
      ]
    },
    {
      "cell_type": "markdown",
      "source": [
        "## 46. Find the common elements between a set and a list."
      ],
      "metadata": {
        "id": "u2NvYzVPOMoe"
      }
    },
    {
      "cell_type": "code",
      "source": [
        "my_set = {3,5,6,2,18,8,9}\n",
        "my_list = [2,18,8,9]\n",
        "list_to_set = set(my_list)\n",
        "common_elements = []\n",
        "for element in my_set:\n",
        "  if element in list_to_set:\n",
        "    common_elements.append(element)\n",
        "print(\"Common elements:\", common_elements)"
      ],
      "metadata": {
        "colab": {
          "base_uri": "https://localhost:8080/"
        },
        "id": "HFMETTR6NzCt",
        "outputId": "dec52378-c97a-4faf-9f0c-942b08ad89ba"
      },
      "execution_count": null,
      "outputs": [
        {
          "output_type": "stream",
          "name": "stdout",
          "text": [
            "Common elements: [2, 18, 8, 9]\n"
          ]
        }
      ]
    },
    {
      "cell_type": "markdown",
      "source": [
        "## 47. Create a set of the first `n` triangular numbers."
      ],
      "metadata": {
        "id": "p9UayL5VPYwh"
      }
    },
    {
      "cell_type": "code",
      "source": [
        "def generate_triangular_numbers(n):\n",
        "  triangular_numbers = set()\n",
        "  for i in range(1, n + 1):\n",
        "    triangular_number = i * (i + 1) // 2\n",
        "    triangular_numbers.add(triangular_number)\n",
        "  return triangular_numbers\n",
        "n = int(input(\"enter the value of n :\"))\n",
        "triangular_set = generate_triangular_numbers(n)\n",
        "print(f\"The set of the first {n} triangular numbers is:\", triangular_set)"
      ],
      "metadata": {
        "colab": {
          "base_uri": "https://localhost:8080/"
        },
        "id": "Det4azYmPHzt",
        "outputId": "e77642e2-72fa-435a-b0bc-cbd476e8043c"
      },
      "execution_count": null,
      "outputs": [
        {
          "output_type": "stream",
          "name": "stdout",
          "text": [
            "enter the value of n :12\n",
            "The set of the first 12 triangular numbers is: {1, 66, 3, 36, 6, 10, 45, 78, 15, 21, 55, 28}\n"
          ]
        }
      ]
    },
    {
      "cell_type": "markdown",
      "source": [
        "## 48. Check if a set contains another set as a subset."
      ],
      "metadata": {
        "id": "Ea3kCmf2YWPA"
      }
    },
    {
      "cell_type": "code",
      "source": [
        "\n",
        "set1 = {1, 2, 3, 4, 5}\n",
        "set2 = {3, 4}\n",
        "is_subset = set2.issubset(set1)\n",
        "\n",
        "if is_subset:\n",
        "    print(\"set2 is a subset of set1\")\n",
        "else:\n",
        "    print(\"set2 is not a subset of set1\")"
      ],
      "metadata": {
        "colab": {
          "base_uri": "https://localhost:8080/"
        },
        "id": "IdI6_kbTYV6F",
        "outputId": "6dd73135-f795-4cd6-cba7-2386ed8fbd2b"
      },
      "execution_count": null,
      "outputs": [
        {
          "output_type": "stream",
          "name": "stdout",
          "text": [
            "set2 is a subset of set1\n"
          ]
        }
      ]
    },
    {
      "cell_type": "markdown",
      "source": [
        "## 49. Create a set of alternating 1s and 0s of length `n`.\n"
      ],
      "metadata": {
        "id": "CS17IoJudwYh"
      }
    },
    {
      "cell_type": "code",
      "source": [
        "def create_alternating_set(n):\n",
        "  alternating_set = set()\n",
        "  for i in range(n):\n",
        "    if i % 2 == 0:\n",
        "      alternating_set.add(1)\n",
        "    else :\n",
        "      alternating_set.add(0)\n",
        "  return alternating_set\n",
        "\n",
        "length_n= 10\n",
        "result = create_alternating_set(length_n)\n",
        "print(result)"
      ],
      "metadata": {
        "colab": {
          "base_uri": "https://localhost:8080/"
        },
        "id": "OHN2oL10enVu",
        "outputId": "33991842-9264-41eb-8bee-9ee2d9e60754"
      },
      "execution_count": null,
      "outputs": [
        {
          "output_type": "stream",
          "name": "stdout",
          "text": [
            "{0, 1}\n"
          ]
        }
      ]
    },
    {
      "cell_type": "markdown",
      "source": [
        "## 50. Merge multiple sets into one."
      ],
      "metadata": {
        "id": "_Rsk-NcelXxN"
      }
    },
    {
      "cell_type": "code",
      "source": [
        "set1 = {1, 2, 3}\n",
        "set2 = {3, 4, 5}\n",
        "set3 = {5, 6, 7}\n",
        "\n",
        "merged_set = set1.union(set2, set3)\n",
        "\n",
        "print(\"Merged Set:\", merged_set)"
      ],
      "metadata": {
        "colab": {
          "base_uri": "https://localhost:8080/"
        },
        "id": "-Ie9UTWZfqZv",
        "outputId": "513707ff-b9ea-4a26-9a49-5c2b62ac2b80"
      },
      "execution_count": null,
      "outputs": [
        {
          "output_type": "stream",
          "name": "stdout",
          "text": [
            "Merged Set: {1, 2, 3, 4, 5, 6, 7}\n"
          ]
        }
      ]
    },
    {
      "cell_type": "code",
      "source": [],
      "metadata": {
        "id": "G82gkIjEu1i0"
      },
      "execution_count": null,
      "outputs": []
    }
  ]
}